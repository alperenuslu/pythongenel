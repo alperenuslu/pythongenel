{
 "cells": [
  {
   "cell_type": "markdown",
   "id": "6a6932bc",
   "metadata": {},
   "source": [
    "# Class Variable"
   ]
  },
  {
   "cell_type": "code",
   "execution_count": 1,
   "id": "2b06fb70",
   "metadata": {},
   "outputs": [],
   "source": [
    "class Employee:\n",
    "    def __init__(self,name,last,age,pay):\n",
    "        self.name=name\n",
    "        self.last=last\n",
    "        self.age=age\n",
    "        self.pay=pay"
   ]
  },
  {
   "cell_type": "code",
   "execution_count": 2,
   "id": "3a133291",
   "metadata": {},
   "outputs": [],
   "source": [
    "emp_1=Employee(\"James\",\"Hughes\",32,5000)"
   ]
  },
  {
   "cell_type": "code",
   "execution_count": 3,
   "id": "c5bebb43",
   "metadata": {},
   "outputs": [],
   "source": [
    "emp_2=Employee(\"Charlie\",\"Brown\",22,3000)"
   ]
  },
  {
   "cell_type": "markdown",
   "id": "8b3b00e7",
   "metadata": {},
   "source": [
    "* Instance Variable:Classtan yaratılan objelerin kendilerine özgü değişkenleri. Bu örnekteki name,last,age,pay gibi\n",
    "* Class Variable:Classtan yaratılan tüm objelerde paylaşılan değişkenler\n",
    "* Instance variable her obje için farklı olabilir, ama class variable hepsi için aynı olmak zorunda\n",
    "* Tüm çalışanlar arasında hangi verinin paylaşılmasını isteyebilirim? Mesela şirket herkese aynı yüzdelik zam uyguluyorsa bunun yüzdesini class variableı olarak tutabilirim"
   ]
  },
  {
   "cell_type": "code",
   "execution_count": 4,
   "id": "f4accecf",
   "metadata": {},
   "outputs": [],
   "source": [
    "class Employee:\n",
    "    raise_percent=1.05\n",
    "    def __init__(self,name,last,age,pay):\n",
    "        self.name=name\n",
    "        self.last=last\n",
    "        self.age=age\n",
    "        self.pay=pay\n",
    "    def appyl_raise(self):\n",
    "        self.pay=self.pay*raise_percent"
   ]
  },
  {
   "cell_type": "code",
   "execution_count": 5,
   "id": "65c27df4",
   "metadata": {},
   "outputs": [],
   "source": [
    "emp_1=Employee(\"James\",\"Hughes\",32,5000)"
   ]
  },
  {
   "cell_type": "code",
   "execution_count": 6,
   "id": "b4ae9ac2",
   "metadata": {},
   "outputs": [],
   "source": [
    "emp_2=Employee(\"Charlie\",\"Brown\",22,3000)"
   ]
  },
  {
   "cell_type": "code",
   "execution_count": 7,
   "id": "68607944",
   "metadata": {},
   "outputs": [
    {
     "ename": "NameError",
     "evalue": "name 'raise_percent' is not defined",
     "output_type": "error",
     "traceback": [
      "\u001b[1;31m---------------------------------------------------------------------------\u001b[0m",
      "\u001b[1;31mNameError\u001b[0m                                 Traceback (most recent call last)",
      "Input \u001b[1;32mIn [7]\u001b[0m, in \u001b[0;36m<cell line: 1>\u001b[1;34m()\u001b[0m\n\u001b[1;32m----> 1\u001b[0m \u001b[43memp_1\u001b[49m\u001b[38;5;241;43m.\u001b[39;49m\u001b[43mappyl_raise\u001b[49m\u001b[43m(\u001b[49m\u001b[43m)\u001b[49m\n",
      "Input \u001b[1;32mIn [4]\u001b[0m, in \u001b[0;36mEmployee.appyl_raise\u001b[1;34m(self)\u001b[0m\n\u001b[0;32m      8\u001b[0m \u001b[38;5;28;01mdef\u001b[39;00m \u001b[38;5;21mappyl_raise\u001b[39m(\u001b[38;5;28mself\u001b[39m):\n\u001b[1;32m----> 9\u001b[0m     \u001b[38;5;28mself\u001b[39m\u001b[38;5;241m.\u001b[39mpay\u001b[38;5;241m=\u001b[39m\u001b[38;5;28mself\u001b[39m\u001b[38;5;241m.\u001b[39mpay\u001b[38;5;241m*\u001b[39m\u001b[43mraise_percent\u001b[49m\n",
      "\u001b[1;31mNameError\u001b[0m: name 'raise_percent' is not defined"
     ]
    }
   ],
   "source": [
    "emp_1.appyl_raise()"
   ]
  },
  {
   "cell_type": "markdown",
   "id": "b1bcafb8",
   "metadata": {},
   "source": [
    "* Class variablelarına ulaşmak için ya genel Class üzerinden ya da o sırada oluşturduğumuz obje üzerinden ulaşmamız lazım"
   ]
  },
  {
   "cell_type": "code",
   "execution_count": 8,
   "id": "02a1f1aa",
   "metadata": {},
   "outputs": [
    {
     "data": {
      "text/plain": [
       "1.05"
      ]
     },
     "execution_count": 8,
     "metadata": {},
     "output_type": "execute_result"
    }
   ],
   "source": [
    "emp_1.raise_percent"
   ]
  },
  {
   "cell_type": "code",
   "execution_count": 9,
   "id": "f952bb36",
   "metadata": {},
   "outputs": [
    {
     "data": {
      "text/plain": [
       "1.05"
      ]
     },
     "execution_count": 9,
     "metadata": {},
     "output_type": "execute_result"
    }
   ],
   "source": [
    "Employee.raise_percent"
   ]
  },
  {
   "cell_type": "code",
   "execution_count": 10,
   "id": "2c18896c",
   "metadata": {},
   "outputs": [],
   "source": [
    "class Employee:\n",
    "    raise_percent=1.05\n",
    "    def __init__(self,name,last,age,pay):\n",
    "        self.name=name\n",
    "        self.last=last\n",
    "        self.age=age\n",
    "        self.pay=pay\n",
    "    def appyl_raise(self):\n",
    "        self.pay=self.pay* Employee.raise_percent"
   ]
  },
  {
   "cell_type": "code",
   "execution_count": 12,
   "id": "b3270bc4",
   "metadata": {},
   "outputs": [],
   "source": [
    "emp_1=Employee(\"James\",\"Hughes\",32,5000)"
   ]
  },
  {
   "cell_type": "code",
   "execution_count": 13,
   "id": "8c09c887",
   "metadata": {},
   "outputs": [],
   "source": [
    "emp_2=Employee(\"Charlie\",\"Brown\",22,3000)"
   ]
  },
  {
   "cell_type": "code",
   "execution_count": 14,
   "id": "f8250ea1",
   "metadata": {},
   "outputs": [
    {
     "data": {
      "text/plain": [
       "5000"
      ]
     },
     "execution_count": 14,
     "metadata": {},
     "output_type": "execute_result"
    }
   ],
   "source": [
    "emp_1.pay"
   ]
  },
  {
   "cell_type": "code",
   "execution_count": 15,
   "id": "589e6880",
   "metadata": {},
   "outputs": [],
   "source": [
    "emp_1.appyl_raise()"
   ]
  },
  {
   "cell_type": "code",
   "execution_count": 17,
   "id": "dcca7e63",
   "metadata": {},
   "outputs": [
    {
     "data": {
      "text/plain": [
       "5250.0"
      ]
     },
     "execution_count": 17,
     "metadata": {},
     "output_type": "execute_result"
    }
   ],
   "source": [
    "emp_1.pay"
   ]
  },
  {
   "cell_type": "code",
   "execution_count": 18,
   "id": "f0c69be7",
   "metadata": {},
   "outputs": [
    {
     "data": {
      "text/plain": [
       "3000"
      ]
     },
     "execution_count": 18,
     "metadata": {},
     "output_type": "execute_result"
    }
   ],
   "source": [
    "emp_2.pay"
   ]
  },
  {
   "cell_type": "code",
   "execution_count": 19,
   "id": "36864d81",
   "metadata": {},
   "outputs": [],
   "source": [
    "emp_2.appyl_raise()"
   ]
  },
  {
   "cell_type": "code",
   "execution_count": 20,
   "id": "526053d5",
   "metadata": {},
   "outputs": [
    {
     "data": {
      "text/plain": [
       "3150.0"
      ]
     },
     "execution_count": 20,
     "metadata": {},
     "output_type": "execute_result"
    }
   ],
   "source": [
    "emp_2.pay"
   ]
  },
  {
   "cell_type": "code",
   "execution_count": 21,
   "id": "22d6e3f3",
   "metadata": {},
   "outputs": [],
   "source": [
    "class Employee:\n",
    "    raise_percent=1.05\n",
    "    def __init__(self,name,last,age,pay):\n",
    "        self.name=name\n",
    "        self.last=last\n",
    "        self.age=age\n",
    "        self.pay=pay\n",
    "    def appyl_raise(self):\n",
    "        self.pay=self.pay* self.raise_percent"
   ]
  },
  {
   "cell_type": "code",
   "execution_count": 22,
   "id": "01527f81",
   "metadata": {},
   "outputs": [],
   "source": [
    "emp_1=Employee(\"James\",\"Hughes\",32,5000)"
   ]
  },
  {
   "cell_type": "code",
   "execution_count": 23,
   "id": "257cbb0b",
   "metadata": {},
   "outputs": [],
   "source": [
    "emp_2=Employee(\"Charlie\",\"Brown\",22,3000)"
   ]
  },
  {
   "cell_type": "code",
   "execution_count": 24,
   "id": "3e634d11",
   "metadata": {},
   "outputs": [
    {
     "data": {
      "text/plain": [
       "5000"
      ]
     },
     "execution_count": 24,
     "metadata": {},
     "output_type": "execute_result"
    }
   ],
   "source": [
    "emp_1.pay"
   ]
  },
  {
   "cell_type": "code",
   "execution_count": 25,
   "id": "5839199c",
   "metadata": {},
   "outputs": [],
   "source": [
    "emp_1.appyl_raise()"
   ]
  },
  {
   "cell_type": "code",
   "execution_count": 26,
   "id": "7ab0a824",
   "metadata": {},
   "outputs": [
    {
     "data": {
      "text/plain": [
       "5250.0"
      ]
     },
     "execution_count": 26,
     "metadata": {},
     "output_type": "execute_result"
    }
   ],
   "source": [
    "emp_1.pay"
   ]
  },
  {
   "cell_type": "markdown",
   "id": "278b379c",
   "metadata": {},
   "source": [
    "* emp_1.raise_percent->ilk olarak bu instance a bakar, eğer bulamazsa class variable olarak var mı diye bakar"
   ]
  },
  {
   "cell_type": "code",
   "execution_count": 27,
   "id": "ce8c3e87",
   "metadata": {},
   "outputs": [
    {
     "name": "stdout",
     "output_type": "stream",
     "text": [
      "{'name': 'James', 'last': 'Hughes', 'age': 32, 'pay': 5250.0}\n"
     ]
    }
   ],
   "source": [
    "print(emp_1.__dict__) #objenin attribute larını döndürür"
   ]
  },
  {
   "cell_type": "code",
   "execution_count": 28,
   "id": "528adec0",
   "metadata": {},
   "outputs": [
    {
     "name": "stdout",
     "output_type": "stream",
     "text": [
      "{'__module__': '__main__', 'raise_percent': 1.05, '__init__': <function Employee.__init__ at 0x000002186225FE20>, 'appyl_raise': <function Employee.appyl_raise at 0x000002186225F130>, '__dict__': <attribute '__dict__' of 'Employee' objects>, '__weakref__': <attribute '__weakref__' of 'Employee' objects>, '__doc__': None}\n"
     ]
    }
   ],
   "source": [
    "print(Employee.__dict__)"
   ]
  },
  {
   "cell_type": "code",
   "execution_count": 29,
   "id": "afc4d635",
   "metadata": {},
   "outputs": [],
   "source": [
    "emp_1.experience=10"
   ]
  },
  {
   "cell_type": "code",
   "execution_count": 30,
   "id": "027c6e1b",
   "metadata": {},
   "outputs": [
    {
     "name": "stdout",
     "output_type": "stream",
     "text": [
      "{'name': 'James', 'last': 'Hughes', 'age': 32, 'pay': 5250.0, 'experience': 10}\n"
     ]
    }
   ],
   "source": [
    "print(emp_1.__dict__)"
   ]
  },
  {
   "cell_type": "code",
   "execution_count": 32,
   "id": "d0a4ca5d",
   "metadata": {},
   "outputs": [
    {
     "name": "stdout",
     "output_type": "stream",
     "text": [
      "1.05\n",
      "1.05\n",
      "1.05\n"
     ]
    }
   ],
   "source": [
    "print(emp_1.raise_percent)\n",
    "print(emp_2.raise_percent)\n",
    "print(Employee.raise_percent)"
   ]
  },
  {
   "cell_type": "code",
   "execution_count": 33,
   "id": "bd5d0b15",
   "metadata": {},
   "outputs": [],
   "source": [
    "Employee.raise_percent=1.06"
   ]
  },
  {
   "cell_type": "code",
   "execution_count": 35,
   "id": "8af247ff",
   "metadata": {
    "scrolled": true
   },
   "outputs": [
    {
     "name": "stdout",
     "output_type": "stream",
     "text": [
      "{'__module__': '__main__', 'raise_percent': 1.06, '__init__': <function Employee.__init__ at 0x000002186225FE20>, 'appyl_raise': <function Employee.appyl_raise at 0x000002186225F130>, '__dict__': <attribute '__dict__' of 'Employee' objects>, '__weakref__': <attribute '__weakref__' of 'Employee' objects>, '__doc__': None}\n"
     ]
    }
   ],
   "source": [
    "print(Employee.__dict__)"
   ]
  },
  {
   "cell_type": "code",
   "execution_count": 36,
   "id": "6a47522a",
   "metadata": {
    "scrolled": true
   },
   "outputs": [
    {
     "name": "stdout",
     "output_type": "stream",
     "text": [
      "{'name': 'James', 'last': 'Hughes', 'age': 32, 'pay': 5250.0, 'experience': 10}\n"
     ]
    }
   ],
   "source": [
    "print(emp_1.__dict__)"
   ]
  },
  {
   "cell_type": "markdown",
   "id": "0e4733f4",
   "metadata": {},
   "source": [
    "* Class variableı Class üzerinden güncellemek hepsini günceller"
   ]
  },
  {
   "cell_type": "code",
   "execution_count": 34,
   "id": "438eae10",
   "metadata": {},
   "outputs": [
    {
     "name": "stdout",
     "output_type": "stream",
     "text": [
      "1.06\n",
      "1.06\n",
      "1.06\n"
     ]
    }
   ],
   "source": [
    "print(emp_1.raise_percent)\n",
    "print(emp_2.raise_percent)\n",
    "print(Employee.raise_percent)"
   ]
  },
  {
   "cell_type": "markdown",
   "id": "ca242f22",
   "metadata": {},
   "source": [
    "* Class variableı instance(classtan oluşturulan bir obje) üzerinde güncellemek, sadece o objenin o değerini günceller"
   ]
  },
  {
   "cell_type": "code",
   "execution_count": 37,
   "id": "d8c7e69a",
   "metadata": {},
   "outputs": [],
   "source": [
    "emp_1.raise_percent=1.07"
   ]
  },
  {
   "cell_type": "code",
   "execution_count": 38,
   "id": "c67d55c5",
   "metadata": {},
   "outputs": [
    {
     "name": "stdout",
     "output_type": "stream",
     "text": [
      "{'name': 'James', 'last': 'Hughes', 'age': 32, 'pay': 5250.0, 'experience': 10, 'raise_percent': 1.07}\n"
     ]
    }
   ],
   "source": [
    "print(emp_1.__dict__)"
   ]
  },
  {
   "cell_type": "code",
   "execution_count": 39,
   "id": "9b9a570b",
   "metadata": {},
   "outputs": [
    {
     "name": "stdout",
     "output_type": "stream",
     "text": [
      "{'name': 'Charlie', 'last': 'Brown', 'age': 22, 'pay': 3000}\n"
     ]
    }
   ],
   "source": [
    "print(emp_2.__dict__)"
   ]
  },
  {
   "cell_type": "code",
   "execution_count": 40,
   "id": "254f8ba7",
   "metadata": {},
   "outputs": [
    {
     "name": "stdout",
     "output_type": "stream",
     "text": [
      "1.07\n",
      "1.06\n",
      "1.06\n"
     ]
    }
   ],
   "source": [
    "print(emp_1.raise_percent)\n",
    "print(emp_2.raise_percent)\n",
    "print(Employee.raise_percent)"
   ]
  },
  {
   "cell_type": "markdown",
   "id": "889957f3",
   "metadata": {},
   "source": [
    "### Kaç tane çalışan olduğunu class variableı olarak tutmak\n",
    "* Her yeni çalışan geldiğinde toplam çalışanı 1 arttırmak istiyorum"
   ]
  },
  {
   "cell_type": "code",
   "execution_count": 41,
   "id": "75da0e15",
   "metadata": {},
   "outputs": [],
   "source": [
    "class Employee:\n",
    "    raise_percent=1.05\n",
    "    num_emp=0\n",
    "    def __init__(self,name,last,age,pay):\n",
    "        self.name=name\n",
    "        self.last=last\n",
    "        self.age=age\n",
    "        self.pay=pay\n",
    "        Employee.num_emp+=1\n",
    "    def appyl_raise(self):\n",
    "        self.pay=self.pay* self.raise_percent"
   ]
  },
  {
   "cell_type": "code",
   "execution_count": 42,
   "id": "3474366a",
   "metadata": {},
   "outputs": [
    {
     "data": {
      "text/plain": [
       "0"
      ]
     },
     "execution_count": 42,
     "metadata": {},
     "output_type": "execute_result"
    }
   ],
   "source": [
    "Employee.num_emp"
   ]
  },
  {
   "cell_type": "code",
   "execution_count": 43,
   "id": "19c7f1f6",
   "metadata": {},
   "outputs": [],
   "source": [
    "emp_1=Employee(\"James\",\"Hughes\",32,5000)"
   ]
  },
  {
   "cell_type": "code",
   "execution_count": 44,
   "id": "8312c89e",
   "metadata": {},
   "outputs": [
    {
     "data": {
      "text/plain": [
       "1"
      ]
     },
     "execution_count": 44,
     "metadata": {},
     "output_type": "execute_result"
    }
   ],
   "source": [
    "Employee.num_emp"
   ]
  },
  {
   "cell_type": "code",
   "execution_count": 45,
   "id": "3c1aaff3",
   "metadata": {},
   "outputs": [],
   "source": [
    "emp_2=Employee(\"Charlie\",\"Brown\",22,3000)"
   ]
  },
  {
   "cell_type": "code",
   "execution_count": 46,
   "id": "62e6cb85",
   "metadata": {},
   "outputs": [
    {
     "data": {
      "text/plain": [
       "2"
      ]
     },
     "execution_count": 46,
     "metadata": {},
     "output_type": "execute_result"
    }
   ],
   "source": [
    "Employee.num_emp"
   ]
  },
  {
   "cell_type": "code",
   "execution_count": null,
   "id": "5e16bf6c",
   "metadata": {},
   "outputs": [],
   "source": []
  }
 ],
 "metadata": {
  "kernelspec": {
   "display_name": "Python 3 (ipykernel)",
   "language": "python",
   "name": "python3"
  },
  "language_info": {
   "codemirror_mode": {
    "name": "ipython",
    "version": 3
   },
   "file_extension": ".py",
   "mimetype": "text/x-python",
   "name": "python",
   "nbconvert_exporter": "python",
   "pygments_lexer": "ipython3",
   "version": "3.10.5"
  }
 },
 "nbformat": 4,
 "nbformat_minor": 5
}
