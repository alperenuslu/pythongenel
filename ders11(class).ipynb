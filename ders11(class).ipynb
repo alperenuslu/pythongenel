{
 "cells": [
  {
   "cell_type": "markdown",
   "id": "168ce51a",
   "metadata": {},
   "source": [
    "# Class Tanımlamak\n",
    "* Fonksiyonlarda belirli fonksiyonalite ifade eden kodları bir araya getirmeyi görmüştük. Class mantığında hem fonksiyonalite hem de veriyi bir arada tutma yoluna bakacağız.\n",
    "* Class ın içerisindeki veri(data)lara attribute, fonksiyonlara method diyeceğiz.\n",
    "* Diyelim ki bir iş yeri çalışanları kodumuzda ifade etmek istiyoruz. Sanki bu class mantığıyla uyumlu. Her çalışanın farklı farklı özellikleri (attribute)ları ve yaptıkları şeyler (methodları) olacak.\n",
    "* Fonksiyon tanımlarken def kullanıyorduk, class yaratırken class ile tanımlayacağız.\n",
    "* Classın içerisinde method yaratırken, classtan yaratılan objeyi methodlar ilk arguman olarak alırlar. İstediğimiz adı verebiliriz ama genellikle self diye geçer."
   ]
  },
  {
   "cell_type": "markdown",
   "id": "66c35db2",
   "metadata": {},
   "source": [
    "### Attribute"
   ]
  },
  {
   "cell_type": "code",
   "execution_count": 1,
   "id": "6d0529c9",
   "metadata": {},
   "outputs": [
    {
     "ename": "SyntaxError",
     "evalue": "incomplete input (3505898793.py, line 1)",
     "output_type": "error",
     "traceback": [
      "\u001b[1;36m  Input \u001b[1;32mIn [1]\u001b[1;36m\u001b[0m\n\u001b[1;33m    class Employee:\u001b[0m\n\u001b[1;37m                   ^\u001b[0m\n\u001b[1;31mSyntaxError\u001b[0m\u001b[1;31m:\u001b[0m incomplete input\n"
     ]
    }
   ],
   "source": [
    "class Employee:"
   ]
  },
  {
   "cell_type": "code",
   "execution_count": 2,
   "id": "dce56705",
   "metadata": {},
   "outputs": [],
   "source": [
    "class Employee:\n",
    "    pass"
   ]
  },
  {
   "cell_type": "code",
   "execution_count": 3,
   "id": "21d7e56f",
   "metadata": {},
   "outputs": [],
   "source": [
    "e=Employee()"
   ]
  },
  {
   "cell_type": "code",
   "execution_count": 4,
   "id": "d0bf3915",
   "metadata": {},
   "outputs": [],
   "source": [
    "#e objesine \"a\" attribute u ekledik\n",
    "e.a=4"
   ]
  },
  {
   "cell_type": "code",
   "execution_count": 5,
   "id": "1ad0cade",
   "metadata": {},
   "outputs": [
    {
     "data": {
      "text/plain": [
       "4"
      ]
     },
     "execution_count": 5,
     "metadata": {},
     "output_type": "execute_result"
    }
   ],
   "source": [
    "e.a"
   ]
  },
  {
   "cell_type": "markdown",
   "id": "c1bfb474",
   "metadata": {},
   "source": [
    "* Böyle tek tek belirtmek yerine en başta oluştururken de attribute ları verebiliriz"
   ]
  },
  {
   "cell_type": "code",
   "execution_count": 6,
   "id": "296d965e",
   "metadata": {},
   "outputs": [],
   "source": [
    "class Employee:\n",
    "    def __init__(self,name,last,age,pay):\n",
    "        self.name=name\n",
    "        self.last=last\n",
    "        self.age=age\n",
    "        self.pay=pay"
   ]
  },
  {
   "cell_type": "markdown",
   "id": "a4579724",
   "metadata": {},
   "source": [
    "* Class bunlardan objeler yaratmak için bir kalıptır sadece!"
   ]
  },
  {
   "cell_type": "code",
   "execution_count": 7,
   "id": "af85f1c9",
   "metadata": {},
   "outputs": [],
   "source": [
    "emp_1=Employee(\"James\",\"Hughes\",32,5000)"
   ]
  },
  {
   "cell_type": "markdown",
   "id": "229453c9",
   "metadata": {},
   "source": [
    "* Yukarıda yarattığımız bir obje oldu, Employee classının bir objesi"
   ]
  },
  {
   "cell_type": "code",
   "execution_count": 8,
   "id": "bd05e0f0",
   "metadata": {},
   "outputs": [],
   "source": [
    "emp_2=Employee(\"Charlie\",\"Brown\",22,3000)"
   ]
  },
  {
   "cell_type": "code",
   "execution_count": 9,
   "id": "9965379a",
   "metadata": {
    "scrolled": true
   },
   "outputs": [
    {
     "data": {
      "text/plain": [
       "'James'"
      ]
     },
     "execution_count": 9,
     "metadata": {},
     "output_type": "execute_result"
    }
   ],
   "source": [
    "emp_1.name"
   ]
  },
  {
   "cell_type": "code",
   "execution_count": 10,
   "id": "5e32dded",
   "metadata": {},
   "outputs": [
    {
     "data": {
      "text/plain": [
       "22"
      ]
     },
     "execution_count": 10,
     "metadata": {},
     "output_type": "execute_result"
    }
   ],
   "source": [
    "emp_2.age"
   ]
  },
  {
   "cell_type": "markdown",
   "id": "8bbe533e",
   "metadata": {},
   "source": [
    "* Burada yarattığımız bütün attributelar instance variable. Her obje(classtan yaratılan instance),kendine özel attributea sahip(iki kişinin adı aynı olabilir, ama hepsi için ayrı bir variable var ve hepsi kendi age attributeunda tutuyor)"
   ]
  },
  {
   "cell_type": "markdown",
   "id": "48764959",
   "metadata": {},
   "source": [
    "### Method"
   ]
  },
  {
   "cell_type": "code",
   "execution_count": 16,
   "id": "fc37b4cc",
   "metadata": {},
   "outputs": [],
   "source": [
    "class Employee:\n",
    "    def __init__(self,name,last,age,pay):\n",
    "        self.name=name\n",
    "        self.last=last\n",
    "        self.age=age\n",
    "        self.pay=pay\n",
    "    def fullname(self):\n",
    "        print(f\"{self.name} {self.last}\")"
   ]
  },
  {
   "cell_type": "code",
   "execution_count": 17,
   "id": "ba185201",
   "metadata": {},
   "outputs": [],
   "source": [
    "emp_1=Employee(\"James\",\"Hughes\",32,5000)"
   ]
  },
  {
   "cell_type": "code",
   "execution_count": 18,
   "id": "e7a483aa",
   "metadata": {},
   "outputs": [],
   "source": [
    "emp_2=Employee(\"Charlie\",\"Brown\",22,3000)"
   ]
  },
  {
   "cell_type": "code",
   "execution_count": 19,
   "id": "f9077279",
   "metadata": {},
   "outputs": [
    {
     "name": "stdout",
     "output_type": "stream",
     "text": [
      "James Hughes\n"
     ]
    }
   ],
   "source": [
    "emp_1.fullname()"
   ]
  },
  {
   "cell_type": "code",
   "execution_count": 20,
   "id": "4acb8a38",
   "metadata": {},
   "outputs": [
    {
     "name": "stdout",
     "output_type": "stream",
     "text": [
      "Charlie Brown\n"
     ]
    }
   ],
   "source": [
    "emp_2.fullname()"
   ]
  },
  {
   "cell_type": "markdown",
   "id": "173d56f6",
   "metadata": {},
   "source": [
    "* self otomatik olarak aktarılıyor demiştim, eğer selfi argüman olarak vermezsek:"
   ]
  },
  {
   "cell_type": "code",
   "execution_count": 25,
   "id": "a11cb61f",
   "metadata": {},
   "outputs": [],
   "source": [
    "class Employee:\n",
    "    def __init__(self,name,last,age,pay):\n",
    "        self.name=name\n",
    "        self.last=last\n",
    "        self.age=age\n",
    "        self.pay=pay\n",
    "    def fullname():\n",
    "        print(f\"{self.name} {self.last}\")"
   ]
  },
  {
   "cell_type": "code",
   "execution_count": 26,
   "id": "54b27cad",
   "metadata": {},
   "outputs": [],
   "source": [
    "emp_1=Employee(\"James\",\"Hughes\",32,5000)"
   ]
  },
  {
   "cell_type": "code",
   "execution_count": 27,
   "id": "8fadda87",
   "metadata": {},
   "outputs": [
    {
     "ename": "TypeError",
     "evalue": "Employee.fullname() takes 0 positional arguments but 1 was given",
     "output_type": "error",
     "traceback": [
      "\u001b[1;31m---------------------------------------------------------------------------\u001b[0m",
      "\u001b[1;31mTypeError\u001b[0m                                 Traceback (most recent call last)",
      "Input \u001b[1;32mIn [27]\u001b[0m, in \u001b[0;36m<cell line: 1>\u001b[1;34m()\u001b[0m\n\u001b[1;32m----> 1\u001b[0m \u001b[43memp_1\u001b[49m\u001b[38;5;241;43m.\u001b[39;49m\u001b[43mfullname\u001b[49m\u001b[43m(\u001b[49m\u001b[43m)\u001b[49m\n",
      "\u001b[1;31mTypeError\u001b[0m: Employee.fullname() takes 0 positional arguments but 1 was given"
     ]
    }
   ],
   "source": [
    "emp_1.fullname()"
   ]
  },
  {
   "cell_type": "markdown",
   "id": "e1cdf81d",
   "metadata": {},
   "source": [
    "* self otomatik verildiği için, method tanımında onu belirtmezsek hata alıyoruz.\n",
    "* Aslında arka planda olan şu:"
   ]
  },
  {
   "cell_type": "code",
   "execution_count": 28,
   "id": "c7ee2051",
   "metadata": {},
   "outputs": [],
   "source": [
    "class Employee:\n",
    "    def __init__(self,name,last,age,pay):\n",
    "        self.name=name\n",
    "        self.last=last\n",
    "        self.age=age\n",
    "        self.pay=pay\n",
    "    def fullname(self):\n",
    "        print(f\"{self.name} {self.last}\")"
   ]
  },
  {
   "cell_type": "code",
   "execution_count": 29,
   "id": "5c8cf468",
   "metadata": {},
   "outputs": [],
   "source": [
    "emp_1=Employee(\"James\",\"Hughes\",32,5000)"
   ]
  },
  {
   "cell_type": "code",
   "execution_count": 30,
   "id": "9f58f58d",
   "metadata": {},
   "outputs": [
    {
     "name": "stdout",
     "output_type": "stream",
     "text": [
      "James Hughes\n"
     ]
    }
   ],
   "source": [
    "Employee.fullname(emp_1)"
   ]
  },
  {
   "cell_type": "code",
   "execution_count": null,
   "id": "8e534d93",
   "metadata": {},
   "outputs": [],
   "source": []
  }
 ],
 "metadata": {
  "kernelspec": {
   "display_name": "Python 3 (ipykernel)",
   "language": "python",
   "name": "python3"
  },
  "language_info": {
   "codemirror_mode": {
    "name": "ipython",
    "version": 3
   },
   "file_extension": ".py",
   "mimetype": "text/x-python",
   "name": "python",
   "nbconvert_exporter": "python",
   "pygments_lexer": "ipython3",
   "version": "3.10.5"
  }
 },
 "nbformat": 4,
 "nbformat_minor": 5
}
