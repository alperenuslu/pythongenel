{
 "cells": [
  {
   "cell_type": "markdown",
   "id": "6a9f672c",
   "metadata": {},
   "source": [
    "# Inheritance\n",
    "* Inheritance belirttiğimiz başka classlardaki method ve attributelara erişmemizi sağlar.\n",
    "* Diyelim ki farklı tipte çalışanlar yaratmak istiyorum. IT ve HR çalışanları olsun."
   ]
  },
  {
   "cell_type": "code",
   "execution_count": 1,
   "id": "1300f7a6",
   "metadata": {},
   "outputs": [],
   "source": [
    "class Employee:\n",
    "    raise_percent=1.05\n",
    "    num_emp=0\n",
    "    def __init__(self,name,last,age,pay):\n",
    "        self.name=name\n",
    "        self.last=last\n",
    "        self.age=age\n",
    "        self.pay=pay\n",
    "        Employee.num_emp+=1\n",
    "    def appyl_raise(self):\n",
    "        self.pay=self.pay* self.raise_percent"
   ]
  },
  {
   "cell_type": "markdown",
   "id": "cba7d055",
   "metadata": {},
   "source": [
    "* Hangi classtan inherit etmek istediğimizi parantezin içine yazıyoruz."
   ]
  },
  {
   "cell_type": "markdown",
   "id": "4f7697b3",
   "metadata": {},
   "source": [
    "* Inherit ettiğimiz classa parent/superclass, inherit edene de child/subclass deniyor"
   ]
  },
  {
   "cell_type": "code",
   "execution_count": 2,
   "id": "af7a7455",
   "metadata": {},
   "outputs": [],
   "source": [
    "emp_1=Employee(\"James\",\"Hughes\",32,5000)"
   ]
  },
  {
   "cell_type": "code",
   "execution_count": 3,
   "id": "be2d4856",
   "metadata": {},
   "outputs": [],
   "source": [
    "emp_2=Employee(\"Charlie\",\"Brown\",22,3000)"
   ]
  },
  {
   "cell_type": "code",
   "execution_count": 4,
   "id": "07418c88",
   "metadata": {},
   "outputs": [],
   "source": [
    "class IT(Employee):\n",
    "    pass"
   ]
  },
  {
   "cell_type": "markdown",
   "id": "ba46d8ee",
   "metadata": {},
   "source": [
    "* IT nin içine bişey yazmasak da, Employeenin özelliklerine erişimi var\n",
    "* IT nin içerisinde bulamazsa aradığını, inherit ettiği yere gidip bakacak. IT nin içerisinde __init__ methodu yok, o yüzden gidip Employee classına bakacak"
   ]
  },
  {
   "cell_type": "code",
   "execution_count": 5,
   "id": "68ab1675",
   "metadata": {},
   "outputs": [],
   "source": [
    "it_1=IT(\"James\",\"Hughes\",32,5000)"
   ]
  },
  {
   "cell_type": "code",
   "execution_count": 6,
   "id": "c8e9a9b3",
   "metadata": {},
   "outputs": [
    {
     "data": {
      "text/plain": [
       "'James'"
      ]
     },
     "execution_count": 6,
     "metadata": {},
     "output_type": "execute_result"
    }
   ],
   "source": [
    "it_1.name"
   ]
  },
  {
   "cell_type": "code",
   "execution_count": 7,
   "id": "03c6d1fb",
   "metadata": {},
   "outputs": [
    {
     "data": {
      "text/plain": [
       "{'name': 'James', 'last': 'Hughes', 'age': 32, 'pay': 5000}"
      ]
     },
     "execution_count": 7,
     "metadata": {},
     "output_type": "execute_result"
    }
   ],
   "source": [
    "it_1.__dict__"
   ]
  },
  {
   "cell_type": "code",
   "execution_count": 8,
   "id": "b4753c22",
   "metadata": {
    "collapsed": true
   },
   "outputs": [
    {
     "name": "stdout",
     "output_type": "stream",
     "text": [
      "Help on class IT in module __main__:\n",
      "\n",
      "class IT(Employee)\n",
      " |  IT(name, last, age, pay)\n",
      " |  \n",
      " |  Method resolution order:\n",
      " |      IT\n",
      " |      Employee\n",
      " |      builtins.object\n",
      " |  \n",
      " |  Methods inherited from Employee:\n",
      " |  \n",
      " |  __init__(self, name, last, age, pay)\n",
      " |      Initialize self.  See help(type(self)) for accurate signature.\n",
      " |  \n",
      " |  appyl_raise(self)\n",
      " |  \n",
      " |  ----------------------------------------------------------------------\n",
      " |  Data descriptors inherited from Employee:\n",
      " |  \n",
      " |  __dict__\n",
      " |      dictionary for instance variables (if defined)\n",
      " |  \n",
      " |  __weakref__\n",
      " |      list of weak references to the object (if defined)\n",
      " |  \n",
      " |  ----------------------------------------------------------------------\n",
      " |  Data and other attributes inherited from Employee:\n",
      " |  \n",
      " |  num_emp = 3\n",
      " |  \n",
      " |  raise_percent = 1.05\n",
      "\n"
     ]
    }
   ],
   "source": [
    "help(IT)"
   ]
  },
  {
   "cell_type": "code",
   "execution_count": 9,
   "id": "6760222e",
   "metadata": {},
   "outputs": [
    {
     "data": {
      "text/plain": [
       "5000"
      ]
     },
     "execution_count": 9,
     "metadata": {},
     "output_type": "execute_result"
    }
   ],
   "source": [
    "it_1.pay"
   ]
  },
  {
   "cell_type": "code",
   "execution_count": 10,
   "id": "638aff07",
   "metadata": {},
   "outputs": [],
   "source": [
    "it_1.appyl_raise()"
   ]
  },
  {
   "cell_type": "code",
   "execution_count": 11,
   "id": "6d71742e",
   "metadata": {},
   "outputs": [
    {
     "data": {
      "text/plain": [
       "5250.0"
      ]
     },
     "execution_count": 11,
     "metadata": {},
     "output_type": "execute_result"
    }
   ],
   "source": [
    "it_1.pay"
   ]
  },
  {
   "cell_type": "markdown",
   "id": "002525ee",
   "metadata": {},
   "source": [
    "* Diyelim ki IT dekilerin yüzdelik maaş değişimini farklı bir değer olarak belirlemek istiyorum."
   ]
  },
  {
   "cell_type": "code",
   "execution_count": 12,
   "id": "93ce64f3",
   "metadata": {},
   "outputs": [],
   "source": [
    "class IT(Employee):\n",
    "    raise_percent=1.2"
   ]
  },
  {
   "cell_type": "code",
   "execution_count": 21,
   "id": "e92eb046",
   "metadata": {},
   "outputs": [],
   "source": [
    "it_1=IT(\"James\",\"Hughes\",32,5000)"
   ]
  },
  {
   "cell_type": "code",
   "execution_count": 22,
   "id": "fe3dfd67",
   "metadata": {},
   "outputs": [
    {
     "data": {
      "text/plain": [
       "5000"
      ]
     },
     "execution_count": 22,
     "metadata": {},
     "output_type": "execute_result"
    }
   ],
   "source": [
    "it_1.pay"
   ]
  },
  {
   "cell_type": "markdown",
   "id": "9f4459b1",
   "metadata": {},
   "source": [
    "* Employee nin raise_percent attribute unu kullanmak yerine kendisi içinde belirttiğimizi kullanıyor. Kendi içerisinde bulabilirse kullanıyor, bulamazsa inherit ettiği yere bakıyor"
   ]
  },
  {
   "cell_type": "code",
   "execution_count": 23,
   "id": "2bb7178d",
   "metadata": {},
   "outputs": [
    {
     "data": {
      "text/plain": [
       "1.2"
      ]
     },
     "execution_count": 23,
     "metadata": {},
     "output_type": "execute_result"
    }
   ],
   "source": [
    "it_1.raise_percent"
   ]
  },
  {
   "cell_type": "code",
   "execution_count": 24,
   "id": "5f09a9b0",
   "metadata": {},
   "outputs": [],
   "source": [
    "it_1.appyl_raise()"
   ]
  },
  {
   "cell_type": "code",
   "execution_count": 25,
   "id": "86f366c8",
   "metadata": {},
   "outputs": [
    {
     "data": {
      "text/plain": [
       "6000.0"
      ]
     },
     "execution_count": 25,
     "metadata": {},
     "output_type": "execute_result"
    }
   ],
   "source": [
    "it_1.pay"
   ]
  },
  {
   "cell_type": "markdown",
   "id": "1492ce14",
   "metadata": {},
   "source": [
    "* IT nin raise_percent ini değiştirmek, inherit ettiği yerinkini değiştirmez"
   ]
  },
  {
   "cell_type": "code",
   "execution_count": 26,
   "id": "5d8068ba",
   "metadata": {},
   "outputs": [
    {
     "data": {
      "text/plain": [
       "1.05"
      ]
     },
     "execution_count": 26,
     "metadata": {},
     "output_type": "execute_result"
    }
   ],
   "source": [
    "Employee.raise_percent"
   ]
  },
  {
   "cell_type": "markdown",
   "id": "07500f8b",
   "metadata": {},
   "source": [
    "* subclass ta yaptığımız değişiklik parent classı etkilemez\n",
    "* Diyelim ki IT cilere yeni bir özellik olarak hangi programlama dili bildiklerini de eklemek istiyorum"
   ]
  },
  {
   "cell_type": "code",
   "execution_count": 27,
   "id": "1700bd8a",
   "metadata": {},
   "outputs": [],
   "source": [
    "class IT(Employee):\n",
    "    raise_percent=1.2\n",
    "    def __init__(self,name,last,age,pay,lang):\n",
    "        self.name=name\n",
    "        self.last=last\n",
    "        self.age=age\n",
    "        self.pay=pay\n",
    "        self.lang=lang"
   ]
  },
  {
   "cell_type": "code",
   "execution_count": 28,
   "id": "1c872a79",
   "metadata": {},
   "outputs": [],
   "source": [
    "it_1=IT(\"James\",\"Hughes\",32,5000,\"python\")"
   ]
  },
  {
   "cell_type": "code",
   "execution_count": 29,
   "id": "88d314a2",
   "metadata": {},
   "outputs": [
    {
     "data": {
      "text/plain": [
       "'python'"
      ]
     },
     "execution_count": 29,
     "metadata": {},
     "output_type": "execute_result"
    }
   ],
   "source": [
    "it_1.lang"
   ]
  },
  {
   "cell_type": "markdown",
   "id": "03b2b975",
   "metadata": {},
   "source": [
    "* Ama bunun yerine şöylede yapılabilirdi"
   ]
  },
  {
   "cell_type": "code",
   "execution_count": 30,
   "id": "b102a70b",
   "metadata": {},
   "outputs": [],
   "source": [
    "class IT(Employee):\n",
    "    raise_percent=1.2\n",
    "    def __init__(self,name,last,age,pay,lang):\n",
    "        super().__init__(name,last,age,pay)\n",
    "        self.lang=lang"
   ]
  },
  {
   "cell_type": "markdown",
   "id": "d3cd9c0e",
   "metadata": {},
   "source": [
    "* Böylece kodu tekrar yazmamış olduk. Zaten superclassın init methodu yapıyorsa yeniden yazmaya gerek yok"
   ]
  },
  {
   "cell_type": "code",
   "execution_count": 32,
   "id": "73ab7c69",
   "metadata": {},
   "outputs": [],
   "source": [
    "it_1=IT(\"James\",\"Hughes\",32,5000,\"python\")"
   ]
  },
  {
   "cell_type": "code",
   "execution_count": 33,
   "id": "a78bb53d",
   "metadata": {},
   "outputs": [
    {
     "data": {
      "text/plain": [
       "'python'"
      ]
     },
     "execution_count": 33,
     "metadata": {},
     "output_type": "execute_result"
    }
   ],
   "source": [
    "it_1.lang"
   ]
  },
  {
   "cell_type": "code",
   "execution_count": 37,
   "id": "4a8bda4f",
   "metadata": {},
   "outputs": [],
   "source": [
    "class IK(Employee):\n",
    "    raise_percent=1.3\n",
    "    def __init__(self,name,last,age,pay,experience):\n",
    "        super().__init__(name,last,age,pay)\n",
    "        self.experience=experience\n",
    "    def print_exp(self):\n",
    "        print(f\"This employee has {self.experience} years of experience\")"
   ]
  },
  {
   "cell_type": "code",
   "execution_count": 39,
   "id": "e6a1895f",
   "metadata": {},
   "outputs": [],
   "source": [
    "ik_1=IK(\"Charlie\",\"Brown\",22,3000,12)"
   ]
  },
  {
   "cell_type": "code",
   "execution_count": 41,
   "id": "d30343db",
   "metadata": {},
   "outputs": [
    {
     "name": "stdout",
     "output_type": "stream",
     "text": [
      "This employee has 12 years of experience\n"
     ]
    }
   ],
   "source": [
    "ik_1.print_exp()"
   ]
  },
  {
   "cell_type": "code",
   "execution_count": 42,
   "id": "0b7c8beb",
   "metadata": {},
   "outputs": [
    {
     "data": {
      "text/plain": [
       "True"
      ]
     },
     "execution_count": 42,
     "metadata": {},
     "output_type": "execute_result"
    }
   ],
   "source": [
    "isinstance(ik_1,IK)"
   ]
  },
  {
   "cell_type": "code",
   "execution_count": 43,
   "id": "51fec35a",
   "metadata": {},
   "outputs": [
    {
     "data": {
      "text/plain": [
       "True"
      ]
     },
     "execution_count": 43,
     "metadata": {},
     "output_type": "execute_result"
    }
   ],
   "source": [
    "isinstance(ik_1,Employee)"
   ]
  },
  {
   "cell_type": "code",
   "execution_count": 44,
   "id": "d03f1b47",
   "metadata": {},
   "outputs": [
    {
     "data": {
      "text/plain": [
       "True"
      ]
     },
     "execution_count": 44,
     "metadata": {},
     "output_type": "execute_result"
    }
   ],
   "source": [
    "issubclass(IK,Employee)"
   ]
  },
  {
   "cell_type": "code",
   "execution_count": 45,
   "id": "cc990493",
   "metadata": {},
   "outputs": [
    {
     "data": {
      "text/plain": [
       "True"
      ]
     },
     "execution_count": 45,
     "metadata": {},
     "output_type": "execute_result"
    }
   ],
   "source": [
    "issubclass(IT,Employee)"
   ]
  },
  {
   "cell_type": "code",
   "execution_count": 46,
   "id": "8d542ea7",
   "metadata": {},
   "outputs": [
    {
     "data": {
      "text/plain": [
       "False"
      ]
     },
     "execution_count": 46,
     "metadata": {},
     "output_type": "execute_result"
    }
   ],
   "source": [
    "issubclass(IT,IK)"
   ]
  },
  {
   "cell_type": "code",
   "execution_count": null,
   "id": "c827de13",
   "metadata": {},
   "outputs": [],
   "source": []
  }
 ],
 "metadata": {
  "kernelspec": {
   "display_name": "Python 3 (ipykernel)",
   "language": "python",
   "name": "python3"
  },
  "language_info": {
   "codemirror_mode": {
    "name": "ipython",
    "version": 3
   },
   "file_extension": ".py",
   "mimetype": "text/x-python",
   "name": "python",
   "nbconvert_exporter": "python",
   "pygments_lexer": "ipython3",
   "version": "3.10.5"
  }
 },
 "nbformat": 4,
 "nbformat_minor": 5
}
