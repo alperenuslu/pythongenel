{
 "cells": [
  {
   "cell_type": "markdown",
   "id": "f96568a9",
   "metadata": {},
   "source": [
    "# Generators\n",
    "* Diyelim ki elimdeki bir listenin elemanlarının karesini almak istiyorum"
   ]
  },
  {
   "cell_type": "code",
   "execution_count": 2,
   "id": "515f8493",
   "metadata": {},
   "outputs": [],
   "source": [
    "def square(l):\n",
    "    res=[]\n",
    "    for e in l:\n",
    "        res.append(e*e)\n",
    "    return res"
   ]
  },
  {
   "cell_type": "code",
   "execution_count": 3,
   "id": "e77a1177",
   "metadata": {},
   "outputs": [
    {
     "data": {
      "text/plain": [
       "[1, 4, 9]"
      ]
     },
     "execution_count": 3,
     "metadata": {},
     "output_type": "execute_result"
    }
   ],
   "source": [
    "l = [1,2,3]\n",
    "square(l)"
   ]
  },
  {
   "cell_type": "markdown",
   "id": "0d82b444",
   "metadata": {},
   "source": [
    "* Peki bu değerleri bir anda istemesem de, ben sordukça üretip döndürse?\n",
    "* Bunu generator mantığı ile yapabiliriz"
   ]
  },
  {
   "cell_type": "code",
   "execution_count": 4,
   "id": "0a8cfa2c",
   "metadata": {},
   "outputs": [],
   "source": [
    "def square_generator(l):\n",
    "    for e in l:\n",
    "        yield e*e"
   ]
  },
  {
   "cell_type": "code",
   "execution_count": 5,
   "id": "0a26c0cb",
   "metadata": {},
   "outputs": [],
   "source": [
    "l=[1,2,3]\n",
    "g=square_generator(l)"
   ]
  },
  {
   "cell_type": "code",
   "execution_count": 6,
   "id": "dc16dea8",
   "metadata": {},
   "outputs": [
    {
     "data": {
      "text/plain": [
       "<generator object square_generator at 0x000001CC13E35460>"
      ]
     },
     "execution_count": 6,
     "metadata": {},
     "output_type": "execute_result"
    }
   ],
   "source": [
    "g"
   ]
  },
  {
   "cell_type": "markdown",
   "id": "ada0d5cf",
   "metadata": {},
   "source": [
    "* Generatorler bütün cevabı hafızada tutmazlar, biz sordukça değerleri döndürüler.\n",
    "* Generatorler iterator dır.next ile sonraki değerlere erişebiliriz."
   ]
  },
  {
   "cell_type": "code",
   "execution_count": 7,
   "id": "acfeb42a",
   "metadata": {},
   "outputs": [
    {
     "data": {
      "text/plain": [
       "1"
      ]
     },
     "execution_count": 7,
     "metadata": {},
     "output_type": "execute_result"
    }
   ],
   "source": [
    "next(g)"
   ]
  },
  {
   "cell_type": "code",
   "execution_count": 8,
   "id": "b5d77de3",
   "metadata": {},
   "outputs": [
    {
     "data": {
      "text/plain": [
       "4"
      ]
     },
     "execution_count": 8,
     "metadata": {},
     "output_type": "execute_result"
    }
   ],
   "source": [
    "next(g)"
   ]
  },
  {
   "cell_type": "code",
   "execution_count": 9,
   "id": "90e355d7",
   "metadata": {},
   "outputs": [
    {
     "data": {
      "text/plain": [
       "9"
      ]
     },
     "execution_count": 9,
     "metadata": {},
     "output_type": "execute_result"
    }
   ],
   "source": [
    "next(g)"
   ]
  },
  {
   "cell_type": "code",
   "execution_count": 10,
   "id": "534ccd92",
   "metadata": {},
   "outputs": [
    {
     "ename": "StopIteration",
     "evalue": "",
     "output_type": "error",
     "traceback": [
      "\u001b[1;31m---------------------------------------------------------------------------\u001b[0m",
      "\u001b[1;31mStopIteration\u001b[0m                             Traceback (most recent call last)",
      "Input \u001b[1;32mIn [10]\u001b[0m, in \u001b[0;36m<cell line: 1>\u001b[1;34m()\u001b[0m\n\u001b[1;32m----> 1\u001b[0m \u001b[38;5;28;43mnext\u001b[39;49m\u001b[43m(\u001b[49m\u001b[43mg\u001b[49m\u001b[43m)\u001b[49m\n",
      "\u001b[1;31mStopIteration\u001b[0m: "
     ]
    }
   ],
   "source": [
    "next(g)"
   ]
  },
  {
   "cell_type": "code",
   "execution_count": 12,
   "id": "520fc0cd",
   "metadata": {},
   "outputs": [],
   "source": [
    "#exhaust oldu. bir daha baştan başlamak istiyorsam bir daha yaratmam lazım\n",
    "for res in g:\n",
    "    print(res)"
   ]
  },
  {
   "cell_type": "code",
   "execution_count": 13,
   "id": "904fd6ad",
   "metadata": {},
   "outputs": [],
   "source": [
    "g=square_generator(l)"
   ]
  },
  {
   "cell_type": "markdown",
   "id": "943015df",
   "metadata": {},
   "source": [
    "* Değerleri arasında iterasyon for döngüsü ile de yapabilirim"
   ]
  },
  {
   "cell_type": "code",
   "execution_count": 14,
   "id": "cde0bdc9",
   "metadata": {},
   "outputs": [
    {
     "name": "stdout",
     "output_type": "stream",
     "text": [
      "1\n",
      "4\n",
      "9\n"
     ]
    }
   ],
   "source": [
    "for res in g:\n",
    "    print(res)"
   ]
  },
  {
   "cell_type": "code",
   "execution_count": 15,
   "id": "504160f0",
   "metadata": {},
   "outputs": [],
   "source": [
    "for res in g:\n",
    "    print(res)"
   ]
  },
  {
   "cell_type": "code",
   "execution_count": 16,
   "id": "5e1b2046",
   "metadata": {},
   "outputs": [
    {
     "ename": "StopIteration",
     "evalue": "",
     "output_type": "error",
     "traceback": [
      "\u001b[1;31m---------------------------------------------------------------------------\u001b[0m",
      "\u001b[1;31mStopIteration\u001b[0m                             Traceback (most recent call last)",
      "Input \u001b[1;32mIn [16]\u001b[0m, in \u001b[0;36m<cell line: 1>\u001b[1;34m()\u001b[0m\n\u001b[1;32m----> 1\u001b[0m \u001b[38;5;28;43mnext\u001b[39;49m\u001b[43m(\u001b[49m\u001b[43mg\u001b[49m\u001b[43m)\u001b[49m\n",
      "\u001b[1;31mStopIteration\u001b[0m: "
     ]
    }
   ],
   "source": [
    "next(g)"
   ]
  },
  {
   "cell_type": "markdown",
   "id": "2b310831",
   "metadata": {},
   "source": [
    "### List Comprehension  Oluşturur Gibi Generator Oluşturma"
   ]
  },
  {
   "cell_type": "code",
   "execution_count": 17,
   "id": "e98eb8d7",
   "metadata": {},
   "outputs": [],
   "source": [
    "l=[x*x for x in [1,2,3,4,5]]"
   ]
  },
  {
   "cell_type": "code",
   "execution_count": 18,
   "id": "63c67998",
   "metadata": {},
   "outputs": [
    {
     "data": {
      "text/plain": [
       "[1, 4, 9, 16, 25]"
      ]
     },
     "execution_count": 18,
     "metadata": {},
     "output_type": "execute_result"
    }
   ],
   "source": [
    "l"
   ]
  },
  {
   "cell_type": "code",
   "execution_count": 19,
   "id": "0b5a995b",
   "metadata": {},
   "outputs": [],
   "source": [
    "g=(x*x for x in [1,2,3,4,5])"
   ]
  },
  {
   "cell_type": "code",
   "execution_count": 20,
   "id": "3081d5db",
   "metadata": {},
   "outputs": [
    {
     "data": {
      "text/plain": [
       "<generator object <genexpr> at 0x000001CC16055EE0>"
      ]
     },
     "execution_count": 20,
     "metadata": {},
     "output_type": "execute_result"
    }
   ],
   "source": [
    "g"
   ]
  },
  {
   "cell_type": "code",
   "execution_count": 22,
   "id": "7e95140e",
   "metadata": {},
   "outputs": [
    {
     "data": {
      "text/plain": [
       "4"
      ]
     },
     "execution_count": 22,
     "metadata": {},
     "output_type": "execute_result"
    }
   ],
   "source": [
    "next(g)"
   ]
  },
  {
   "cell_type": "code",
   "execution_count": 23,
   "id": "1c1ce12b",
   "metadata": {},
   "outputs": [
    {
     "name": "stdout",
     "output_type": "stream",
     "text": [
      "9\n",
      "16\n",
      "25\n"
     ]
    }
   ],
   "source": [
    "# if started from 2, because we wrote next(g) before and since it remembers the state it started at 2\n",
    "for e in g:\n",
    "    print(e)"
   ]
  },
  {
   "cell_type": "markdown",
   "id": "6eeec1f9",
   "metadata": {},
   "source": [
    "### Generatorı Liste Dönüştürme"
   ]
  },
  {
   "cell_type": "code",
   "execution_count": 24,
   "id": "014f8d8b",
   "metadata": {},
   "outputs": [],
   "source": [
    "g=(x*x for x in [1,2,3,4,5])"
   ]
  },
  {
   "cell_type": "code",
   "execution_count": 29,
   "id": "3d028b56",
   "metadata": {},
   "outputs": [
    {
     "data": {
      "text/plain": [
       "25"
      ]
     },
     "execution_count": 29,
     "metadata": {},
     "output_type": "execute_result"
    }
   ],
   "source": [
    "next(g)"
   ]
  },
  {
   "cell_type": "code",
   "execution_count": 30,
   "id": "f84a283f",
   "metadata": {},
   "outputs": [],
   "source": [
    "g=(x*x for x in [1,2,3,4,5])"
   ]
  },
  {
   "cell_type": "code",
   "execution_count": 31,
   "id": "d3a3e5c8",
   "metadata": {},
   "outputs": [
    {
     "data": {
      "text/plain": [
       "[1, 4, 9, 16, 25]"
      ]
     },
     "execution_count": 31,
     "metadata": {},
     "output_type": "execute_result"
    }
   ],
   "source": [
    "list(g)"
   ]
  },
  {
   "cell_type": "code",
   "execution_count": 34,
   "id": "46e72bf1",
   "metadata": {},
   "outputs": [],
   "source": [
    "l=[1,2,3,4,5,6]"
   ]
  },
  {
   "cell_type": "code",
   "execution_count": 35,
   "id": "184c5b10",
   "metadata": {},
   "outputs": [],
   "source": [
    "g=square_generator(l)"
   ]
  },
  {
   "cell_type": "code",
   "execution_count": 36,
   "id": "0dc7d08e",
   "metadata": {},
   "outputs": [
    {
     "data": {
      "text/plain": [
       "[1, 4, 9, 16, 25, 36]"
      ]
     },
     "execution_count": 36,
     "metadata": {},
     "output_type": "execute_result"
    }
   ],
   "source": [
    "list(g)"
   ]
  },
  {
   "cell_type": "code",
   "execution_count": 37,
   "id": "e2c4249b",
   "metadata": {},
   "outputs": [
    {
     "ename": "StopIteration",
     "evalue": "",
     "output_type": "error",
     "traceback": [
      "\u001b[1;31m---------------------------------------------------------------------------\u001b[0m",
      "\u001b[1;31mStopIteration\u001b[0m                             Traceback (most recent call last)",
      "Input \u001b[1;32mIn [37]\u001b[0m, in \u001b[0;36m<cell line: 1>\u001b[1;34m()\u001b[0m\n\u001b[1;32m----> 1\u001b[0m \u001b[38;5;28;43mnext\u001b[39;49m\u001b[43m(\u001b[49m\u001b[43mg\u001b[49m\u001b[43m)\u001b[49m\n",
      "\u001b[1;31mStopIteration\u001b[0m: "
     ]
    }
   ],
   "source": [
    "next(g)"
   ]
  },
  {
   "cell_type": "markdown",
   "id": "4447c30a",
   "metadata": {},
   "source": [
    "### Generators\n",
    "* Kısa yoldan iterator yaratmamıza olanak sağlar.\n",
    "* Uğraştıklarımız az eleman olunca çok farkını anlamayabiliriz ama fazla sayıda elemanlarla uğraşıyorsak, hepsini bir anda hafızada tutmaya çalışmak çok yer kaplayabilir. Generatorlar istendiğinde elemanları döndürdükleri için bu hafıza sorununa iyi gelebilir.\n",
    "* list(generator) yaptığımız zaman bu özelliğini kaybeder."
   ]
  },
  {
   "cell_type": "markdown",
   "id": "9965f77a",
   "metadata": {},
   "source": [
    "### Generator Exercise"
   ]
  },
  {
   "cell_type": "code",
   "execution_count": 38,
   "id": "18706e1e",
   "metadata": {},
   "outputs": [],
   "source": [
    "#range() benzeri fonksiyon oluşturma"
   ]
  },
  {
   "cell_type": "code",
   "execution_count": 45,
   "id": "0fef2022",
   "metadata": {},
   "outputs": [],
   "source": [
    "def range_generator(start,end,step):\n",
    "    current=start\n",
    "    while current<end:\n",
    "        yield current\n",
    "        current+=step"
   ]
  },
  {
   "cell_type": "code",
   "execution_count": 46,
   "id": "e033e710",
   "metadata": {},
   "outputs": [],
   "source": [
    "r= range_generator(1,20,3)"
   ]
  },
  {
   "cell_type": "code",
   "execution_count": 47,
   "id": "e4562b36",
   "metadata": {},
   "outputs": [
    {
     "data": {
      "text/plain": [
       "1"
      ]
     },
     "execution_count": 47,
     "metadata": {},
     "output_type": "execute_result"
    }
   ],
   "source": [
    "next(r)"
   ]
  },
  {
   "cell_type": "code",
   "execution_count": 48,
   "id": "375ea2ba",
   "metadata": {},
   "outputs": [
    {
     "data": {
      "text/plain": [
       "4"
      ]
     },
     "execution_count": 48,
     "metadata": {},
     "output_type": "execute_result"
    }
   ],
   "source": [
    "next(r)"
   ]
  },
  {
   "cell_type": "code",
   "execution_count": 49,
   "id": "51289607",
   "metadata": {},
   "outputs": [
    {
     "data": {
      "text/plain": [
       "7"
      ]
     },
     "execution_count": 49,
     "metadata": {},
     "output_type": "execute_result"
    }
   ],
   "source": [
    "next(r)"
   ]
  },
  {
   "cell_type": "code",
   "execution_count": 50,
   "id": "5e04ca01",
   "metadata": {},
   "outputs": [],
   "source": [
    "def range_generator(start,end,step):\n",
    "    current=start\n",
    "    while current<end:\n",
    "        yield current\n",
    "        print(current)\n",
    "        current+=step"
   ]
  },
  {
   "cell_type": "code",
   "execution_count": 53,
   "id": "e0247fd9",
   "metadata": {},
   "outputs": [],
   "source": [
    "r= range_generator(1,20,1)"
   ]
  },
  {
   "cell_type": "code",
   "execution_count": 56,
   "id": "52ad2147",
   "metadata": {},
   "outputs": [
    {
     "name": "stdout",
     "output_type": "stream",
     "text": [
      "2\n"
     ]
    },
    {
     "data": {
      "text/plain": [
       "3"
      ]
     },
     "execution_count": 56,
     "metadata": {},
     "output_type": "execute_result"
    }
   ],
   "source": [
    "next(r)"
   ]
  },
  {
   "cell_type": "code",
   "execution_count": null,
   "id": "f6f09d96",
   "metadata": {},
   "outputs": [],
   "source": []
  }
 ],
 "metadata": {
  "kernelspec": {
   "display_name": "Python 3 (ipykernel)",
   "language": "python",
   "name": "python3"
  },
  "language_info": {
   "codemirror_mode": {
    "name": "ipython",
    "version": 3
   },
   "file_extension": ".py",
   "mimetype": "text/x-python",
   "name": "python",
   "nbconvert_exporter": "python",
   "pygments_lexer": "ipython3",
   "version": "3.10.5"
  }
 },
 "nbformat": 4,
 "nbformat_minor": 5
}
