{
 "cells": [
  {
   "cell_type": "markdown",
   "id": "03d09cdc",
   "metadata": {},
   "source": [
    "### Tuple\n",
    "* tuple veri tipi listeler gibi birden çok veri tipini bir arada tutmamızı sağlar.\n",
    "* listelerden farklı olarak tuple'lar immutabledır.\n",
    "* Mesela bir deniz fenerinin konumunu belirtmek istiyoruz. bunun x ve y koordinat değerleri var (x,y). Deniz fenerini söküp götüremiyoruz, ben bu iki değerin sabit, değiştirilemez olmasını istiyorum. Burada bu iki değeri tutmak için tuple kullanmam mantıklı olabilir.\n",
    "* Değişmeyeceğini bildiğim değerleri bir arada tutmak için.\n",
    "* tuple'lar (element1,element2...) şeklinde tanımlanır.\n",
    "* tuple'lar listeler gibi farklı veri yapılarında elemanlardan oluşabilir. Elemanları tuple bile olabilir."
   ]
  },
  {
   "cell_type": "code",
   "execution_count": 3,
   "id": "61706527",
   "metadata": {},
   "outputs": [],
   "source": [
    "x = 10\n",
    "y = 34"
   ]
  },
  {
   "cell_type": "code",
   "execution_count": 4,
   "id": "71d65fdc",
   "metadata": {},
   "outputs": [],
   "source": [
    "konum = (10, 34)"
   ]
  },
  {
   "cell_type": "markdown",
   "id": "6664ba27",
   "metadata": {},
   "source": [
    "* Aynı listelerdeki gibi indexleme yapabiliyoruz."
   ]
  },
  {
   "cell_type": "code",
   "execution_count": 5,
   "id": "0b44cce5",
   "metadata": {},
   "outputs": [
    {
     "data": {
      "text/plain": [
       "10"
      ]
     },
     "execution_count": 5,
     "metadata": {},
     "output_type": "execute_result"
    }
   ],
   "source": [
    "konum[0]"
   ]
  },
  {
   "cell_type": "code",
   "execution_count": 6,
   "id": "7003e1a5",
   "metadata": {},
   "outputs": [
    {
     "data": {
      "text/plain": [
       "(10, 34)"
      ]
     },
     "execution_count": 6,
     "metadata": {},
     "output_type": "execute_result"
    }
   ],
   "source": [
    "konum[:]"
   ]
  },
  {
   "cell_type": "markdown",
   "id": "7c37c51a",
   "metadata": {},
   "source": [
    "* Ama değerlerini değiştiremiyoruz."
   ]
  },
  {
   "cell_type": "code",
   "execution_count": 7,
   "id": "dd8b5048",
   "metadata": {},
   "outputs": [
    {
     "ename": "TypeError",
     "evalue": "'tuple' object does not support item assignment",
     "output_type": "error",
     "traceback": [
      "\u001b[1;31m---------------------------------------------------------------------------\u001b[0m",
      "\u001b[1;31mTypeError\u001b[0m                                 Traceback (most recent call last)",
      "Input \u001b[1;32mIn [7]\u001b[0m, in \u001b[0;36m<cell line: 1>\u001b[1;34m()\u001b[0m\n\u001b[1;32m----> 1\u001b[0m konum[\u001b[38;5;241m0\u001b[39m] \u001b[38;5;241m=\u001b[39m \u001b[38;5;241m100\u001b[39m\n",
      "\u001b[1;31mTypeError\u001b[0m: 'tuple' object does not support item assignment"
     ]
    }
   ],
   "source": [
    "konum[0] = 100"
   ]
  },
  {
   "cell_type": "markdown",
   "id": "5b20abd5",
   "metadata": {},
   "source": [
    "* Farklı veri tipleri barındırabiliyor."
   ]
  },
  {
   "cell_type": "code",
   "execution_count": 8,
   "id": "f69f2b11",
   "metadata": {},
   "outputs": [],
   "source": [
    "t = (1,2,3,\"a\")"
   ]
  },
  {
   "cell_type": "code",
   "execution_count": 9,
   "id": "69e4bd22",
   "metadata": {},
   "outputs": [
    {
     "data": {
      "text/plain": [
       "(1, 2, 3, 'a')"
      ]
     },
     "execution_count": 9,
     "metadata": {},
     "output_type": "execute_result"
    }
   ],
   "source": [
    "t"
   ]
  },
  {
   "cell_type": "code",
   "execution_count": 10,
   "id": "422fbaf2",
   "metadata": {},
   "outputs": [],
   "source": [
    "t = ((1,2),3)"
   ]
  },
  {
   "cell_type": "code",
   "execution_count": 11,
   "id": "03cf5ab1",
   "metadata": {},
   "outputs": [
    {
     "data": {
      "text/plain": [
       "((1, 2), 3)"
      ]
     },
     "execution_count": 11,
     "metadata": {},
     "output_type": "execute_result"
    }
   ],
   "source": [
    "t"
   ]
  },
  {
   "cell_type": "code",
   "execution_count": 12,
   "id": "f6141b85",
   "metadata": {},
   "outputs": [
    {
     "data": {
      "text/plain": [
       "(1, 2)"
      ]
     },
     "execution_count": 12,
     "metadata": {},
     "output_type": "execute_result"
    }
   ],
   "source": [
    "t[0]"
   ]
  },
  {
   "cell_type": "code",
   "execution_count": 13,
   "id": "ae72aa8d",
   "metadata": {},
   "outputs": [
    {
     "data": {
      "text/plain": [
       "3"
      ]
     },
     "execution_count": 13,
     "metadata": {},
     "output_type": "execute_result"
    }
   ],
   "source": [
    "t[1]"
   ]
  },
  {
   "cell_type": "code",
   "execution_count": 14,
   "id": "5cf8b9cb",
   "metadata": {},
   "outputs": [],
   "source": [
    "t = ([1,2,3],2,(1,2))"
   ]
  },
  {
   "cell_type": "code",
   "execution_count": 15,
   "id": "710580c8",
   "metadata": {},
   "outputs": [
    {
     "data": {
      "text/plain": [
       "([1, 2, 3], 2, (1, 2))"
      ]
     },
     "execution_count": 15,
     "metadata": {},
     "output_type": "execute_result"
    }
   ],
   "source": [
    "t"
   ]
  },
  {
   "cell_type": "code",
   "execution_count": 16,
   "id": "4cf15b24",
   "metadata": {},
   "outputs": [],
   "source": [
    "t[0][0] = 23"
   ]
  },
  {
   "cell_type": "code",
   "execution_count": 17,
   "id": "2f9a5b72",
   "metadata": {},
   "outputs": [
    {
     "data": {
      "text/plain": [
       "([23, 2, 3], 2, (1, 2))"
      ]
     },
     "execution_count": 17,
     "metadata": {},
     "output_type": "execute_result"
    }
   ],
   "source": [
    "t"
   ]
  },
  {
   "cell_type": "markdown",
   "id": "1be1d838",
   "metadata": {},
   "source": [
    "### Elemanların Değerlerini Değiştirmek\n",
    "* Diyelim ki x ve y'nin değerlerini değiştirmek istiyorum."
   ]
  },
  {
   "cell_type": "code",
   "execution_count": 20,
   "id": "b6ad1f31",
   "metadata": {},
   "outputs": [],
   "source": [
    "x = 2\n",
    "y = 3"
   ]
  },
  {
   "cell_type": "code",
   "execution_count": 21,
   "id": "f13f2172",
   "metadata": {},
   "outputs": [],
   "source": [
    "temp = x\n",
    "x = y\n",
    "y = temp"
   ]
  },
  {
   "cell_type": "code",
   "execution_count": 22,
   "id": "ff2b0b80",
   "metadata": {},
   "outputs": [
    {
     "data": {
      "text/plain": [
       "3"
      ]
     },
     "execution_count": 22,
     "metadata": {},
     "output_type": "execute_result"
    }
   ],
   "source": [
    "x"
   ]
  },
  {
   "cell_type": "code",
   "execution_count": 23,
   "id": "723f5cb4",
   "metadata": {},
   "outputs": [
    {
     "data": {
      "text/plain": [
       "2"
      ]
     },
     "execution_count": 23,
     "metadata": {},
     "output_type": "execute_result"
    }
   ],
   "source": [
    "y"
   ]
  },
  {
   "cell_type": "code",
   "execution_count": 24,
   "id": "cb0fc9f0",
   "metadata": {},
   "outputs": [],
   "source": [
    "(x, y) = (y, x)"
   ]
  },
  {
   "cell_type": "code",
   "execution_count": 25,
   "id": "7aff2a56",
   "metadata": {},
   "outputs": [
    {
     "data": {
      "text/plain": [
       "2"
      ]
     },
     "execution_count": 25,
     "metadata": {},
     "output_type": "execute_result"
    }
   ],
   "source": [
    "x"
   ]
  },
  {
   "cell_type": "code",
   "execution_count": 26,
   "id": "78d27358",
   "metadata": {},
   "outputs": [
    {
     "data": {
      "text/plain": [
       "3"
      ]
     },
     "execution_count": 26,
     "metadata": {},
     "output_type": "execute_result"
    }
   ],
   "source": [
    "y"
   ]
  },
  {
   "cell_type": "markdown",
   "id": "a48c9ce3",
   "metadata": {},
   "source": [
    "* parantez koymamıza da gerek yok. 1,2,3,\"a\"... gibi parantezsiz belirtsek de Python onu tuple olarak görüyor."
   ]
  },
  {
   "cell_type": "code",
   "execution_count": 27,
   "id": "f369f5be",
   "metadata": {},
   "outputs": [
    {
     "data": {
      "text/plain": [
       "(1, 2, 3, 4)"
      ]
     },
     "execution_count": 27,
     "metadata": {},
     "output_type": "execute_result"
    }
   ],
   "source": [
    "1,2,3,4"
   ]
  },
  {
   "cell_type": "code",
   "execution_count": 28,
   "id": "615fdf9f",
   "metadata": {},
   "outputs": [
    {
     "data": {
      "text/plain": [
       "(1, 2, 3, 4)"
      ]
     },
     "execution_count": 28,
     "metadata": {},
     "output_type": "execute_result"
    }
   ],
   "source": [
    "a = 1,2,3,4\n",
    "a"
   ]
  },
  {
   "cell_type": "code",
   "execution_count": 29,
   "id": "57612c7c",
   "metadata": {},
   "outputs": [
    {
     "data": {
      "text/plain": [
       "tuple"
      ]
     },
     "execution_count": 29,
     "metadata": {},
     "output_type": "execute_result"
    }
   ],
   "source": [
    "type(a)"
   ]
  },
  {
   "cell_type": "code",
   "execution_count": 32,
   "id": "28406ac7",
   "metadata": {},
   "outputs": [],
   "source": [
    "x = 2\n",
    "y = 3"
   ]
  },
  {
   "cell_type": "code",
   "execution_count": 33,
   "id": "f48639da",
   "metadata": {},
   "outputs": [
    {
     "data": {
      "text/plain": [
       "3"
      ]
     },
     "execution_count": 33,
     "metadata": {},
     "output_type": "execute_result"
    }
   ],
   "source": [
    "x, y = y, x\n",
    "x"
   ]
  },
  {
   "cell_type": "code",
   "execution_count": 34,
   "id": "f68e390c",
   "metadata": {},
   "outputs": [
    {
     "data": {
      "text/plain": [
       "2"
      ]
     },
     "execution_count": 34,
     "metadata": {},
     "output_type": "execute_result"
    }
   ],
   "source": [
    "y"
   ]
  },
  {
   "cell_type": "code",
   "execution_count": 35,
   "id": "bee8f8a2",
   "metadata": {},
   "outputs": [
    {
     "data": {
      "text/plain": [
       "(5, 5)"
      ]
     },
     "execution_count": 35,
     "metadata": {},
     "output_type": "execute_result"
    }
   ],
   "source": [
    "x=5\n",
    "\n",
    "y=7\n",
    "\n",
    "temp=x\n",
    "\n",
    "y=temp\n",
    "\n",
    "(x,y)"
   ]
  },
  {
   "cell_type": "markdown",
   "id": "81f60ed6",
   "metadata": {},
   "source": [
    "### Tuple ve List'lerde Eleman Kontrolü\n",
    "* Belirli bir eleman listede veya tuple'da var mı diye in keyword'ü ile sorgu yapabilirim."
   ]
  },
  {
   "cell_type": "code",
   "execution_count": 36,
   "id": "e2b83ee7",
   "metadata": {},
   "outputs": [],
   "source": [
    "l = [1,2,3,4]"
   ]
  },
  {
   "cell_type": "code",
   "execution_count": 37,
   "id": "0759c411",
   "metadata": {},
   "outputs": [
    {
     "data": {
      "text/plain": [
       "False"
      ]
     },
     "execution_count": 37,
     "metadata": {},
     "output_type": "execute_result"
    }
   ],
   "source": [
    "40 in l"
   ]
  },
  {
   "cell_type": "code",
   "execution_count": 38,
   "id": "97eef78e",
   "metadata": {},
   "outputs": [
    {
     "data": {
      "text/plain": [
       "True"
      ]
     },
     "execution_count": 38,
     "metadata": {},
     "output_type": "execute_result"
    }
   ],
   "source": [
    "2 in l"
   ]
  },
  {
   "cell_type": "code",
   "execution_count": 39,
   "id": "13820cb5",
   "metadata": {},
   "outputs": [],
   "source": [
    "t = (1,2,3,4)"
   ]
  },
  {
   "cell_type": "code",
   "execution_count": 41,
   "id": "b874903b",
   "metadata": {},
   "outputs": [
    {
     "data": {
      "text/plain": [
       "False"
      ]
     },
     "execution_count": 41,
     "metadata": {},
     "output_type": "execute_result"
    }
   ],
   "source": [
    "40 in t"
   ]
  },
  {
   "cell_type": "code",
   "execution_count": 42,
   "id": "29c16a6e",
   "metadata": {},
   "outputs": [
    {
     "data": {
      "text/plain": [
       "True"
      ]
     },
     "execution_count": 42,
     "metadata": {},
     "output_type": "execute_result"
    }
   ],
   "source": [
    "3 in t"
   ]
  },
  {
   "cell_type": "code",
   "execution_count": null,
   "id": "d6592d09",
   "metadata": {},
   "outputs": [],
   "source": []
  }
 ],
 "metadata": {
  "kernelspec": {
   "display_name": "Python 3 (ipykernel)",
   "language": "python",
   "name": "python3"
  },
  "language_info": {
   "codemirror_mode": {
    "name": "ipython",
    "version": 3
   },
   "file_extension": ".py",
   "mimetype": "text/x-python",
   "name": "python",
   "nbconvert_exporter": "python",
   "pygments_lexer": "ipython3",
   "version": "3.10.5"
  }
 },
 "nbformat": 4,
 "nbformat_minor": 5
}
