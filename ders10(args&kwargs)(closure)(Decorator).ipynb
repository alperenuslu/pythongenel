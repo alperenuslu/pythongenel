{
 "cells": [
  {
   "cell_type": "markdown",
   "id": "8c3d8bfc",
   "metadata": {},
   "source": [
    "# Args & Kwargs"
   ]
  },
  {
   "cell_type": "markdown",
   "id": "fb0947ae",
   "metadata": {},
   "source": [
    "### 1) Args\n",
    "* Değişken sayılı parametre vermenin bir yolu. list/tuple objelerini unpack yapar ama dictionary objelerini yapmaz"
   ]
  },
  {
   "cell_type": "code",
   "execution_count": 1,
   "id": "bb0ff52e",
   "metadata": {},
   "outputs": [
    {
     "ename": "SyntaxError",
     "evalue": "invalid syntax (2009882658.py, line 5)",
     "output_type": "error",
     "traceback": [
      "\u001b[1;36m  Input \u001b[1;32mIn [1]\u001b[1;36m\u001b[0m\n\u001b[1;33m    return = res\u001b[0m\n\u001b[1;37m           ^\u001b[0m\n\u001b[1;31mSyntaxError\u001b[0m\u001b[1;31m:\u001b[0m invalid syntax\n"
     ]
    }
   ],
   "source": [
    "def sum(numbers):\n",
    "    res=0\n",
    "    for e in numbers:\n",
    "        res += e\n",
    "    return = res"
   ]
  },
  {
   "cell_type": "code",
   "execution_count": 2,
   "id": "f49be178",
   "metadata": {},
   "outputs": [],
   "source": [
    "numbers = [1,2,3,4]"
   ]
  },
  {
   "cell_type": "code",
   "execution_count": 3,
   "id": "eae094ab",
   "metadata": {},
   "outputs": [
    {
     "data": {
      "text/plain": [
       "10"
      ]
     },
     "execution_count": 3,
     "metadata": {},
     "output_type": "execute_result"
    }
   ],
   "source": [
    "sum(numbers)"
   ]
  },
  {
   "cell_type": "code",
   "execution_count": 4,
   "id": "5dd20be3",
   "metadata": {},
   "outputs": [],
   "source": [
    "numbers=[1,2]"
   ]
  },
  {
   "cell_type": "code",
   "execution_count": 5,
   "id": "bd51a6f0",
   "metadata": {},
   "outputs": [
    {
     "data": {
      "text/plain": [
       "3"
      ]
     },
     "execution_count": 5,
     "metadata": {},
     "output_type": "execute_result"
    }
   ],
   "source": [
    "sum(numbers)"
   ]
  },
  {
   "cell_type": "markdown",
   "id": "2f8c0d68",
   "metadata": {},
   "source": [
    "* `args`ın anlamını, en başta tuple gibi bir objem vardı ama bunu tek tek elemanlarına ayırdım demek."
   ]
  },
  {
   "cell_type": "code",
   "execution_count": 6,
   "id": "66a40d6f",
   "metadata": {},
   "outputs": [],
   "source": [
    "def sum(*args):\n",
    "    res=0\n",
    "    for e in args:\n",
    "        res+=e\n",
    "    return res"
   ]
  },
  {
   "cell_type": "code",
   "execution_count": 7,
   "id": "f4d5161a",
   "metadata": {},
   "outputs": [
    {
     "data": {
      "text/plain": [
       "10"
      ]
     },
     "execution_count": 7,
     "metadata": {},
     "output_type": "execute_result"
    }
   ],
   "source": [
    "# *args = 1,2,3,4 olduğunu varsayacak, yani args ın tek elemanlarına ayrılmış hali 1,2,3,4 o zaman orijinali: args=(1,2,3,4)\n",
    "sum(1,2,3,4)"
   ]
  },
  {
   "cell_type": "code",
   "execution_count": 8,
   "id": "924fc7dd",
   "metadata": {},
   "outputs": [],
   "source": [
    "def sum(*numbers):\n",
    "    res=0\n",
    "    print(type(numbers))\n",
    "    print(numbers)\n",
    "    for e in numbers:\n",
    "        res+=e\n",
    "    return res"
   ]
  },
  {
   "cell_type": "code",
   "execution_count": 9,
   "id": "52494ff9",
   "metadata": {},
   "outputs": [
    {
     "name": "stdout",
     "output_type": "stream",
     "text": [
      "<class 'tuple'>\n",
      "(1, 2, 3, 4)\n"
     ]
    },
    {
     "data": {
      "text/plain": [
       "10"
      ]
     },
     "execution_count": 9,
     "metadata": {},
     "output_type": "execute_result"
    }
   ],
   "source": [
    "sum(1,2,3,4)"
   ]
  },
  {
   "cell_type": "code",
   "execution_count": 10,
   "id": "b9383a33",
   "metadata": {},
   "outputs": [
    {
     "name": "stdout",
     "output_type": "stream",
     "text": [
      "<class 'tuple'>\n",
      "(1, 2)\n"
     ]
    },
    {
     "data": {
      "text/plain": [
       "3"
      ]
     },
     "execution_count": 10,
     "metadata": {},
     "output_type": "execute_result"
    }
   ],
   "source": [
    "sum(1,2)"
   ]
  },
  {
   "cell_type": "code",
   "execution_count": 11,
   "id": "2d60ca6c",
   "metadata": {},
   "outputs": [
    {
     "ename": "TypeError",
     "evalue": "sum() got an unexpected keyword argument 'a'",
     "output_type": "error",
     "traceback": [
      "\u001b[1;31m---------------------------------------------------------------------------\u001b[0m",
      "\u001b[1;31mTypeError\u001b[0m                                 Traceback (most recent call last)",
      "Input \u001b[1;32mIn [11]\u001b[0m, in \u001b[0;36m<cell line: 1>\u001b[1;34m()\u001b[0m\n\u001b[1;32m----> 1\u001b[0m \u001b[38;5;28;43msum\u001b[39;49m\u001b[43m(\u001b[49m\u001b[43ma\u001b[49m\u001b[38;5;241;43m=\u001b[39;49m\u001b[38;5;241;43m1\u001b[39;49m\u001b[43m,\u001b[49m\u001b[43mb\u001b[49m\u001b[38;5;241;43m=\u001b[39;49m\u001b[38;5;241;43m2\u001b[39;49m\u001b[43m)\u001b[49m\n",
      "\u001b[1;31mTypeError\u001b[0m: sum() got an unexpected keyword argument 'a'"
     ]
    }
   ],
   "source": [
    "sum(a=1,b=2)"
   ]
  },
  {
   "cell_type": "code",
   "execution_count": 12,
   "id": "ec7eb069",
   "metadata": {},
   "outputs": [],
   "source": [
    "def sum_2(*args):\n",
    "    res=0\n",
    "    print(type(args))\n",
    "    print(args)\n",
    "    print(len(args))\n",
    "    for e in args:\n",
    "        for j in e:\n",
    "            res+=j\n",
    "    return res"
   ]
  },
  {
   "cell_type": "code",
   "execution_count": 13,
   "id": "ef73a8ba",
   "metadata": {},
   "outputs": [
    {
     "name": "stdout",
     "output_type": "stream",
     "text": [
      "<class 'tuple'>\n",
      "([1, 2],)\n",
      "1\n"
     ]
    },
    {
     "data": {
      "text/plain": [
       "3"
      ]
     },
     "execution_count": 13,
     "metadata": {},
     "output_type": "execute_result"
    }
   ],
   "source": [
    "sum_2([1,2])"
   ]
  },
  {
   "cell_type": "markdown",
   "id": "41cac488",
   "metadata": {},
   "source": [
    "### 2) Kwargs\n",
    "* Fonksiyona değişken sayıda keyword argumant verebilmemizi sağlar."
   ]
  },
  {
   "cell_type": "code",
   "execution_count": 14,
   "id": "1448421a",
   "metadata": {},
   "outputs": [],
   "source": [
    "def students(**kwargs):\n",
    "    for v in kwargs.values():\n",
    "        print(v)"
   ]
  },
  {
   "cell_type": "code",
   "execution_count": 15,
   "id": "198e1672",
   "metadata": {},
   "outputs": [
    {
     "name": "stdout",
     "output_type": "stream",
     "text": [
      "Jake\n",
      "401\n"
     ]
    }
   ],
   "source": [
    "students(name=\"Jake\",students_number=\"401\")"
   ]
  },
  {
   "cell_type": "code",
   "execution_count": 16,
   "id": "4331182a",
   "metadata": {},
   "outputs": [],
   "source": [
    "def students(**students):\n",
    "    print(students)\n",
    "    for v in students:\n",
    "        print(v)"
   ]
  },
  {
   "cell_type": "code",
   "execution_count": 17,
   "id": "93e2b23d",
   "metadata": {},
   "outputs": [
    {
     "name": "stdout",
     "output_type": "stream",
     "text": [
      "{'name': 'Jake', 'students_number': '401'}\n",
      "name\n",
      "students_number\n"
     ]
    }
   ],
   "source": [
    "students(name=\"Jake\",students_number=\"401\")"
   ]
  },
  {
   "cell_type": "markdown",
   "id": "a8eb9092",
   "metadata": {},
   "source": [
    "### 3) Using Args and Kwargs Together\n",
    "* Kullanım sırası önemli oluyor"
   ]
  },
  {
   "cell_type": "code",
   "execution_count": 18,
   "id": "70c629f0",
   "metadata": {},
   "outputs": [
    {
     "ename": "SyntaxError",
     "evalue": "invalid syntax (307137256.py, line 1)",
     "output_type": "error",
     "traceback": [
      "\u001b[1;36m  Input \u001b[1;32mIn [18]\u001b[1;36m\u001b[0m\n\u001b[1;33m    def weird(**kwargs,*args):\u001b[0m\n\u001b[1;37m                       ^\u001b[0m\n\u001b[1;31mSyntaxError\u001b[0m\u001b[1;31m:\u001b[0m invalid syntax\n"
     ]
    }
   ],
   "source": [
    "def weird(**kwargs,*args):\n",
    "    res=0\n",
    "    for e in args:\n",
    "        res+=e\n",
    "    for k,v in kwargs.items():\n",
    "        print(k,\":\",v)\n",
    "    return res"
   ]
  },
  {
   "cell_type": "code",
   "execution_count": 20,
   "id": "6bea46cb",
   "metadata": {},
   "outputs": [],
   "source": [
    "def weird(*args,**kwargs):\n",
    "    res=0\n",
    "    for e in args:\n",
    "        res+=e\n",
    "    for k,v in kwargs.items():\n",
    "        print(k,\":\",v)\n",
    "    return res"
   ]
  },
  {
   "cell_type": "code",
   "execution_count": 22,
   "id": "2c814b61",
   "metadata": {},
   "outputs": [
    {
     "name": "stdout",
     "output_type": "stream",
     "text": [
      "name : Jake\n",
      "students_number : 401\n"
     ]
    },
    {
     "data": {
      "text/plain": [
       "6"
      ]
     },
     "execution_count": 22,
     "metadata": {},
     "output_type": "execute_result"
    }
   ],
   "source": [
    "weird(1,2,3,name=\"Jake\",students_number=401)"
   ]
  },
  {
   "cell_type": "code",
   "execution_count": 23,
   "id": "ab6bf440",
   "metadata": {},
   "outputs": [
    {
     "name": "stdout",
     "output_type": "stream",
     "text": [
      "name : Jake\n",
      "students_number : 401\n"
     ]
    },
    {
     "data": {
      "text/plain": [
       "21"
      ]
     },
     "execution_count": 23,
     "metadata": {},
     "output_type": "execute_result"
    }
   ],
   "source": [
    "weird(1,2,3,4,5,6,name=\"Jake\",students_number=401)"
   ]
  },
  {
   "cell_type": "code",
   "execution_count": 24,
   "id": "492376a4",
   "metadata": {},
   "outputs": [
    {
     "name": "stdout",
     "output_type": "stream",
     "text": [
      "name : Jake\n",
      "students_number : 401\n",
      "age : 45\n"
     ]
    },
    {
     "data": {
      "text/plain": [
       "6"
      ]
     },
     "execution_count": 24,
     "metadata": {},
     "output_type": "execute_result"
    }
   ],
   "source": [
    "weird(1,2,3,name=\"Jake\",students_number=401,age=45)"
   ]
  },
  {
   "cell_type": "markdown",
   "id": "556ed76a",
   "metadata": {},
   "source": [
    "### 4) Unpacking"
   ]
  },
  {
   "cell_type": "code",
   "execution_count": 25,
   "id": "1ca103ca",
   "metadata": {},
   "outputs": [],
   "source": [
    "l=[1,2,3,4]"
   ]
  },
  {
   "cell_type": "code",
   "execution_count": 26,
   "id": "9143b3c5",
   "metadata": {},
   "outputs": [
    {
     "name": "stdout",
     "output_type": "stream",
     "text": [
      "[1, 2, 3, 4]\n"
     ]
    }
   ],
   "source": [
    "print(l)"
   ]
  },
  {
   "cell_type": "code",
   "execution_count": 27,
   "id": "71caca35",
   "metadata": {},
   "outputs": [
    {
     "name": "stdout",
     "output_type": "stream",
     "text": [
      "1 2 3 4\n"
     ]
    }
   ],
   "source": [
    "print(*l)"
   ]
  },
  {
   "cell_type": "code",
   "execution_count": 28,
   "id": "2c9dee67",
   "metadata": {},
   "outputs": [],
   "source": [
    "l1=[1,2,3,4]"
   ]
  },
  {
   "cell_type": "code",
   "execution_count": 29,
   "id": "8b3b703f",
   "metadata": {},
   "outputs": [],
   "source": [
    "l2=[20,21]"
   ]
  },
  {
   "cell_type": "code",
   "execution_count": 30,
   "id": "5459def7",
   "metadata": {},
   "outputs": [],
   "source": [
    "merged_l=[*l1,*l2]"
   ]
  },
  {
   "cell_type": "code",
   "execution_count": 31,
   "id": "d8c3c1cc",
   "metadata": {
    "scrolled": true
   },
   "outputs": [
    {
     "data": {
      "text/plain": [
       "[1, 2, 3, 4, 20, 21]"
      ]
     },
     "execution_count": 31,
     "metadata": {},
     "output_type": "execute_result"
    }
   ],
   "source": [
    "merged_l"
   ]
  },
  {
   "cell_type": "code",
   "execution_count": 33,
   "id": "f83487aa",
   "metadata": {},
   "outputs": [],
   "source": [
    "d1={\"name\":\"Jake\",\"number\":402}"
   ]
  },
  {
   "cell_type": "code",
   "execution_count": 34,
   "id": "fdd8255a",
   "metadata": {},
   "outputs": [],
   "source": [
    "d2={\"last_name\":\"Sky\",\"grade\":74}"
   ]
  },
  {
   "cell_type": "code",
   "execution_count": 35,
   "id": "62b2a909",
   "metadata": {},
   "outputs": [
    {
     "ename": "TypeError",
     "evalue": "unsupported operand type(s) for +: 'dict' and 'dict'",
     "output_type": "error",
     "traceback": [
      "\u001b[1;31m---------------------------------------------------------------------------\u001b[0m",
      "\u001b[1;31mTypeError\u001b[0m                                 Traceback (most recent call last)",
      "Input \u001b[1;32mIn [35]\u001b[0m, in \u001b[0;36m<cell line: 1>\u001b[1;34m()\u001b[0m\n\u001b[1;32m----> 1\u001b[0m \u001b[43md1\u001b[49m\u001b[38;5;241;43m+\u001b[39;49m\u001b[43md2\u001b[49m\n",
      "\u001b[1;31mTypeError\u001b[0m: unsupported operand type(s) for +: 'dict' and 'dict'"
     ]
    }
   ],
   "source": [
    "d1+d2"
   ]
  },
  {
   "cell_type": "code",
   "execution_count": 38,
   "id": "0dcb3664",
   "metadata": {},
   "outputs": [],
   "source": [
    "d_merged={**d1,**d2}"
   ]
  },
  {
   "cell_type": "code",
   "execution_count": 39,
   "id": "73f455f8",
   "metadata": {},
   "outputs": [
    {
     "data": {
      "text/plain": [
       "{'name': 'Jake', 'number': 402, 'last_name': 'Sky', 'grade': 74}"
      ]
     },
     "execution_count": 39,
     "metadata": {},
     "output_type": "execute_result"
    }
   ],
   "source": [
    "d_merged"
   ]
  },
  {
   "cell_type": "code",
   "execution_count": 42,
   "id": "66959358",
   "metadata": {},
   "outputs": [],
   "source": [
    "d1={\"name\":\"Jake\",\"number\":402}\n",
    "d2={\"last_name\":\"Sky\",\"grade\":74}\n",
    "d3={\"name\":\"B\",\"number\":45}"
   ]
  },
  {
   "cell_type": "code",
   "execution_count": 43,
   "id": "c6b28e7e",
   "metadata": {},
   "outputs": [],
   "source": [
    "d_merged_3={**d1,**d2,**d3}"
   ]
  },
  {
   "cell_type": "code",
   "execution_count": 44,
   "id": "191552f3",
   "metadata": {},
   "outputs": [
    {
     "data": {
      "text/plain": [
       "{'name': 'B', 'number': 45, 'last_name': 'Sky', 'grade': 74}"
      ]
     },
     "execution_count": 44,
     "metadata": {},
     "output_type": "execute_result"
    }
   ],
   "source": [
    "d_merged_3"
   ]
  },
  {
   "cell_type": "code",
   "execution_count": 47,
   "id": "da5f033c",
   "metadata": {},
   "outputs": [],
   "source": [
    "str_list=[*\"hey this is a string\"]"
   ]
  },
  {
   "cell_type": "code",
   "execution_count": 48,
   "id": "9248a92e",
   "metadata": {},
   "outputs": [
    {
     "data": {
      "text/plain": [
       "['h',\n",
       " 'e',\n",
       " 'y',\n",
       " ' ',\n",
       " 't',\n",
       " 'h',\n",
       " 'i',\n",
       " 's',\n",
       " ' ',\n",
       " 'i',\n",
       " 's',\n",
       " ' ',\n",
       " 'a',\n",
       " ' ',\n",
       " 's',\n",
       " 't',\n",
       " 'r',\n",
       " 'i',\n",
       " 'n',\n",
       " 'g']"
      ]
     },
     "execution_count": 48,
     "metadata": {},
     "output_type": "execute_result"
    }
   ],
   "source": [
    "str_list"
   ]
  },
  {
   "cell_type": "code",
   "execution_count": 49,
   "id": "58c3c323",
   "metadata": {},
   "outputs": [],
   "source": [
    "str_list=[*\"hey\"]"
   ]
  },
  {
   "cell_type": "code",
   "execution_count": 50,
   "id": "eb9b5eb7",
   "metadata": {},
   "outputs": [
    {
     "data": {
      "text/plain": [
       "['h', 'e', 'y']"
      ]
     },
     "execution_count": 50,
     "metadata": {},
     "output_type": "execute_result"
    }
   ],
   "source": [
    "str_list"
   ]
  },
  {
   "cell_type": "markdown",
   "id": "69f8bf23",
   "metadata": {},
   "source": [
    "# Closure\n",
    "* Outer(dış) fonksiyonu çağırdıktan sonra bile inner function'ın outer funciton scope'una erişebilmesi"
   ]
  },
  {
   "cell_type": "code",
   "execution_count": 51,
   "id": "67a30b05",
   "metadata": {},
   "outputs": [],
   "source": [
    "def outer():\n",
    "    msg=\"Hey\"\n",
    "    def inner():\n",
    "        print(msg)\n",
    "    return inner()"
   ]
  },
  {
   "cell_type": "code",
   "execution_count": 52,
   "id": "fdbb9a99",
   "metadata": {},
   "outputs": [
    {
     "name": "stdout",
     "output_type": "stream",
     "text": [
      "Hey\n"
     ]
    }
   ],
   "source": [
    "outer()"
   ]
  },
  {
   "cell_type": "markdown",
   "id": "68c17263",
   "metadata": {},
   "source": [
    "* Bu örnek daha önce yaptıklarımızdan farklı değil, inner function enclosing scope a erişip `msg` değişkenini bastırabildi. "
   ]
  },
  {
   "cell_type": "code",
   "execution_count": 56,
   "id": "1fbb5fcc",
   "metadata": {},
   "outputs": [],
   "source": [
    "def outer():\n",
    "    msg=\"Hey\"\n",
    "    def inner():\n",
    "        print(msg)\n",
    "    return inner"
   ]
  },
  {
   "cell_type": "code",
   "execution_count": 57,
   "id": "81e1deac",
   "metadata": {},
   "outputs": [],
   "source": [
    "f=outer()"
   ]
  },
  {
   "cell_type": "code",
   "execution_count": 66,
   "id": "60970adc",
   "metadata": {
    "scrolled": true
   },
   "outputs": [
    {
     "data": {
      "text/plain": [
       "<function __main__.outer.<locals>.inner()>"
      ]
     },
     "execution_count": 66,
     "metadata": {},
     "output_type": "execute_result"
    }
   ],
   "source": [
    "f"
   ]
  },
  {
   "cell_type": "markdown",
   "id": "61f425e5",
   "metadata": {},
   "source": [
    "* Şimdi outer functionı çağırmış olduk ve bize içinde tanımlanan inner functionı obje olarak döndürmüş oldu. Function call yapmadığım sürece obje olarak kalacak"
   ]
  },
  {
   "cell_type": "code",
   "execution_count": 67,
   "id": "15037876",
   "metadata": {},
   "outputs": [
    {
     "name": "stdout",
     "output_type": "stream",
     "text": [
      "Hey\n"
     ]
    }
   ],
   "source": [
    "f()"
   ]
  },
  {
   "cell_type": "markdown",
   "id": "68fb7195",
   "metadata": {},
   "source": [
    "* Burada outer function çağırılmış olsa da onun scopeunda tanımlanan değişkene hala erişebildik."
   ]
  },
  {
   "cell_type": "code",
   "execution_count": 68,
   "id": "9d4e5135",
   "metadata": {},
   "outputs": [],
   "source": [
    "def outer(msg):\n",
    "    msg=msg\n",
    "    def inner():\n",
    "        print(msg)\n",
    "    return inner"
   ]
  },
  {
   "cell_type": "code",
   "execution_count": 69,
   "id": "748f6cc6",
   "metadata": {},
   "outputs": [],
   "source": [
    "hi_f=outer(\"hi\")"
   ]
  },
  {
   "cell_type": "code",
   "execution_count": 70,
   "id": "1e379827",
   "metadata": {},
   "outputs": [],
   "source": [
    "hey_f=outer(\"hey\")"
   ]
  },
  {
   "cell_type": "code",
   "execution_count": 71,
   "id": "fdd0512d",
   "metadata": {},
   "outputs": [
    {
     "name": "stdout",
     "output_type": "stream",
     "text": [
      "hi\n"
     ]
    }
   ],
   "source": [
    "hi_f()"
   ]
  },
  {
   "cell_type": "code",
   "execution_count": 72,
   "id": "bc342cbd",
   "metadata": {
    "scrolled": true
   },
   "outputs": [
    {
     "name": "stdout",
     "output_type": "stream",
     "text": [
      "hey\n"
     ]
    }
   ],
   "source": [
    "hey_f()"
   ]
  },
  {
   "cell_type": "markdown",
   "id": "fe0a33ac",
   "metadata": {},
   "source": [
    "# Decorator\n",
    "* Decoratorlar başka fonksiyonları parametre olarak kabul edip yeni bir fonksiyonalite ile yeni bir fonksiyon döndüren yapıdır."
   ]
  },
  {
   "cell_type": "code",
   "execution_count": 73,
   "id": "2a1594fd",
   "metadata": {},
   "outputs": [],
   "source": [
    "def print_func():\n",
    "    print(\"hey\")"
   ]
  },
  {
   "cell_type": "code",
   "execution_count": 74,
   "id": "a1c726b2",
   "metadata": {},
   "outputs": [],
   "source": [
    "def decorator_func(func):\n",
    "    def wrapper_func():\n",
    "        return func()\n",
    "    return wrapper_func"
   ]
  },
  {
   "cell_type": "code",
   "execution_count": 75,
   "id": "f0bdbe72",
   "metadata": {},
   "outputs": [],
   "source": [
    "decorated_print= decorator_func(print_func)"
   ]
  },
  {
   "cell_type": "code",
   "execution_count": 76,
   "id": "da34ff41",
   "metadata": {},
   "outputs": [
    {
     "name": "stdout",
     "output_type": "stream",
     "text": [
      "hey\n"
     ]
    }
   ],
   "source": [
    "decorated_print()"
   ]
  },
  {
   "cell_type": "markdown",
   "id": "8f01fea5",
   "metadata": {},
   "source": [
    "* Var olan fonksiyona fonksiyonu değiştirmeden yeni bir davranış kazandıracağız"
   ]
  },
  {
   "cell_type": "code",
   "execution_count": 77,
   "id": "da6f1965",
   "metadata": {},
   "outputs": [],
   "source": [
    "def decorator_func(func):\n",
    "    def wrapper_func():\n",
    "        print(f\"the name of function is {func.__name__}\")\n",
    "        return func()\n",
    "    return wrapper_func"
   ]
  },
  {
   "cell_type": "code",
   "execution_count": 78,
   "id": "9113797b",
   "metadata": {},
   "outputs": [],
   "source": [
    "decorated_print=decorator_func(print_func)"
   ]
  },
  {
   "cell_type": "code",
   "execution_count": 79,
   "id": "0e577779",
   "metadata": {},
   "outputs": [
    {
     "name": "stdout",
     "output_type": "stream",
     "text": [
      "the name of function is print_func\n",
      "hey\n"
     ]
    }
   ],
   "source": [
    "decorated_print()"
   ]
  },
  {
   "cell_type": "markdown",
   "id": "9b68543f",
   "metadata": {},
   "source": [
    "* Aynı şeyi şu şekilde de yapabilirdik:"
   ]
  },
  {
   "cell_type": "code",
   "execution_count": 80,
   "id": "e7926145",
   "metadata": {},
   "outputs": [],
   "source": [
    "# şununla aynı: print_func=decorator_func(print_func)\n",
    "@decorator_func\n",
    "def print_func():\n",
    "    print(\"hey\")"
   ]
  },
  {
   "cell_type": "markdown",
   "id": "e85fa8a9",
   "metadata": {},
   "source": [
    "* `@func`un yapınca aslında fonksiyonumuzu func a input olarak veriyoruz."
   ]
  },
  {
   "cell_type": "code",
   "execution_count": 81,
   "id": "b4441178",
   "metadata": {},
   "outputs": [
    {
     "name": "stdout",
     "output_type": "stream",
     "text": [
      "the name of function is print_func\n",
      "hey\n"
     ]
    }
   ],
   "source": [
    "print_func()"
   ]
  },
  {
   "cell_type": "code",
   "execution_count": 82,
   "id": "3d293d7a",
   "metadata": {},
   "outputs": [],
   "source": [
    "def func(name,number):\n",
    "    print(f\"Name:{name},number:{number}\")"
   ]
  },
  {
   "cell_type": "code",
   "execution_count": 83,
   "id": "41a5bae6",
   "metadata": {},
   "outputs": [
    {
     "name": "stdout",
     "output_type": "stream",
     "text": [
      "Name:jack,number:102\n"
     ]
    }
   ],
   "source": [
    "func(\"jack\",102)"
   ]
  },
  {
   "cell_type": "code",
   "execution_count": 84,
   "id": "e86c2857",
   "metadata": {},
   "outputs": [],
   "source": [
    "def decorator_func(func):\n",
    "    def wrapper_func():\n",
    "        print(f\"the name of the function is {func.__name__}\")\n",
    "        return func(*args)\n",
    "    return wrapper_func"
   ]
  },
  {
   "cell_type": "code",
   "execution_count": 86,
   "id": "61390dd6",
   "metadata": {},
   "outputs": [],
   "source": [
    "@decorator_func #func=decorator_func(func)\n",
    "def func(name,number):\n",
    "    print(f\"Name:{name},number:{number}\")"
   ]
  },
  {
   "cell_type": "code",
   "execution_count": 87,
   "id": "c909d46c",
   "metadata": {},
   "outputs": [
    {
     "ename": "TypeError",
     "evalue": "decorator_func.<locals>.wrapper_func() takes 0 positional arguments but 2 were given",
     "output_type": "error",
     "traceback": [
      "\u001b[1;31m---------------------------------------------------------------------------\u001b[0m",
      "\u001b[1;31mTypeError\u001b[0m                                 Traceback (most recent call last)",
      "Input \u001b[1;32mIn [87]\u001b[0m, in \u001b[0;36m<cell line: 2>\u001b[1;34m()\u001b[0m\n\u001b[0;32m      1\u001b[0m \u001b[38;5;66;03m#wrapper a argüman olarak verir bunları\u001b[39;00m\n\u001b[1;32m----> 2\u001b[0m \u001b[43mfunc\u001b[49m\u001b[43m(\u001b[49m\u001b[38;5;124;43m\"\u001b[39;49m\u001b[38;5;124;43mJack\u001b[39;49m\u001b[38;5;124;43m\"\u001b[39;49m\u001b[43m,\u001b[49m\u001b[38;5;241;43m102\u001b[39;49m\u001b[43m)\u001b[49m\n",
      "\u001b[1;31mTypeError\u001b[0m: decorator_func.<locals>.wrapper_func() takes 0 positional arguments but 2 were given"
     ]
    }
   ],
   "source": [
    "#wrapper a argüman olarak verir bunları\n",
    "func(\"Jack\",102)"
   ]
  },
  {
   "cell_type": "code",
   "execution_count": 88,
   "id": "95d9a857",
   "metadata": {},
   "outputs": [],
   "source": [
    "def decorator_func(func):\n",
    "    def wrapper_func(*args):\n",
    "        print(f\"the name of the function is {func.__name__}\")\n",
    "        return func(*args)\n",
    "    return wrapper_func"
   ]
  },
  {
   "cell_type": "code",
   "execution_count": 89,
   "id": "a14e1884",
   "metadata": {},
   "outputs": [],
   "source": [
    " @decorator_func\n",
    "def func(name,number):\n",
    "    print(f\"Name:{name},number:{number}\")"
   ]
  },
  {
   "cell_type": "code",
   "execution_count": 90,
   "id": "fa7fd870",
   "metadata": {},
   "outputs": [
    {
     "name": "stdout",
     "output_type": "stream",
     "text": [
      "the name of the function is func\n",
      "Name:Jack,number:102\n"
     ]
    }
   ],
   "source": [
    "func(\"Jack\",102)"
   ]
  },
  {
   "cell_type": "code",
   "execution_count": null,
   "id": "c46ab7c9",
   "metadata": {},
   "outputs": [],
   "source": []
  }
 ],
 "metadata": {
  "kernelspec": {
   "display_name": "Python 3 (ipykernel)",
   "language": "python",
   "name": "python3"
  },
  "language_info": {
   "codemirror_mode": {
    "name": "ipython",
    "version": 3
   },
   "file_extension": ".py",
   "mimetype": "text/x-python",
   "name": "python",
   "nbconvert_exporter": "python",
   "pygments_lexer": "ipython3",
   "version": "3.10.5"
  }
 },
 "nbformat": 4,
 "nbformat_minor": 5
}
