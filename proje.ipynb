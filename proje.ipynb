{
 "cells": [
  {
   "cell_type": "markdown",
   "id": "be1b8e68",
   "metadata": {},
   "source": [
    "### 1- Bir listeyi düzleştiren (flatten) fonksiyon yazın. Elemanları birden çok katmanlı listelerden ([[3],2] gibi) oluşabileceği gibi, non-scalar verilerden de oluşabilir. Örnek olarak:\n",
    "\n",
    "### input: [[1,'a',['cat'],2],[[[3]],'dog'],4,5]\n",
    "\n",
    "### output: [1,'a','cat',2,3,'dog',4,5]"
   ]
  },
  {
   "cell_type": "code",
   "execution_count": 29,
   "id": "2f28a94b",
   "metadata": {},
   "outputs": [],
   "source": [
    "l=[[1,'a',['cat'],2],[[[3]],'dog'],4,5]"
   ]
  },
  {
   "cell_type": "code",
   "execution_count": 30,
   "id": "f7650abf",
   "metadata": {},
   "outputs": [],
   "source": [
    "def flatten(x):\n",
    "    lnew = []\n",
    "    for i in x:\n",
    "        if isinstance(i, list):\n",
    "            flatten(i)\n",
    "        else:\n",
    "            lnew.append(i)"
   ]
  },
  {
   "cell_type": "code",
   "execution_count": 31,
   "id": "44dd144f",
   "metadata": {},
   "outputs": [],
   "source": [
    "flatten(l)"
   ]
  },
  {
   "cell_type": "code",
   "execution_count": 32,
   "id": "b6f35822",
   "metadata": {},
   "outputs": [
    {
     "name": "stdout",
     "output_type": "stream",
     "text": [
      "[1, 'a', 'cat', 2, 3, 'dog', 4, 5]\n"
     ]
    }
   ],
   "source": [
    "print(lnew)"
   ]
  },
  {
   "cell_type": "markdown",
   "id": "bfeb5e38",
   "metadata": {},
   "source": [
    "### 2- Verilen listenin içindeki elemanları tersine döndüren bir fonksiyon yazın. Eğer listenin içindeki elemanlar da liste içeriyorsa onların elemanlarını da tersine döndürün. Örnek olarak:\n",
    "\n",
    "### input: [[1, 2], [3, 4], [5, 6, 7]]\n",
    "\n",
    "### output: [[[7, 6, 5], [4, 3], [2, 1]]"
   ]
  },
  {
   "cell_type": "code",
   "execution_count": 33,
   "id": "ed4c2164",
   "metadata": {},
   "outputs": [],
   "source": [
    "l=[[1, 2], [3, 4], [5, 6, 7]]"
   ]
  },
  {
   "cell_type": "code",
   "execution_count": 34,
   "id": "96390faf",
   "metadata": {},
   "outputs": [],
   "source": [
    "def reverse(x):\n",
    "    for i in x:\n",
    "        if isinstance(i, list):\n",
    "            i.reverse()\n",
    "    x.reverse()\n",
    "    return x"
   ]
  },
  {
   "cell_type": "code",
   "execution_count": 36,
   "id": "6f8c8dfd",
   "metadata": {},
   "outputs": [
    {
     "name": "stdout",
     "output_type": "stream",
     "text": [
      "[[7, 6, 5], [4, 3], [2, 1]]\n"
     ]
    }
   ],
   "source": [
    "print(reverse(l))"
   ]
  }
 ],
 "metadata": {
  "kernelspec": {
   "display_name": "Python 3 (ipykernel)",
   "language": "python",
   "name": "python3"
  },
  "language_info": {
   "codemirror_mode": {
    "name": "ipython",
    "version": 3
   },
   "file_extension": ".py",
   "mimetype": "text/x-python",
   "name": "python",
   "nbconvert_exporter": "python",
   "pygments_lexer": "ipython3",
   "version": "3.10.5"
  }
 },
 "nbformat": 4,
 "nbformat_minor": 5
}
