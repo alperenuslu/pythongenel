{
 "cells": [
  {
   "cell_type": "markdown",
   "id": "952c6d3a",
   "metadata": {},
   "source": [
    "# Deneme"
   ]
  },
  {
   "cell_type": "markdown",
   "id": "94ada57f",
   "metadata": {},
   "source": [
    "* Burada yapılanlar jupyter notebook u tanıtıyor"
   ]
  },
  {
   "cell_type": "code",
   "execution_count": 4,
   "id": "1710d0a0",
   "metadata": {},
   "outputs": [
    {
     "name": "stdout",
     "output_type": "stream",
     "text": [
      "2\n"
     ]
    }
   ],
   "source": [
    "x=2 \n",
    "print (x)"
   ]
  },
  {
   "cell_type": "code",
   "execution_count": 5,
   "id": "bbf6fb10",
   "metadata": {},
   "outputs": [
    {
     "name": "stdout",
     "output_type": "stream",
     "text": [
      "7\n"
     ]
    }
   ],
   "source": [
    "x=2+5\n",
    "print (x)"
   ]
  },
  {
   "cell_type": "markdown",
   "id": "a7c396ee",
   "metadata": {},
   "source": [
    "* type sorgulama"
   ]
  },
  {
   "cell_type": "code",
   "execution_count": 7,
   "id": "964923b4",
   "metadata": {
    "scrolled": true
   },
   "outputs": [
    {
     "data": {
      "text/plain": [
       "int"
      ]
     },
     "execution_count": 7,
     "metadata": {},
     "output_type": "execute_result"
    }
   ],
   "source": [
    "type(3)"
   ]
  },
  {
   "cell_type": "markdown",
   "id": "43c97baf",
   "metadata": {},
   "source": [
    "* type casting"
   ]
  },
  {
   "cell_type": "code",
   "execution_count": 9,
   "id": "78158220",
   "metadata": {},
   "outputs": [
    {
     "data": {
      "text/plain": [
       "4"
      ]
     },
     "execution_count": 9,
     "metadata": {},
     "output_type": "execute_result"
    }
   ],
   "source": [
    "int(4.2)"
   ]
  },
  {
   "cell_type": "code",
   "execution_count": 10,
   "id": "61f243a6",
   "metadata": {},
   "outputs": [
    {
     "data": {
      "text/plain": [
       "4.0"
      ]
     },
     "execution_count": 10,
     "metadata": {},
     "output_type": "execute_result"
    }
   ],
   "source": [
    "float(4)"
   ]
  },
  {
   "cell_type": "code",
   "execution_count": 16,
   "id": "83284467",
   "metadata": {},
   "outputs": [
    {
     "name": "stdout",
     "output_type": "stream",
     "text": [
      "10.9\n"
     ]
    }
   ],
   "source": [
    "a=7.9+3\n",
    "print(a)"
   ]
  },
  {
   "cell_type": "markdown",
   "id": "cb0f7a1d",
   "metadata": {},
   "source": [
    "* değişken ataması(variable_assignment)\n",
    "* tek tek değistirmek yerine kullanılıyor"
   ]
  },
  {
   "cell_type": "code",
   "execution_count": 17,
   "id": "c7ec881e",
   "metadata": {},
   "outputs": [],
   "source": [
    "limon_fiyat = 10"
   ]
  },
  {
   "cell_type": "code",
   "execution_count": 18,
   "id": "06db598d",
   "metadata": {},
   "outputs": [],
   "source": [
    "s1=limon_fiyat*100"
   ]
  },
  {
   "cell_type": "code",
   "execution_count": 19,
   "id": "dd35cff4",
   "metadata": {},
   "outputs": [],
   "source": [
    "s2=limon_fiyat*70"
   ]
  },
  {
   "cell_type": "code",
   "execution_count": 20,
   "id": "a6607934",
   "metadata": {},
   "outputs": [],
   "source": [
    "s3=limon_fiyat*30"
   ]
  },
  {
   "cell_type": "code",
   "execution_count": 21,
   "id": "95614b32",
   "metadata": {},
   "outputs": [
    {
     "name": "stdout",
     "output_type": "stream",
     "text": [
      "1000\n"
     ]
    }
   ],
   "source": [
    "print(s1)"
   ]
  },
  {
   "cell_type": "code",
   "execution_count": 22,
   "id": "915ebb7d",
   "metadata": {},
   "outputs": [
    {
     "name": "stdout",
     "output_type": "stream",
     "text": [
      "700\n"
     ]
    }
   ],
   "source": [
    "print(s2)"
   ]
  },
  {
   "cell_type": "code",
   "execution_count": 23,
   "id": "a977e70b",
   "metadata": {},
   "outputs": [
    {
     "name": "stdout",
     "output_type": "stream",
     "text": [
      "300\n"
     ]
    }
   ],
   "source": [
    "print(s3)"
   ]
  },
  {
   "cell_type": "markdown",
   "id": "a37a63b9",
   "metadata": {},
   "source": [
    "* // böler ve küsüratı sıfırlar"
   ]
  },
  {
   "cell_type": "code",
   "execution_count": 25,
   "id": "fb3f4a81",
   "metadata": {},
   "outputs": [
    {
     "data": {
      "text/plain": [
       "2"
      ]
     },
     "execution_count": 25,
     "metadata": {},
     "output_type": "execute_result"
    }
   ],
   "source": [
    "5//2"
   ]
  },
  {
   "cell_type": "code",
   "execution_count": 26,
   "id": "f23be3e3",
   "metadata": {},
   "outputs": [
    {
     "data": {
      "text/plain": [
       "2.0"
      ]
     },
     "execution_count": 26,
     "metadata": {},
     "output_type": "execute_result"
    }
   ],
   "source": [
    "5//2.5"
   ]
  },
  {
   "cell_type": "markdown",
   "id": "57a4bf04",
   "metadata": {},
   "source": [
    "* mod alma (kalan gibi birşey)"
   ]
  },
  {
   "cell_type": "code",
   "execution_count": 27,
   "id": "f11ccbfa",
   "metadata": {},
   "outputs": [
    {
     "data": {
      "text/plain": [
       "1"
      ]
     },
     "execution_count": 27,
     "metadata": {},
     "output_type": "execute_result"
    }
   ],
   "source": [
    "5%2"
   ]
  },
  {
   "cell_type": "code",
   "execution_count": 28,
   "id": "bc128d8d",
   "metadata": {},
   "outputs": [
    {
     "data": {
      "text/plain": [
       "1"
      ]
     },
     "execution_count": 28,
     "metadata": {},
     "output_type": "execute_result"
    }
   ],
   "source": [
    "10%3"
   ]
  },
  {
   "cell_type": "code",
   "execution_count": 31,
   "id": "e69cb2e2",
   "metadata": {},
   "outputs": [
    {
     "data": {
      "text/plain": [
       "0.5"
      ]
     },
     "execution_count": 31,
     "metadata": {},
     "output_type": "execute_result"
    }
   ],
   "source": [
    "2.5%2"
   ]
  },
  {
   "cell_type": "markdown",
   "id": "c46c4adc",
   "metadata": {},
   "source": [
    "* ** işareti üst almada kullanılır"
   ]
  },
  {
   "cell_type": "code",
   "execution_count": 32,
   "id": "f03aefb5",
   "metadata": {},
   "outputs": [
    {
     "data": {
      "text/plain": [
       "8"
      ]
     },
     "execution_count": 32,
     "metadata": {},
     "output_type": "execute_result"
    }
   ],
   "source": [
    "2**3"
   ]
  },
  {
   "cell_type": "code",
   "execution_count": 33,
   "id": "e0b9717b",
   "metadata": {},
   "outputs": [
    {
     "data": {
      "text/plain": [
       "5.76"
      ]
     },
     "execution_count": 33,
     "metadata": {},
     "output_type": "execute_result"
    }
   ],
   "source": [
    "2.4**2"
   ]
  },
  {
   "cell_type": "markdown",
   "id": "6597a0bd",
   "metadata": {},
   "source": [
    "* print() yazmada kullanılır"
   ]
  },
  {
   "cell_type": "markdown",
   "id": "ff2b9f9b",
   "metadata": {},
   "source": [
    " # String"
   ]
  },
  {
   "cell_type": "markdown",
   "id": "64d07d03",
   "metadata": {},
   "source": [
    "* Bir şeyin string olduğunu tanımlamak için ikili tırnak(\"\") veya tek tırnak('') içinde yazarız"
   ]
  },
  {
   "cell_type": "markdown",
   "id": "59578684",
   "metadata": {},
   "source": [
    "* escape sequences"
   ]
  },
  {
   "cell_type": "code",
   "execution_count": 4,
   "id": "de1dce33",
   "metadata": {},
   "outputs": [
    {
     "data": {
      "text/plain": [
       "'Bana \"Bugün ne yapıyorsun\" dedi'"
      ]
     },
     "execution_count": 4,
     "metadata": {},
     "output_type": "execute_result"
    }
   ],
   "source": [
    "\"Bana \\\"Bugün ne yapıyorsun\\\" dedi\""
   ]
  },
  {
   "cell_type": "code",
   "execution_count": 7,
   "id": "7e1a95ec",
   "metadata": {},
   "outputs": [
    {
     "data": {
      "text/plain": [
       "\"Bugün Kadıköye'e gidiyorum\""
      ]
     },
     "execution_count": 7,
     "metadata": {},
     "output_type": "execute_result"
    }
   ],
   "source": [
    "'Bugün Kadıköye\\'e gidiyorum'"
   ]
  },
  {
   "cell_type": "code",
   "execution_count": 9,
   "id": "228c9f4e",
   "metadata": {},
   "outputs": [
    {
     "name": "stdout",
     "output_type": "stream",
     "text": [
      "hey \n",
      "nasılsın\n"
     ]
    }
   ],
   "source": [
    "print(\"hey \\nnasılsın\")"
   ]
  },
  {
   "cell_type": "code",
   "execution_count": 10,
   "id": "9c090375",
   "metadata": {},
   "outputs": [
    {
     "name": "stdout",
     "output_type": "stream",
     "text": [
      "hey \tnasılsın\n"
     ]
    }
   ],
   "source": [
    "print(\"hey\\tnasılsın\")"
   ]
  },
  {
   "cell_type": "code",
   "execution_count": 11,
   "id": "4b656aef",
   "metadata": {},
   "outputs": [
    {
     "name": "stdout",
     "output_type": "stream",
     "text": [
      "hmm \\\n"
     ]
    }
   ],
   "source": [
    "print(\"hmm \\\\\")"
   ]
  },
  {
   "cell_type": "code",
   "execution_count": 14,
   "id": "a72f1b1a",
   "metadata": {
    "scrolled": true
   },
   "outputs": [
    {
     "name": "stdout",
     "output_type": "stream",
     "text": [
      "Bugün Mecidiyeköy'den Mecidiyeköy'\\e 40 dakikada gittim.\n"
     ]
    }
   ],
   "source": [
    "print(\"Bugün Mecidiyeköy'den Mecidiyeköy'\\e 40 dakikada gittim.\")"
   ]
  },
  {
   "cell_type": "markdown",
   "id": "943f40d5",
   "metadata": {},
   "source": [
    "* *+* operatörü birleştirme yapar\n",
    "* _*_ operatörü ardışık birleştirme yapar"
   ]
  },
  {
   "cell_type": "code",
   "execution_count": 15,
   "id": "155acbbd",
   "metadata": {},
   "outputs": [
    {
     "data": {
      "text/plain": [
       "'54'"
      ]
     },
     "execution_count": 15,
     "metadata": {},
     "output_type": "execute_result"
    }
   ],
   "source": [
    "\"5\"+\"4\""
   ]
  },
  {
   "cell_type": "code",
   "execution_count": 16,
   "id": "5fa485eb",
   "metadata": {},
   "outputs": [],
   "source": [
    "mesaj=\"Merhaba\""
   ]
  },
  {
   "cell_type": "code",
   "execution_count": 17,
   "id": "dccba684",
   "metadata": {},
   "outputs": [],
   "source": [
    "isim=\"Alperen\""
   ]
  },
  {
   "cell_type": "code",
   "execution_count": 18,
   "id": "034b35cf",
   "metadata": {},
   "outputs": [
    {
     "data": {
      "text/plain": [
       "'Merhaba Alperen'"
      ]
     },
     "execution_count": 18,
     "metadata": {},
     "output_type": "execute_result"
    }
   ],
   "source": [
    "mesaj + \" \" + isim"
   ]
  },
  {
   "cell_type": "code",
   "execution_count": 21,
   "id": "c6a1ec35",
   "metadata": {},
   "outputs": [],
   "source": [
    "karsilama = mesaj + \" \" + isim"
   ]
  },
  {
   "cell_type": "code",
   "execution_count": 22,
   "id": "5bfad847",
   "metadata": {},
   "outputs": [
    {
     "name": "stdout",
     "output_type": "stream",
     "text": [
      "Merhaba Alperen\n"
     ]
    }
   ],
   "source": [
    "print(karsilama)"
   ]
  },
  {
   "cell_type": "code",
   "execution_count": 23,
   "id": "0d3717d5",
   "metadata": {},
   "outputs": [
    {
     "data": {
      "text/plain": [
       "'heyheyheyhey'"
      ]
     },
     "execution_count": 23,
     "metadata": {},
     "output_type": "execute_result"
    }
   ],
   "source": [
    "4 * \"hey\""
   ]
  },
  {
   "cell_type": "code",
   "execution_count": 24,
   "id": "10401f03",
   "metadata": {},
   "outputs": [
    {
     "data": {
      "text/plain": [
       "'10000000000'"
      ]
     },
     "execution_count": 24,
     "metadata": {},
     "output_type": "execute_result"
    }
   ],
   "source": [
    "\"1\" + \"0\"*10"
   ]
  },
  {
   "cell_type": "markdown",
   "id": "609134c0",
   "metadata": {},
   "source": [
    "# len() "
   ]
  },
  {
   "cell_type": "markdown",
   "id": "3eb39664",
   "metadata": {},
   "source": [
    "* kaç tane karakter olduştuğunu öğrenebiliriz"
   ]
  },
  {
   "cell_type": "code",
   "execution_count": 25,
   "id": "6f8a0739",
   "metadata": {},
   "outputs": [
    {
     "data": {
      "text/plain": [
       "12"
      ]
     },
     "execution_count": 25,
     "metadata": {},
     "output_type": "execute_result"
    }
   ],
   "source": [
    "len(\"hey nasılsın\")"
   ]
  },
  {
   "cell_type": "markdown",
   "id": "e9e577e0",
   "metadata": {},
   "source": [
    "## Indexing"
   ]
  },
  {
   "cell_type": "code",
   "execution_count": 27,
   "id": "d4bd9489",
   "metadata": {},
   "outputs": [],
   "source": [
    "isim = \"Alperen\""
   ]
  },
  {
   "cell_type": "code",
   "execution_count": 28,
   "id": "9972cd68",
   "metadata": {},
   "outputs": [
    {
     "data": {
      "text/plain": [
       "'l'"
      ]
     },
     "execution_count": 28,
     "metadata": {},
     "output_type": "execute_result"
    }
   ],
   "source": [
    "isim[1]"
   ]
  },
  {
   "cell_type": "code",
   "execution_count": 29,
   "id": "c84e3175",
   "metadata": {},
   "outputs": [
    {
     "data": {
      "text/plain": [
       "'l'"
      ]
     },
     "execution_count": 29,
     "metadata": {},
     "output_type": "execute_result"
    }
   ],
   "source": [
    "\"Alperen\"[1]"
   ]
  },
  {
   "cell_type": "code",
   "execution_count": 30,
   "id": "ac6c65cc",
   "metadata": {},
   "outputs": [
    {
     "data": {
      "text/plain": [
       "7"
      ]
     },
     "execution_count": 30,
     "metadata": {},
     "output_type": "execute_result"
    }
   ],
   "source": [
    "len(isim)"
   ]
  },
  {
   "cell_type": "markdown",
   "id": "a1a5fb6d",
   "metadata": {},
   "source": [
    "* son eleman için -1 sondan ikinci için -2 yazılır"
   ]
  },
  {
   "cell_type": "code",
   "execution_count": 31,
   "id": "60c94dff",
   "metadata": {},
   "outputs": [
    {
     "data": {
      "text/plain": [
       "'n'"
      ]
     },
     "execution_count": 31,
     "metadata": {},
     "output_type": "execute_result"
    }
   ],
   "source": [
    "isim[-1]"
   ]
  },
  {
   "cell_type": "code",
   "execution_count": 32,
   "id": "f1bae42c",
   "metadata": {},
   "outputs": [
    {
     "data": {
      "text/plain": [
       "'e'"
      ]
     },
     "execution_count": 32,
     "metadata": {},
     "output_type": "execute_result"
    }
   ],
   "source": [
    "isim[-2]"
   ]
  },
  {
   "cell_type": "markdown",
   "id": "00347fda",
   "metadata": {},
   "source": [
    "* index değerinden fazla verirsek hata verir"
   ]
  },
  {
   "cell_type": "code",
   "execution_count": 34,
   "id": "71c9ff8c",
   "metadata": {},
   "outputs": [
    {
     "ename": "IndexError",
     "evalue": "string index out of range",
     "output_type": "error",
     "traceback": [
      "\u001b[1;31m---------------------------------------------------------------------------\u001b[0m",
      "\u001b[1;31mIndexError\u001b[0m                                Traceback (most recent call last)",
      "Input \u001b[1;32mIn [34]\u001b[0m, in \u001b[0;36m<cell line: 1>\u001b[1;34m()\u001b[0m\n\u001b[1;32m----> 1\u001b[0m \u001b[43misim\u001b[49m\u001b[43m[\u001b[49m\u001b[38;5;241;43m8\u001b[39;49m\u001b[43m]\u001b[49m\n",
      "\u001b[1;31mIndexError\u001b[0m: string index out of range"
     ]
    }
   ],
   "source": [
    "isim[8]"
   ]
  },
  {
   "cell_type": "markdown",
   "id": "bd773c13",
   "metadata": {},
   "source": [
    "* Stringlerin elemanlarının değiştirilemez olduğundan bahsetmiştik (immutable). O yüzden şöyle şeyler yapamayız: (elemanlarını değiştirebildiğimiz non-scalar veri tiplerini de göreceğiz)"
   ]
  },
  {
   "cell_type": "code",
   "execution_count": 35,
   "id": "bda10dce",
   "metadata": {},
   "outputs": [
    {
     "ename": "TypeError",
     "evalue": "'str' object does not support item assignment",
     "output_type": "error",
     "traceback": [
      "\u001b[1;31m---------------------------------------------------------------------------\u001b[0m",
      "\u001b[1;31mTypeError\u001b[0m                                 Traceback (most recent call last)",
      "Input \u001b[1;32mIn [35]\u001b[0m, in \u001b[0;36m<cell line: 1>\u001b[1;34m()\u001b[0m\n\u001b[1;32m----> 1\u001b[0m isim[\u001b[38;5;241m0\u001b[39m] \u001b[38;5;241m=\u001b[39m \u001b[38;5;124m\"\u001b[39m\u001b[38;5;124mB\u001b[39m\u001b[38;5;124m\"\u001b[39m\n",
      "\u001b[1;31mTypeError\u001b[0m: 'str' object does not support item assignment"
     ]
    }
   ],
   "source": [
    "isim[0] = \"B\""
   ]
  },
  {
   "cell_type": "markdown",
   "id": "25875003",
   "metadata": {},
   "source": [
    "# Slicing (Dilimleme)\n",
    "* son olarak yazılan sayıyı dahil almaz\n",
    "* başlangıç veya bitişi yazmazsak default 0 verir  "
   ]
  },
  {
   "cell_type": "code",
   "execution_count": 36,
   "id": "4eb77f09",
   "metadata": {},
   "outputs": [
    {
     "data": {
      "text/plain": [
       "'Alp'"
      ]
     },
     "execution_count": 36,
     "metadata": {},
     "output_type": "execute_result"
    }
   ],
   "source": [
    "isim[0:3]"
   ]
  },
  {
   "cell_type": "code",
   "execution_count": 37,
   "id": "8e73dd99",
   "metadata": {},
   "outputs": [
    {
     "data": {
      "text/plain": [
       "'Alp'"
      ]
     },
     "execution_count": 37,
     "metadata": {},
     "output_type": "execute_result"
    }
   ],
   "source": [
    "isim[:3]"
   ]
  },
  {
   "cell_type": "code",
   "execution_count": 38,
   "id": "3ab6b6a6",
   "metadata": {},
   "outputs": [
    {
     "data": {
      "text/plain": [
       "'eren'"
      ]
     },
     "execution_count": 38,
     "metadata": {},
     "output_type": "execute_result"
    }
   ],
   "source": [
    "isim[3:]"
   ]
  },
  {
   "cell_type": "code",
   "execution_count": 39,
   "id": "6dd1dba4",
   "metadata": {},
   "outputs": [
    {
     "data": {
      "text/plain": [
       "'Alperen'"
      ]
     },
     "execution_count": 39,
     "metadata": {},
     "output_type": "execute_result"
    }
   ],
   "source": [
    "isim[:]"
   ]
  },
  {
   "cell_type": "markdown",
   "id": "54b7689e",
   "metadata": {},
   "source": [
    "* Slicing yaparken bitiş olarak verdiğimiz değer en büyük indeximizden büyükse hata almayız, sadece sonuna kadar almış olur (sadece indexing yaparken en büyük indexten büyük değer verince hata alıyorduk.)"
   ]
  },
  {
   "cell_type": "code",
   "execution_count": 40,
   "id": "9ff4e5a9",
   "metadata": {},
   "outputs": [
    {
     "data": {
      "text/plain": [
       "'lperen'"
      ]
     },
     "execution_count": 40,
     "metadata": {},
     "output_type": "execute_result"
    }
   ],
   "source": [
    "isim[1:20]"
   ]
  },
  {
   "cell_type": "markdown",
   "id": "ee135f3f",
   "metadata": {},
   "source": [
    "* başlangıç:bitiş olarak slicing yapabileceğimiz gibi, başlangıç:bitiş:adım formunda da slicing yapabiliriz. Burada adım parametresi kaçar kaçar gideceğimizi belirler."
   ]
  },
  {
   "cell_type": "code",
   "execution_count": 41,
   "id": "c9dd391a",
   "metadata": {},
   "outputs": [
    {
     "data": {
      "text/plain": [
       "'Aprn'"
      ]
     },
     "execution_count": 41,
     "metadata": {},
     "output_type": "execute_result"
    }
   ],
   "source": [
    "isim[0:10:2]"
   ]
  },
  {
   "cell_type": "code",
   "execution_count": 42,
   "id": "615ca8bc",
   "metadata": {},
   "outputs": [
    {
     "data": {
      "text/plain": [
       "'Apr'"
      ]
     },
     "execution_count": 42,
     "metadata": {},
     "output_type": "execute_result"
    }
   ],
   "source": [
    "isim[0:5:2]"
   ]
  },
  {
   "cell_type": "markdown",
   "id": "8031eec5",
   "metadata": {},
   "source": [
    "* Adım eksi bir değer de olabilir. Böylece ters yönce gitmiş oluruz. Ama başlangıç değerinin bitiş değerinden büyük olması lazım bunu yapabilmem için."
   ]
  },
  {
   "cell_type": "code",
   "execution_count": 43,
   "id": "18f565da",
   "metadata": {},
   "outputs": [
    {
     "data": {
      "text/plain": [
       "''"
      ]
     },
     "execution_count": 43,
     "metadata": {},
     "output_type": "execute_result"
    }
   ],
   "source": [
    "isim[0:10:-1]"
   ]
  },
  {
   "cell_type": "code",
   "execution_count": 46,
   "id": "0a904e9b",
   "metadata": {},
   "outputs": [
    {
     "data": {
      "text/plain": [
       "'nerepl'"
      ]
     },
     "execution_count": 46,
     "metadata": {},
     "output_type": "execute_result"
    }
   ],
   "source": [
    "isim[10:0:-1]"
   ]
  },
  {
   "cell_type": "code",
   "execution_count": 47,
   "id": "549144f8",
   "metadata": {},
   "outputs": [
    {
     "data": {
      "text/plain": [
       "'nereplA'"
      ]
     },
     "execution_count": 47,
     "metadata": {},
     "output_type": "execute_result"
    }
   ],
   "source": [
    "isim[10::-1]"
   ]
  },
  {
   "cell_type": "code",
   "execution_count": 48,
   "id": "27e8eec4",
   "metadata": {},
   "outputs": [
    {
     "data": {
      "text/plain": [
       "'nereplA'"
      ]
     },
     "execution_count": 48,
     "metadata": {},
     "output_type": "execute_result"
    }
   ],
   "source": [
    "isim[::-1]"
   ]
  },
  {
   "cell_type": "code",
   "execution_count": 49,
   "id": "c72b295a",
   "metadata": {},
   "outputs": [
    {
     "data": {
      "text/plain": [
       "'nrpA'"
      ]
     },
     "execution_count": 49,
     "metadata": {},
     "output_type": "execute_result"
    }
   ],
   "source": [
    "isim[::-2]"
   ]
  },
  {
   "cell_type": "markdown",
   "id": "589229a4",
   "metadata": {},
   "source": [
    "* casting in strings"
   ]
  },
  {
   "cell_type": "code",
   "execution_count": 50,
   "id": "271bb236",
   "metadata": {},
   "outputs": [],
   "source": [
    "a = \"5\""
   ]
  },
  {
   "cell_type": "code",
   "execution_count": 51,
   "id": "7e3f741b",
   "metadata": {},
   "outputs": [],
   "source": [
    "b = \"5.3\""
   ]
  },
  {
   "cell_type": "code",
   "execution_count": 52,
   "id": "79a00067",
   "metadata": {},
   "outputs": [
    {
     "data": {
      "text/plain": [
       "5"
      ]
     },
     "execution_count": 52,
     "metadata": {},
     "output_type": "execute_result"
    }
   ],
   "source": [
    "int(a)"
   ]
  },
  {
   "cell_type": "code",
   "execution_count": 53,
   "id": "68c1f495",
   "metadata": {
    "scrolled": true
   },
   "outputs": [
    {
     "ename": "ValueError",
     "evalue": "invalid literal for int() with base 10: '5.3'",
     "output_type": "error",
     "traceback": [
      "\u001b[1;31m---------------------------------------------------------------------------\u001b[0m",
      "\u001b[1;31mValueError\u001b[0m                                Traceback (most recent call last)",
      "Input \u001b[1;32mIn [53]\u001b[0m, in \u001b[0;36m<cell line: 1>\u001b[1;34m()\u001b[0m\n\u001b[1;32m----> 1\u001b[0m \u001b[38;5;28;43mint\u001b[39;49m\u001b[43m(\u001b[49m\u001b[43mb\u001b[49m\u001b[43m)\u001b[49m\n",
      "\u001b[1;31mValueError\u001b[0m: invalid literal for int() with base 10: '5.3'"
     ]
    }
   ],
   "source": [
    "int(b)"
   ]
  },
  {
   "cell_type": "code",
   "execution_count": 54,
   "id": "52434ad6",
   "metadata": {},
   "outputs": [
    {
     "data": {
      "text/plain": [
       "5.3"
      ]
     },
     "execution_count": 54,
     "metadata": {},
     "output_type": "execute_result"
    }
   ],
   "source": [
    "float(b)"
   ]
  },
  {
   "cell_type": "code",
   "execution_count": 57,
   "id": "3dcd93dc",
   "metadata": {
    "scrolled": true
   },
   "outputs": [
    {
     "data": {
      "text/plain": [
       "5"
      ]
     },
     "execution_count": 57,
     "metadata": {},
     "output_type": "execute_result"
    }
   ],
   "source": [
    "int(float(b))"
   ]
  },
  {
   "cell_type": "markdown",
   "id": "f9dcd3d8",
   "metadata": {},
   "source": [
    "# Input"
   ]
  },
  {
   "cell_type": "markdown",
   "id": "a06f8e4d",
   "metadata": {},
   "source": [
    "* Bazen kullanacağımız değeri kullanıcıdan almak isteyebiliriz. Bunu input metodu ile yapacağız.\n",
    "* input'un içinde yazacağımız bize kullanıcıya gösterilecek yazıyı verecek, kullanıcıdan girdi bekleyip enter'a basmasını bekleyecek, ve girdiyi string olarak döndürecek.\n"
   ]
  },
  {
   "cell_type": "code",
   "execution_count": 58,
   "id": "197d57b6",
   "metadata": {},
   "outputs": [
    {
     "name": "stdout",
     "output_type": "stream",
     "text": [
      "Bir sayi girin:10\n"
     ]
    }
   ],
   "source": [
    "x = input(\"Bir sayi girin:\")"
   ]
  },
  {
   "cell_type": "code",
   "execution_count": 59,
   "id": "00af3a2f",
   "metadata": {},
   "outputs": [
    {
     "ename": "TypeError",
     "evalue": "can only concatenate str (not \"int\") to str",
     "output_type": "error",
     "traceback": [
      "\u001b[1;31m---------------------------------------------------------------------------\u001b[0m",
      "\u001b[1;31mTypeError\u001b[0m                                 Traceback (most recent call last)",
      "Input \u001b[1;32mIn [59]\u001b[0m, in \u001b[0;36m<cell line: 1>\u001b[1;34m()\u001b[0m\n\u001b[1;32m----> 1\u001b[0m \u001b[43mx\u001b[49m\u001b[43m \u001b[49m\u001b[38;5;241;43m+\u001b[39;49m\u001b[43m \u001b[49m\u001b[38;5;241;43m10\u001b[39;49m\n",
      "\u001b[1;31mTypeError\u001b[0m: can only concatenate str (not \"int\") to str"
     ]
    }
   ],
   "source": [
    "x + 10"
   ]
  },
  {
   "cell_type": "code",
   "execution_count": 60,
   "id": "c34ef51f",
   "metadata": {},
   "outputs": [
    {
     "data": {
      "text/plain": [
       "str"
      ]
     },
     "execution_count": 60,
     "metadata": {},
     "output_type": "execute_result"
    }
   ],
   "source": [
    "type(x)"
   ]
  },
  {
   "cell_type": "code",
   "execution_count": 61,
   "id": "49c8a1f4",
   "metadata": {},
   "outputs": [
    {
     "data": {
      "text/plain": [
       "20"
      ]
     },
     "execution_count": 61,
     "metadata": {},
     "output_type": "execute_result"
    }
   ],
   "source": [
    "int(x) + 10"
   ]
  },
  {
   "cell_type": "code",
   "execution_count": 65,
   "id": "62f32b50",
   "metadata": {},
   "outputs": [
    {
     "name": "stdout",
     "output_type": "stream",
     "text": [
      "Bir sayi girin:10\n"
     ]
    }
   ],
   "source": [
    "x = int(input(\"Bir sayi girin:\"))"
   ]
  },
  {
   "cell_type": "code",
   "execution_count": 66,
   "id": "c6186c62",
   "metadata": {},
   "outputs": [
    {
     "data": {
      "text/plain": [
       "20"
      ]
     },
     "execution_count": 66,
     "metadata": {},
     "output_type": "execute_result"
    }
   ],
   "source": [
    "x + 10"
   ]
  },
  {
   "cell_type": "code",
   "execution_count": 67,
   "id": "1a1d252d",
   "metadata": {},
   "outputs": [
    {
     "name": "stdout",
     "output_type": "stream",
     "text": [
      "Mesajı girin:Merhabalar\n"
     ]
    }
   ],
   "source": [
    "mesaj = input(\"Mesajı girin:\")"
   ]
  },
  {
   "cell_type": "code",
   "execution_count": 68,
   "id": "a59b439f",
   "metadata": {},
   "outputs": [
    {
     "name": "stdout",
     "output_type": "stream",
     "text": [
      "İsim girin:Alperen\n"
     ]
    }
   ],
   "source": [
    "isim = input(\"İsim girin:\")"
   ]
  },
  {
   "cell_type": "code",
   "execution_count": 73,
   "id": "8e7b9875",
   "metadata": {},
   "outputs": [],
   "source": [
    "çıktı = mesaj + \" \" + isim"
   ]
  },
  {
   "cell_type": "code",
   "execution_count": 81,
   "id": "eea19bec",
   "metadata": {},
   "outputs": [
    {
     "name": "stdout",
     "output_type": "stream",
     "text": [
      "Merhabalar Alperen\n"
     ]
    }
   ],
   "source": [
    "print(çıktı)"
   ]
  },
  {
   "cell_type": "markdown",
   "id": "31851148",
   "metadata": {},
   "source": [
    "# Comments (yorumlar)\n"
   ]
  },
  {
   "cell_type": "markdown",
   "id": "e60c7bf9",
   "metadata": {},
   "source": [
    "* Tek Satıra Yorum Eklemek için # işareti kullanılır"
   ]
  },
  {
   "cell_type": "code",
   "execution_count": 82,
   "id": "0a5ce7b7",
   "metadata": {},
   "outputs": [],
   "source": [
    "# limon değişkeni satılan limonları ifade ediyor\n",
    "limon = 2"
   ]
  },
  {
   "cell_type": "markdown",
   "id": "6ad4cab7",
   "metadata": {},
   "source": [
    "* Birden Çok Satırı Kapsayan Yorum Yazmak için \"\"\" ifadesi kullanılır"
   ]
  },
  {
   "cell_type": "code",
   "execution_count": 83,
   "id": "733a4e27",
   "metadata": {},
   "outputs": [
    {
     "name": "stdout",
     "output_type": "stream",
     "text": [
      "14\n"
     ]
    }
   ],
   "source": [
    "\"\"\"\n",
    "limon değişkeni satılan limonları ifade ediyor.\n",
    "\n",
    "sonuc değişkeni bir haftada kaç limon satıldığını belirtiyor.\n",
    "\"\"\"\n",
    "limon = 2\n",
    "\n",
    "sonuc = limon * 7\n",
    "\n",
    "print(sonuc)"
   ]
  },
  {
   "cell_type": "code",
   "execution_count": 1,
   "id": "eb796562",
   "metadata": {},
   "outputs": [
    {
     "data": {
      "text/plain": [
       "True"
      ]
     },
     "execution_count": 1,
     "metadata": {},
     "output_type": "execute_result"
    }
   ],
   "source": [
    "x=int(float(\"3.9\"))\n",
    "\n",
    "y=3\n",
    "\n",
    "x==y"
   ]
  },
  {
   "cell_type": "markdown",
   "id": "9dd611e9",
   "metadata": {},
   "source": [
    "# Karşılaştırmalar"
   ]
  },
  {
   "cell_type": "markdown",
   "id": "388364c2",
   "metadata": {},
   "source": [
    "* == , != , < , <= , > , >="
   ]
  },
  {
   "cell_type": "code",
   "execution_count": 2,
   "id": "7fcb0fb6",
   "metadata": {},
   "outputs": [
    {
     "data": {
      "text/plain": [
       "False"
      ]
     },
     "execution_count": 2,
     "metadata": {},
     "output_type": "execute_result"
    }
   ],
   "source": [
    "5==4"
   ]
  },
  {
   "cell_type": "code",
   "execution_count": 3,
   "id": "c3ed9c1a",
   "metadata": {},
   "outputs": [
    {
     "data": {
      "text/plain": [
       "True"
      ]
     },
     "execution_count": 3,
     "metadata": {},
     "output_type": "execute_result"
    }
   ],
   "source": [
    "5==5"
   ]
  },
  {
   "cell_type": "code",
   "execution_count": 15,
   "id": "5ac41126",
   "metadata": {},
   "outputs": [
    {
     "data": {
      "text/plain": [
       "False"
      ]
     },
     "execution_count": 15,
     "metadata": {},
     "output_type": "execute_result"
    }
   ],
   "source": [
    "x = (0.3 * 3) + 0.1\n",
    "y = 1.0\n",
    "x == y"
   ]
  },
  {
   "cell_type": "code",
   "execution_count": 4,
   "id": "08893c5d",
   "metadata": {},
   "outputs": [
    {
     "data": {
      "text/plain": [
       "True"
      ]
     },
     "execution_count": 4,
     "metadata": {},
     "output_type": "execute_result"
    }
   ],
   "source": [
    "5!=4"
   ]
  },
  {
   "cell_type": "code",
   "execution_count": 5,
   "id": "5550eeba",
   "metadata": {},
   "outputs": [
    {
     "data": {
      "text/plain": [
       "False"
      ]
     },
     "execution_count": 5,
     "metadata": {},
     "output_type": "execute_result"
    }
   ],
   "source": [
    "5!=5"
   ]
  },
  {
   "cell_type": "code",
   "execution_count": 7,
   "id": "add33cc2",
   "metadata": {},
   "outputs": [
    {
     "data": {
      "text/plain": [
       "True"
      ]
     },
     "execution_count": 7,
     "metadata": {},
     "output_type": "execute_result"
    }
   ],
   "source": [
    " 4<5"
   ]
  },
  {
   "cell_type": "code",
   "execution_count": 8,
   "id": "3f3acf00",
   "metadata": {},
   "outputs": [
    {
     "data": {
      "text/plain": [
       "False"
      ]
     },
     "execution_count": 8,
     "metadata": {},
     "output_type": "execute_result"
    }
   ],
   "source": [
    "4<4"
   ]
  },
  {
   "cell_type": "code",
   "execution_count": 9,
   "id": "2694c3f6",
   "metadata": {},
   "outputs": [
    {
     "data": {
      "text/plain": [
       "True"
      ]
     },
     "execution_count": 9,
     "metadata": {},
     "output_type": "execute_result"
    }
   ],
   "source": [
    "4<=4"
   ]
  },
  {
   "cell_type": "code",
   "execution_count": 10,
   "id": "0cb2d503",
   "metadata": {},
   "outputs": [
    {
     "data": {
      "text/plain": [
       "True"
      ]
     },
     "execution_count": 10,
     "metadata": {},
     "output_type": "execute_result"
    }
   ],
   "source": [
    "5>4"
   ]
  },
  {
   "cell_type": "code",
   "execution_count": 11,
   "id": "a74db9d3",
   "metadata": {},
   "outputs": [
    {
     "data": {
      "text/plain": [
       "False"
      ]
     },
     "execution_count": 11,
     "metadata": {},
     "output_type": "execute_result"
    }
   ],
   "source": [
    "5>5"
   ]
  },
  {
   "cell_type": "code",
   "execution_count": 14,
   "id": "fc4fd6b8",
   "metadata": {},
   "outputs": [
    {
     "data": {
      "text/plain": [
       "True"
      ]
     },
     "execution_count": 14,
     "metadata": {},
     "output_type": "execute_result"
    }
   ],
   "source": [
    "5>=5"
   ]
  },
  {
   "cell_type": "code",
   "execution_count": 16,
   "id": "35054e3a",
   "metadata": {},
   "outputs": [
    {
     "data": {
      "text/plain": [
       "False"
      ]
     },
     "execution_count": 16,
     "metadata": {},
     "output_type": "execute_result"
    }
   ],
   "source": [
    "\"Elma\" == \"elma\"\n"
   ]
  },
  {
   "cell_type": "code",
   "execution_count": 17,
   "id": "59566ae2",
   "metadata": {},
   "outputs": [
    {
     "data": {
      "text/plain": [
       "True"
      ]
     },
     "execution_count": 17,
     "metadata": {},
     "output_type": "execute_result"
    }
   ],
   "source": [
    "\"Elma\" != \"elma\""
   ]
  },
  {
   "cell_type": "code",
   "execution_count": 18,
   "id": "1cee3480",
   "metadata": {},
   "outputs": [
    {
     "data": {
      "text/plain": [
       "True"
      ]
     },
     "execution_count": 18,
     "metadata": {},
     "output_type": "execute_result"
    }
   ],
   "source": [
    "\"elma\" == \"elma\""
   ]
  },
  {
   "cell_type": "code",
   "execution_count": 19,
   "id": "213c554e",
   "metadata": {},
   "outputs": [
    {
     "data": {
      "text/plain": [
       "True"
      ]
     },
     "execution_count": 19,
     "metadata": {},
     "output_type": "execute_result"
    }
   ],
   "source": [
    "\"a\" < \"b\""
   ]
  },
  {
   "cell_type": "code",
   "execution_count": 20,
   "id": "3c5b06ff",
   "metadata": {},
   "outputs": [
    {
     "data": {
      "text/plain": [
       "True"
      ]
     },
     "execution_count": 20,
     "metadata": {},
     "output_type": "execute_result"
    }
   ],
   "source": [
    "\"ab\" < \"b\""
   ]
  },
  {
   "cell_type": "code",
   "execution_count": 21,
   "id": "145ef396",
   "metadata": {},
   "outputs": [
    {
     "data": {
      "text/plain": [
       "True"
      ]
     },
     "execution_count": 21,
     "metadata": {},
     "output_type": "execute_result"
    }
   ],
   "source": [
    "\"ab\" < \"badsfadsf\""
   ]
  },
  {
   "cell_type": "code",
   "execution_count": 22,
   "id": "485f3920",
   "metadata": {},
   "outputs": [
    {
     "data": {
      "text/plain": [
       "True"
      ]
     },
     "execution_count": 22,
     "metadata": {},
     "output_type": "execute_result"
    }
   ],
   "source": [
    "\"ab\" < \"ac\""
   ]
  },
  {
   "cell_type": "code",
   "execution_count": 23,
   "id": "978f1be9",
   "metadata": {},
   "outputs": [
    {
     "data": {
      "text/plain": [
       "False"
      ]
     },
     "execution_count": 23,
     "metadata": {},
     "output_type": "execute_result"
    }
   ],
   "source": [
    "\"abc\" < \"abb\""
   ]
  },
  {
   "cell_type": "markdown",
   "id": "b59667e9",
   "metadata": {},
   "source": [
    "# Mantıksal Operatörler"
   ]
  },
  {
   "cell_type": "markdown",
   "id": "6debb4b4",
   "metadata": {},
   "source": [
    "* not"
   ]
  },
  {
   "cell_type": "code",
   "execution_count": 24,
   "id": "7936d264",
   "metadata": {},
   "outputs": [
    {
     "data": {
      "text/plain": [
       "False"
      ]
     },
     "execution_count": 24,
     "metadata": {},
     "output_type": "execute_result"
    }
   ],
   "source": [
    "not True"
   ]
  },
  {
   "cell_type": "code",
   "execution_count": 25,
   "id": "ab86d3b2",
   "metadata": {},
   "outputs": [
    {
     "data": {
      "text/plain": [
       "True"
      ]
     },
     "execution_count": 25,
     "metadata": {},
     "output_type": "execute_result"
    }
   ],
   "source": [
    "not False"
   ]
  },
  {
   "cell_type": "code",
   "execution_count": 26,
   "id": "44a117c2",
   "metadata": {},
   "outputs": [
    {
     "data": {
      "text/plain": [
       "False"
      ]
     },
     "execution_count": 26,
     "metadata": {},
     "output_type": "execute_result"
    }
   ],
   "source": [
    "not 5 < 6"
   ]
  },
  {
   "cell_type": "code",
   "execution_count": 27,
   "id": "7198a0d6",
   "metadata": {},
   "outputs": [
    {
     "data": {
      "text/plain": [
       "False"
      ]
     },
     "execution_count": 27,
     "metadata": {},
     "output_type": "execute_result"
    }
   ],
   "source": [
    "not 5 == 5"
   ]
  },
  {
   "cell_type": "code",
   "execution_count": 28,
   "id": "04bfb163",
   "metadata": {},
   "outputs": [],
   "source": [
    "a = 4\n",
    "b = 10"
   ]
  },
  {
   "cell_type": "code",
   "execution_count": 29,
   "id": "db099835",
   "metadata": {},
   "outputs": [
    {
     "data": {
      "text/plain": [
       "False"
      ]
     },
     "execution_count": 29,
     "metadata": {},
     "output_type": "execute_result"
    }
   ],
   "source": [
    "not a < b"
   ]
  },
  {
   "cell_type": "code",
   "execution_count": 30,
   "id": "b873a808",
   "metadata": {},
   "outputs": [
    {
     "data": {
      "text/plain": [
       "True"
      ]
     },
     "execution_count": 30,
     "metadata": {},
     "output_type": "execute_result"
    }
   ],
   "source": [
    "not a > b"
   ]
  },
  {
   "cell_type": "markdown",
   "id": "680506ca",
   "metadata": {},
   "source": [
    "* and\n",
    "* Sadece iki ifade de True ise True sonucu verir, yoksa False olur."
   ]
  },
  {
   "cell_type": "code",
   "execution_count": 31,
   "id": "5f7003c3",
   "metadata": {},
   "outputs": [
    {
     "data": {
      "text/plain": [
       "True"
      ]
     },
     "execution_count": 31,
     "metadata": {},
     "output_type": "execute_result"
    }
   ],
   "source": [
    "True and True"
   ]
  },
  {
   "cell_type": "code",
   "execution_count": 32,
   "id": "72dfb787",
   "metadata": {},
   "outputs": [
    {
     "data": {
      "text/plain": [
       "False"
      ]
     },
     "execution_count": 32,
     "metadata": {},
     "output_type": "execute_result"
    }
   ],
   "source": [
    "True and False"
   ]
  },
  {
   "cell_type": "code",
   "execution_count": 33,
   "id": "19e43de8",
   "metadata": {},
   "outputs": [
    {
     "data": {
      "text/plain": [
       "False"
      ]
     },
     "execution_count": 33,
     "metadata": {},
     "output_type": "execute_result"
    }
   ],
   "source": [
    "False and False"
   ]
  },
  {
   "cell_type": "code",
   "execution_count": 34,
   "id": "7a5429d5",
   "metadata": {},
   "outputs": [],
   "source": [
    "a = 4\n",
    "b = 1\n",
    "c = 10"
   ]
  },
  {
   "cell_type": "code",
   "execution_count": 35,
   "id": "d53cc1c6",
   "metadata": {},
   "outputs": [
    {
     "data": {
      "text/plain": [
       "True"
      ]
     },
     "execution_count": 35,
     "metadata": {},
     "output_type": "execute_result"
    }
   ],
   "source": [
    "(a > b) and (b < c)"
   ]
  },
  {
   "cell_type": "code",
   "execution_count": 36,
   "id": "e32ce33a",
   "metadata": {},
   "outputs": [
    {
     "data": {
      "text/plain": [
       "False"
      ]
     },
     "execution_count": 36,
     "metadata": {},
     "output_type": "execute_result"
    }
   ],
   "source": [
    "(a > b) and (b > c)"
   ]
  },
  {
   "cell_type": "markdown",
   "id": "c4b8146c",
   "metadata": {},
   "source": [
    "* or\n",
    "* Sadece iki ifade de False ise False sonucu verir, yoksa True olur."
   ]
  },
  {
   "cell_type": "code",
   "execution_count": 37,
   "id": "edcb18ae",
   "metadata": {},
   "outputs": [
    {
     "data": {
      "text/plain": [
       "True"
      ]
     },
     "execution_count": 37,
     "metadata": {},
     "output_type": "execute_result"
    }
   ],
   "source": [
    "True or True"
   ]
  },
  {
   "cell_type": "code",
   "execution_count": 38,
   "id": "b9df7b28",
   "metadata": {},
   "outputs": [
    {
     "data": {
      "text/plain": [
       "True"
      ]
     },
     "execution_count": 38,
     "metadata": {},
     "output_type": "execute_result"
    }
   ],
   "source": [
    "True or False"
   ]
  },
  {
   "cell_type": "code",
   "execution_count": 39,
   "id": "37a689f1",
   "metadata": {},
   "outputs": [
    {
     "data": {
      "text/plain": [
       "False"
      ]
     },
     "execution_count": 39,
     "metadata": {},
     "output_type": "execute_result"
    }
   ],
   "source": [
    "False and False"
   ]
  },
  {
   "cell_type": "code",
   "execution_count": 40,
   "id": "b97b50c7",
   "metadata": {},
   "outputs": [],
   "source": [
    "a = 4\n",
    "b = 1\n",
    "c = 10"
   ]
  },
  {
   "cell_type": "code",
   "execution_count": 41,
   "id": "cb682547",
   "metadata": {},
   "outputs": [
    {
     "data": {
      "text/plain": [
       "True"
      ]
     },
     "execution_count": 41,
     "metadata": {},
     "output_type": "execute_result"
    }
   ],
   "source": [
    "(a > b) or (b < c)"
   ]
  },
  {
   "cell_type": "code",
   "execution_count": 42,
   "id": "aa2be1ba",
   "metadata": {},
   "outputs": [
    {
     "data": {
      "text/plain": [
       "True"
      ]
     },
     "execution_count": 42,
     "metadata": {},
     "output_type": "execute_result"
    }
   ],
   "source": [
    "(a > b) or (b > c)"
   ]
  },
  {
   "cell_type": "code",
   "execution_count": 43,
   "id": "c3cc9283",
   "metadata": {},
   "outputs": [
    {
     "data": {
      "text/plain": [
       "False"
      ]
     },
     "execution_count": 43,
     "metadata": {},
     "output_type": "execute_result"
    }
   ],
   "source": [
    "(a < b) or (b > c)"
   ]
  },
  {
   "cell_type": "markdown",
   "id": "292a7993",
   "metadata": {},
   "source": [
    "# Short  circuit"
   ]
  },
  {
   "cell_type": "code",
   "execution_count": 44,
   "id": "c85c95b4",
   "metadata": {},
   "outputs": [
    {
     "data": {
      "text/plain": [
       "False"
      ]
     },
     "execution_count": 44,
     "metadata": {},
     "output_type": "execute_result"
    }
   ],
   "source": [
    "(5 < 3) and print(\"hey\")"
   ]
  },
  {
   "cell_type": "code",
   "execution_count": 45,
   "id": "cf20e657",
   "metadata": {},
   "outputs": [
    {
     "data": {
      "text/plain": [
       "True"
      ]
     },
     "execution_count": 45,
     "metadata": {},
     "output_type": "execute_result"
    }
   ],
   "source": [
    "(5 > 3) or print(\"hey\")"
   ]
  },
  {
   "cell_type": "code",
   "execution_count": 46,
   "id": "8c96c0d1",
   "metadata": {},
   "outputs": [
    {
     "name": "stdout",
     "output_type": "stream",
     "text": [
      "hey\n"
     ]
    }
   ],
   "source": [
    "(5 < 3) or print(\"hey\")"
   ]
  },
  {
   "cell_type": "code",
   "execution_count": 47,
   "id": "0080ea33",
   "metadata": {},
   "outputs": [
    {
     "name": "stdout",
     "output_type": "stream",
     "text": [
      "hey\n"
     ]
    }
   ],
   "source": [
    "(5 > 3) and print(\"hey\")"
   ]
  },
  {
   "cell_type": "markdown",
   "id": "d9a02ef5",
   "metadata": {},
   "source": [
    "* &'da and'in yaptığını yapar ama short-circuit davranışı göstermez."
   ]
  },
  {
   "cell_type": "code",
   "execution_count": 48,
   "id": "e7498948",
   "metadata": {},
   "outputs": [
    {
     "data": {
      "text/plain": [
       "True"
      ]
     },
     "execution_count": 48,
     "metadata": {},
     "output_type": "execute_result"
    }
   ],
   "source": [
    "(2 == 2) & (3 == 3)"
   ]
  },
  {
   "cell_type": "code",
   "execution_count": 51,
   "id": "fe693bd5",
   "metadata": {},
   "outputs": [
    {
     "name": "stdout",
     "output_type": "stream",
     "text": [
      "hey\n"
     ]
    },
    {
     "ename": "TypeError",
     "evalue": "unsupported operand type(s) for &: 'bool' and 'NoneType'",
     "output_type": "error",
     "traceback": [
      "\u001b[1;31m---------------------------------------------------------------------------\u001b[0m",
      "\u001b[1;31mTypeError\u001b[0m                                 Traceback (most recent call last)",
      "Input \u001b[1;32mIn [51]\u001b[0m, in \u001b[0;36m<cell line: 1>\u001b[1;34m()\u001b[0m\n\u001b[1;32m----> 1\u001b[0m \u001b[43m(\u001b[49m\u001b[38;5;241;43m5\u001b[39;49m\u001b[43m \u001b[49m\u001b[38;5;241;43m<\u001b[39;49m\u001b[43m \u001b[49m\u001b[38;5;241;43m3\u001b[39;49m\u001b[43m)\u001b[49m\u001b[43m \u001b[49m\u001b[38;5;241;43m&\u001b[39;49m\u001b[43m \u001b[49m\u001b[38;5;28;43mprint\u001b[39;49m\u001b[43m(\u001b[49m\u001b[38;5;124;43m\"\u001b[39;49m\u001b[38;5;124;43mhey\u001b[39;49m\u001b[38;5;124;43m\"\u001b[39;49m\u001b[43m)\u001b[49m\n",
      "\u001b[1;31mTypeError\u001b[0m: unsupported operand type(s) for &: 'bool' and 'NoneType'"
     ]
    }
   ],
   "source": [
    "(5 < 3) & print(\"hey\")"
   ]
  },
  {
   "cell_type": "markdown",
   "id": "05d2a0cf",
   "metadata": {},
   "source": [
    "* | 'da or'un yaptığını yapar ama short-circuit davranışı göstermez."
   ]
  },
  {
   "cell_type": "code",
   "execution_count": 52,
   "id": "78636c81",
   "metadata": {},
   "outputs": [
    {
     "data": {
      "text/plain": [
       "True"
      ]
     },
     "execution_count": 52,
     "metadata": {},
     "output_type": "execute_result"
    }
   ],
   "source": [
    "(2 == 2) | (3 < 3)"
   ]
  },
  {
   "cell_type": "code",
   "execution_count": 53,
   "id": "97fe5c04",
   "metadata": {},
   "outputs": [
    {
     "data": {
      "text/plain": [
       "True"
      ]
     },
     "execution_count": 53,
     "metadata": {},
     "output_type": "execute_result"
    }
   ],
   "source": [
    "(5 > 3) or print(\"hey\")"
   ]
  },
  {
   "cell_type": "code",
   "execution_count": 54,
   "id": "6f50facb",
   "metadata": {},
   "outputs": [
    {
     "name": "stdout",
     "output_type": "stream",
     "text": [
      "hey\n"
     ]
    },
    {
     "ename": "TypeError",
     "evalue": "unsupported operand type(s) for |: 'bool' and 'NoneType'",
     "output_type": "error",
     "traceback": [
      "\u001b[1;31m---------------------------------------------------------------------------\u001b[0m",
      "\u001b[1;31mTypeError\u001b[0m                                 Traceback (most recent call last)",
      "Input \u001b[1;32mIn [54]\u001b[0m, in \u001b[0;36m<cell line: 1>\u001b[1;34m()\u001b[0m\n\u001b[1;32m----> 1\u001b[0m \u001b[43m(\u001b[49m\u001b[38;5;241;43m5\u001b[39;49m\u001b[43m \u001b[49m\u001b[38;5;241;43m>\u001b[39;49m\u001b[43m \u001b[49m\u001b[38;5;241;43m3\u001b[39;49m\u001b[43m)\u001b[49m\u001b[43m \u001b[49m\u001b[38;5;241;43m|\u001b[39;49m\u001b[43m \u001b[49m\u001b[38;5;28;43mprint\u001b[39;49m\u001b[43m(\u001b[49m\u001b[38;5;124;43m\"\u001b[39;49m\u001b[38;5;124;43mhey\u001b[39;49m\u001b[38;5;124;43m\"\u001b[39;49m\u001b[43m)\u001b[49m\n",
      "\u001b[1;31mTypeError\u001b[0m: unsupported operand type(s) for |: 'bool' and 'NoneType'"
     ]
    }
   ],
   "source": [
    "(5 > 3) | print(\"hey\")"
   ]
  },
  {
   "cell_type": "code",
   "execution_count": 55,
   "id": "917943dd",
   "metadata": {},
   "outputs": [
    {
     "name": "stdout",
     "output_type": "stream",
     "text": [
      "merhaba\n"
     ]
    },
    {
     "ename": "TypeError",
     "evalue": "unsupported operand type(s) for &: 'bool' and 'NoneType'",
     "output_type": "error",
     "traceback": [
      "\u001b[1;31m---------------------------------------------------------------------------\u001b[0m",
      "\u001b[1;31mTypeError\u001b[0m                                 Traceback (most recent call last)",
      "Input \u001b[1;32mIn [55]\u001b[0m, in \u001b[0;36m<cell line: 1>\u001b[1;34m()\u001b[0m\n\u001b[1;32m----> 1\u001b[0m \u001b[43m(\u001b[49m\u001b[38;5;241;43m2\u001b[39;49m\u001b[38;5;241;43m==\u001b[39;49m\u001b[38;5;241;43m2\u001b[39;49m\u001b[43m)\u001b[49m\u001b[43m \u001b[49m\u001b[38;5;241;43m&\u001b[39;49m\u001b[43m \u001b[49m\u001b[38;5;28;43mprint\u001b[39;49m\u001b[43m(\u001b[49m\u001b[38;5;124;43m\"\u001b[39;49m\u001b[38;5;124;43mmerhaba\u001b[39;49m\u001b[38;5;124;43m\"\u001b[39;49m\u001b[43m)\u001b[49m\n",
      "\u001b[1;31mTypeError\u001b[0m: unsupported operand type(s) for &: 'bool' and 'NoneType'"
     ]
    }
   ],
   "source": [
    "(2==2) & print(\"merhaba\")"
   ]
  },
  {
   "cell_type": "code",
   "execution_count": null,
   "id": "0dff92d9",
   "metadata": {},
   "outputs": [],
   "source": []
  }
 ],
 "metadata": {
  "kernelspec": {
   "display_name": "Python 3 (ipykernel)",
   "language": "python",
   "name": "python3"
  },
  "language_info": {
   "codemirror_mode": {
    "name": "ipython",
    "version": 3
   },
   "file_extension": ".py",
   "mimetype": "text/x-python",
   "name": "python",
   "nbconvert_exporter": "python",
   "pygments_lexer": "ipython3",
   "version": "3.10.5"
  }
 },
 "nbformat": 4,
 "nbformat_minor": 5
}
