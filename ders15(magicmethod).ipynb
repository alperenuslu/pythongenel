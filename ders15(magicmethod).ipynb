{
 "cells": [
  {
   "cell_type": "markdown",
   "id": "5d58bee6",
   "metadata": {},
   "source": [
    "# Magic Method\n",
    "* Magic Methodları kullanarak bazı built-in davranışları değiştirebiliriz. Magic methodlar __ ile çevrilidir. Bunlara dunder method denir"
   ]
  },
  {
   "cell_type": "code",
   "execution_count": 1,
   "id": "1d1afc8f",
   "metadata": {},
   "outputs": [],
   "source": [
    "class Employee:\n",
    "    raise_percent=1.05\n",
    "    num_emp=0\n",
    "    def __init__(self,name,last,age,pay):\n",
    "        self.name=name\n",
    "        self.last=last\n",
    "        self.age=age\n",
    "        self.pay=pay\n",
    "        Employee.num_emp+=1\n",
    "    def appyl_raise(self):\n",
    "        self.pay=self.pay* self.raise_percent"
   ]
  },
  {
   "cell_type": "code",
   "execution_count": 2,
   "id": "0d28bc10",
   "metadata": {},
   "outputs": [],
   "source": [
    "emp_1=Employee(\"James\",\"Hughes\",32,5000)"
   ]
  },
  {
   "cell_type": "code",
   "execution_count": 3,
   "id": "5662edf8",
   "metadata": {},
   "outputs": [],
   "source": [
    "emp_2=Employee(\"Charlie\",\"Brown\",22,3000)"
   ]
  },
  {
   "cell_type": "markdown",
   "id": "4e660252",
   "metadata": {},
   "source": [
    "##  `__init__()`\n",
    "* emp_1=Employee(\"James\",\"Hughes\",32,5000) gibi classdan obje oluşturma kısmında çağrılır. Class(....)formatında input olarak verilenleri arguman olarak alır kendine"
   ]
  },
  {
   "cell_type": "markdown",
   "id": "97aea4f9",
   "metadata": {},
   "source": [
    "## `__str__()`\n",
    "* Objenin okunabilir bir tanımını oluştururuz"
   ]
  },
  {
   "cell_type": "code",
   "execution_count": 4,
   "id": "67459d8a",
   "metadata": {},
   "outputs": [],
   "source": [
    "class Employee:\n",
    "    raise_percent=1.05\n",
    "    num_emp=0\n",
    "    def __init__(self,name,last,age,pay):\n",
    "        self.name=name\n",
    "        self.last=last\n",
    "        self.age=age\n",
    "        self.pay=pay\n",
    "        Employee.num_emp+=1\n",
    "    def appyl_raise(self):\n",
    "        self.pay=self.pay* self.raise_percent\n",
    "    def __str__(self):\n",
    "        return f\"Employee(name={self.name},last={self.last},age{self.age},pay{self.pay})\""
   ]
  },
  {
   "cell_type": "code",
   "execution_count": 5,
   "id": "544ade34",
   "metadata": {},
   "outputs": [],
   "source": [
    "emp_1=Employee(\"James\",\"Hughes\",32,5000)"
   ]
  },
  {
   "cell_type": "code",
   "execution_count": 6,
   "id": "54217be5",
   "metadata": {},
   "outputs": [
    {
     "name": "stdout",
     "output_type": "stream",
     "text": [
      "Employee(name=James,last=Hughes,age32,pay5000)\n"
     ]
    }
   ],
   "source": [
    "print(emp_1)"
   ]
  },
  {
   "cell_type": "markdown",
   "id": "b60348ae",
   "metadata": {},
   "source": [
    "## `__add__()`"
   ]
  },
  {
   "cell_type": "code",
   "execution_count": 7,
   "id": "e1796775",
   "metadata": {},
   "outputs": [],
   "source": [
    "class Employee:\n",
    "    raise_percent=1.05\n",
    "    num_emp=0\n",
    "    def __init__(self,name,last,age,pay):\n",
    "        self.name=name\n",
    "        self.last=last\n",
    "        self.age=age\n",
    "        self.pay=pay\n",
    "        Employee.num_emp+=1\n",
    "    def appyl_raise(self):\n",
    "        self.pay=self.pay* self.raise_percent\n",
    "    def __str__(self):\n",
    "        return f\"Employee(name={self.name},last={self.last},age{self.age},pay{self.pay})\"\n",
    "    def __add__(self,other):\n",
    "        return self.pay+other.pay"
   ]
  },
  {
   "cell_type": "code",
   "execution_count": 8,
   "id": "20b2110f",
   "metadata": {},
   "outputs": [],
   "source": [
    "emp_1=Employee(\"James\",\"Hughes\",32,5000)"
   ]
  },
  {
   "cell_type": "code",
   "execution_count": 9,
   "id": "f00ba480",
   "metadata": {},
   "outputs": [],
   "source": [
    "emp_2=Employee(\"Charlie\",\"Brown\",22,3000)"
   ]
  },
  {
   "cell_type": "code",
   "execution_count": 10,
   "id": "d776b1dc",
   "metadata": {},
   "outputs": [
    {
     "data": {
      "text/plain": [
       "8000"
      ]
     },
     "execution_count": 10,
     "metadata": {},
     "output_type": "execute_result"
    }
   ],
   "source": [
    "emp_1+emp_2"
   ]
  },
  {
   "cell_type": "markdown",
   "id": "9e55d381",
   "metadata": {},
   "source": [
    "## `__len__()`"
   ]
  },
  {
   "cell_type": "code",
   "execution_count": 12,
   "id": "77a70736",
   "metadata": {},
   "outputs": [],
   "source": [
    "class Employee:\n",
    "    raise_percent=1.05\n",
    "    num_emp=0\n",
    "    def __init__(self,name,last,age,pay):\n",
    "        self.name=name\n",
    "        self.last=last\n",
    "        self.age=age\n",
    "        self.pay=pay\n",
    "        Employee.num_emp+=1\n",
    "    def appyl_raise(self):\n",
    "        self.pay=self.pay* self.raise_percent\n",
    "    def __str__(self):\n",
    "        return f\"Employee(name={self.name},last={self.last},age{self.age},pay{self.pay})\"\n",
    "    def __add__(self,other):\n",
    "        return self.pay+other.pay\n",
    "    def __len__(self):\n",
    "        return len(self.name)"
   ]
  },
  {
   "cell_type": "code",
   "execution_count": 13,
   "id": "60eb3b69",
   "metadata": {},
   "outputs": [],
   "source": [
    "emp_1=Employee(\"James\",\"Hughes\",32,5000)"
   ]
  },
  {
   "cell_type": "code",
   "execution_count": 14,
   "id": "f9812122",
   "metadata": {},
   "outputs": [],
   "source": [
    "emp_2=Employee(\"Charlie\",\"Brown\",22,3000)"
   ]
  },
  {
   "cell_type": "code",
   "execution_count": 15,
   "id": "e56e1b6a",
   "metadata": {},
   "outputs": [
    {
     "data": {
      "text/plain": [
       "5"
      ]
     },
     "execution_count": 15,
     "metadata": {},
     "output_type": "execute_result"
    }
   ],
   "source": [
    "len(emp_1)"
   ]
  },
  {
   "cell_type": "code",
   "execution_count": 16,
   "id": "d615469e",
   "metadata": {},
   "outputs": [
    {
     "data": {
      "text/plain": [
       "7"
      ]
     },
     "execution_count": 16,
     "metadata": {},
     "output_type": "execute_result"
    }
   ],
   "source": [
    "len(emp_2)"
   ]
  },
  {
   "cell_type": "code",
   "execution_count": null,
   "id": "7107f8ac",
   "metadata": {},
   "outputs": [],
   "source": []
  }
 ],
 "metadata": {
  "kernelspec": {
   "display_name": "Python 3 (ipykernel)",
   "language": "python",
   "name": "python3"
  },
  "language_info": {
   "codemirror_mode": {
    "name": "ipython",
    "version": 3
   },
   "file_extension": ".py",
   "mimetype": "text/x-python",
   "name": "python",
   "nbconvert_exporter": "python",
   "pygments_lexer": "ipython3",
   "version": "3.10.5"
  }
 },
 "nbformat": 4,
 "nbformat_minor": 5
}
