{
 "cells": [
  {
   "cell_type": "markdown",
   "id": "bf4ac1e8",
   "metadata": {},
   "source": [
    "## Fonksiyonlar\n",
    "* Çok kod yazmak her zaman iyi bir şey demek değil.\n",
    "* Minimal ve okunabilir olması daha önemli.\n",
    "* Gereksiz kod tekrarından kaçınmak gerekir.\n",
    "* Bu konularda gayet yardımcı olabilecek bir yapıyı göreceğiz bugün. - fonksiyonlar\n",
    "* Belirli Fonksiyonalite katan kod bloklarını belirli bir yapı altında tutup, o işleme ihtiyaç duyduğum zaman tekrar tekrar kullanabilirim. Bu yapı fonksiyonlar\n",
    "* Fonksiyonlar kodumuzda abstraction (soyutlama) ve decomposition (problemi küçük parçalara ayırma) (modülerlik) yapmamızı sağlar. "
   ]
  },
  {
   "cell_type": "markdown",
   "id": "3c43d556",
   "metadata": {},
   "source": [
    "### Abstraction Nedir?\n",
    "* Bir araba düşünün:\n",
    "* Araba bizi istediğimiz yere götüren bir araçtır.\n",
    "* Arabanın hareketini sağlayan arka planda çokça mekanizma var.\n",
    "* Motor, yanma vs gibi...\n",
    "* Ama aracı kullanırken bunları hiç düşünmüyoruz, sürmemiz için gerekli olan sadece pedallara basmak ve direksiyonu çevirmek.\n",
    "* abstraction 'nın temel mantığı ayrıntılardansa bütünü düşünmek. Arabayı kullanmak için, arabanın nasıl çalıştığının ayrıntısını bilmeme gerek yok. Tek bilmem gereken direksiyon ve pedallar ile nasıl kontrol edebileceğim.\n",
    "* Bu mantık yanlış anlaşılmasın. Bu \"Kodun bazı kısımlarını yazmakla ilgilenmeyeceğiz.\" anlamına gelmiyor. İstediğimiz komutlar bütününü bir fonksiyon altında toplayıp (bu örnekte tüm o ateşleme, motorun çalışmasını pedal fonksiyonu altına topladığınızı düşünün), artık o eylemi yapmak istediğim zaman sadece o fonksiyonu çağırıyorum ve bu fonksiyonun yaptığını kullanarak daha komplike davranışlar tanımlayabiliyorum. Buradaki en önemli nokta, üst üste koyarak inşa ettiğim yapıda yazdığım fonksiyonların ayrıntılarındansa ne yaptıklarını bilip ona göre üzerilerine, onları yapının bir parçası olarak görerek mantık kurmak.\n",
    "* Özet olarak: Fonksiyonun o işi nasıl yaptığıyla ne yaptığını ayırmak ve ne yaptığına odaklanıp onun üzerine mantık kurmak."
   ]
  },
  {
   "cell_type": "markdown",
   "id": "ba99ace7",
   "metadata": {},
   "source": [
    "### Decomposition Nedir?\n",
    "* Elimdeki problemi kendi içerisinde anlamlı, daha küçük problemlere bölmektir. Arabanın çalışması arkada yatan bir çok mekanizmayla gerçekleşir. Motorun ateşlenmesi, havanın motora alınması, yakıtın aktarılması vs... Bunların hepsini aslında ayrı ayrı fonksiyonlar olarak düşünebiliriz. Problemi (arabanın hareket etmesini) alt birimlere ayırıp, tanımlayıp, çözüyoruz. Birden çok alt yapı bir arada çalışıp daha büyük bir sistem oluşturuyor.\n",
    "* Kodumuzun farklı yerlerinde kullanılabilecek, beraber bir mantık oluşturacak kodlarımı fonksiyon tanımlayıp içine yazacağım.\n",
    "* Fonksiyonların adı, parametreleri(0 veya daha fazla), açıklaması(opsiyoneli ama iyi bir pratik), ve kodları bulunur.\n",
    "* Sadece adlarını yazınca çağrılmazlar. () ile çağırmamız lazım (function call veya function invocation olarak geçer.) "
   ]
  },
  {
   "cell_type": "markdown",
   "id": "2ee22570",
   "metadata": {},
   "source": [
    "### Return\n",
    "* Bir fonksiyonu çalıştırdığımızda onun sonucuyla bir şeyler yapmak isteyebilirim. Sonucu bana versin diye özellikle söylemem lazım ve bunu return keyword(anahtar kelime)'u ile sağlayacağız.\n",
    "* return yazmasaydık fonksiyon hiç bir şey döndürmezdi.\n",
    "* fonksiyon tanımladığımı Python'a anlatmak için yapım:\n",
    "* def fonksiyonun_adı(input):\n",
    "* öbür yapılarda da olduğu gibi, bir kod bloğunun belirttiğimiz yapıya ait olduğunu anlatmak için boşluk bırakarak içine yazmamız gerekiyor.\n",
    "* Verdiğimiz değerin karesini alan bir fonksiyon yazalım."
   ]
  },
  {
   "cell_type": "code",
   "execution_count": 1,
   "id": "d6b1d7ff",
   "metadata": {},
   "outputs": [],
   "source": [
    "def square(x):\n",
    "    x*x"
   ]
  },
  {
   "cell_type": "markdown",
   "id": "a5cfa23d",
   "metadata": {},
   "source": [
    "* fonksiyonu tanımladıktan sonra tanımladığımız adla onu çağırabiliriz. Yapımız şöyle olacak: fonksiyonun_adı(input), bir fonksiyonu çağırmak için inputları ()'ın içine yazmalıyız. Bazı durumlarda hiç input olmayabilir, bazı durumlarda birden çok olabilir."
   ]
  },
  {
   "cell_type": "code",
   "execution_count": 2,
   "id": "d9b752bf",
   "metadata": {},
   "outputs": [
    {
     "name": "stdout",
     "output_type": "stream",
     "text": [
      "None\n"
     ]
    }
   ],
   "source": [
    "square(3)\n",
    "a = square(3)\n",
    "a\n",
    "print(a)"
   ]
  },
  {
   "cell_type": "code",
   "execution_count": 3,
   "id": "3d7d0ec7",
   "metadata": {},
   "outputs": [
    {
     "data": {
      "text/plain": [
       "NoneType"
      ]
     },
     "execution_count": 3,
     "metadata": {},
     "output_type": "execute_result"
    }
   ],
   "source": [
    "type(a)"
   ]
  },
  {
   "cell_type": "code",
   "execution_count": 4,
   "id": "3fb5ba39",
   "metadata": {},
   "outputs": [
    {
     "data": {
      "text/plain": [
       "NoneType"
      ]
     },
     "execution_count": 4,
     "metadata": {},
     "output_type": "execute_result"
    }
   ],
   "source": [
    "type(square(3))"
   ]
  },
  {
   "cell_type": "markdown",
   "id": "9ab2c1bc",
   "metadata": {},
   "source": [
    "* bize x*x i değer olarak vermedi. Vermesi için bana o değeri döndür diye özellikle söylemem lazım. Bunu return ile sağlıyoruz."
   ]
  },
  {
   "cell_type": "code",
   "execution_count": 5,
   "id": "a952c7bc",
   "metadata": {},
   "outputs": [],
   "source": [
    "def square(x):\n",
    "\n",
    "    return x * x"
   ]
  },
  {
   "cell_type": "code",
   "execution_count": 6,
   "id": "1b0a43c4",
   "metadata": {},
   "outputs": [
    {
     "data": {
      "text/plain": [
       "4"
      ]
     },
     "execution_count": 6,
     "metadata": {},
     "output_type": "execute_result"
    }
   ],
   "source": [
    "square(2)"
   ]
  },
  {
   "cell_type": "code",
   "execution_count": 7,
   "id": "fa0e820c",
   "metadata": {},
   "outputs": [],
   "source": [
    "a = square(2)"
   ]
  },
  {
   "cell_type": "code",
   "execution_count": 8,
   "id": "ec25d9e6",
   "metadata": {},
   "outputs": [
    {
     "data": {
      "text/plain": [
       "4"
      ]
     },
     "execution_count": 8,
     "metadata": {},
     "output_type": "execute_result"
    }
   ],
   "source": [
    "a"
   ]
  },
  {
   "cell_type": "code",
   "execution_count": 9,
   "id": "aeebf0f4",
   "metadata": {},
   "outputs": [],
   "source": [
    "b = 4"
   ]
  },
  {
   "cell_type": "code",
   "execution_count": 10,
   "id": "9f7ab99c",
   "metadata": {},
   "outputs": [
    {
     "data": {
      "text/plain": [
       "6"
      ]
     },
     "execution_count": 10,
     "metadata": {},
     "output_type": "execute_result"
    }
   ],
   "source": [
    "b+2"
   ]
  },
  {
   "cell_type": "markdown",
   "id": "8de79839",
   "metadata": {},
   "source": [
    "* Bu döndürülen değerin int 4 'ten bir farkı yok, nereden nasıl geldiği önemli değil, a = 4 dediğimdeki 4 ile aynı. Bu değerle istediğimi yapabilirim"
   ]
  },
  {
   "cell_type": "code",
   "execution_count": 12,
   "id": "614a8def",
   "metadata": {},
   "outputs": [
    {
     "data": {
      "text/plain": [
       "5"
      ]
     },
     "execution_count": 12,
     "metadata": {},
     "output_type": "execute_result"
    }
   ],
   "source": [
    "1 + square(2)"
   ]
  },
  {
   "cell_type": "markdown",
   "id": "22e66d83",
   "metadata": {},
   "source": [
    "* Bilgisayar için o da sadece bir değerdi. Aşağıdaki örnekte de square(3) bize 9 döndürüyor, bilgisayar için aşağıdaki kod, square(9) ile aynıdır."
   ]
  },
  {
   "cell_type": "code",
   "execution_count": 13,
   "id": "b1eccc68",
   "metadata": {},
   "outputs": [
    {
     "data": {
      "text/plain": [
       "81"
      ]
     },
     "execution_count": 13,
     "metadata": {},
     "output_type": "execute_result"
    }
   ],
   "source": [
    "square(square(3))"
   ]
  },
  {
   "cell_type": "markdown",
   "id": "105a33f0",
   "metadata": {},
   "source": [
    "* hiç bir inputu olmaya da bilirdi"
   ]
  },
  {
   "cell_type": "code",
   "execution_count": 14,
   "id": "2c91621e",
   "metadata": {},
   "outputs": [],
   "source": [
    "def weird():\n",
    "    return 5"
   ]
  },
  {
   "cell_type": "code",
   "execution_count": 15,
   "id": "a03b979c",
   "metadata": {},
   "outputs": [
    {
     "data": {
      "text/plain": [
       "5"
      ]
     },
     "execution_count": 15,
     "metadata": {},
     "output_type": "execute_result"
    }
   ],
   "source": [
    "weird()"
   ]
  },
  {
   "cell_type": "markdown",
   "id": "df44f070",
   "metadata": {},
   "source": [
    "* Fonksiyonlar return'e geldikten sonrasına bakmıyor, return 'ün sağına yazılan değeri veriyor ve fonksiyondan çıkıyor."
   ]
  },
  {
   "cell_type": "code",
   "execution_count": 16,
   "id": "3eab997c",
   "metadata": {},
   "outputs": [],
   "source": [
    "def square(x):\n",
    "    \n",
    "    res = x * x\n",
    "    \n",
    "    return res\n",
    "    \n",
    "    print(\"Square of \" + str(x) + \": \" + str(res))"
   ]
  },
  {
   "cell_type": "markdown",
   "id": "06b5524c",
   "metadata": {},
   "source": [
    "* Bu yüzden burada bastırma kısmını yapmadı çünkü o kod return 'ün altında yer alıyor."
   ]
  },
  {
   "cell_type": "code",
   "execution_count": 17,
   "id": "29a51352",
   "metadata": {},
   "outputs": [
    {
     "data": {
      "text/plain": [
       "16"
      ]
     },
     "execution_count": 17,
     "metadata": {},
     "output_type": "execute_result"
    }
   ],
   "source": [
    "square(4)"
   ]
  },
  {
   "cell_type": "code",
   "execution_count": 18,
   "id": "31acdb4a",
   "metadata": {},
   "outputs": [
    {
     "data": {
      "text/plain": [
       "18"
      ]
     },
     "execution_count": 18,
     "metadata": {},
     "output_type": "execute_result"
    }
   ],
   "source": [
    "square(4) + 2"
   ]
  },
  {
   "cell_type": "code",
   "execution_count": 19,
   "id": "a66ab333",
   "metadata": {},
   "outputs": [],
   "source": [
    "def square(x):\n",
    "    \n",
    "    res = x * x\n",
    "    \n",
    "    print(\"Square of \" + str(x) + \": \" + str(res))\n",
    "    \n",
    "    return res"
   ]
  },
  {
   "cell_type": "code",
   "execution_count": 20,
   "id": "00eaf655",
   "metadata": {},
   "outputs": [
    {
     "name": "stdout",
     "output_type": "stream",
     "text": [
      "Square of 4: 16\n"
     ]
    },
    {
     "data": {
      "text/plain": [
       "16"
      ]
     },
     "execution_count": 20,
     "metadata": {},
     "output_type": "execute_result"
    }
   ],
   "source": [
    "square(4)"
   ]
  },
  {
   "cell_type": "markdown",
   "id": "f93288d3",
   "metadata": {},
   "source": [
    "* Fonksiyona durumsallık da katabiliriz."
   ]
  },
  {
   "cell_type": "code",
   "execution_count": 24,
   "id": "c67348f2",
   "metadata": {},
   "outputs": [],
   "source": [
    "def f(x):\n",
    "    \n",
    "    res = x * x\n",
    "    \n",
    "    if x % 2 == 0:\n",
    "        \n",
    "        return res\n",
    "    else:\n",
    "        return res + 10\n",
    "    \n",
    "    print(\"Square of \" + str(x) + \": \" + str(res))"
   ]
  },
  {
   "cell_type": "code",
   "execution_count": 25,
   "id": "a2e666bf",
   "metadata": {},
   "outputs": [
    {
     "data": {
      "text/plain": [
       "100"
      ]
     },
     "execution_count": 25,
     "metadata": {},
     "output_type": "execute_result"
    }
   ],
   "source": [
    "f(10)"
   ]
  },
  {
   "cell_type": "code",
   "execution_count": 26,
   "id": "7a800b76",
   "metadata": {},
   "outputs": [
    {
     "data": {
      "text/plain": [
       "179"
      ]
     },
     "execution_count": 26,
     "metadata": {},
     "output_type": "execute_result"
    }
   ],
   "source": [
    "f(13)"
   ]
  },
  {
   "cell_type": "markdown",
   "id": "fbd10ebb",
   "metadata": {},
   "source": [
    "* Fonksiyonların içinde döngü mantığı da olabilir."
   ]
  },
  {
   "cell_type": "code",
   "execution_count": 33,
   "id": "a381723a",
   "metadata": {},
   "outputs": [],
   "source": [
    "x = 300 # x burada sayı tutuyor fonksiyona hiçbir etkisi yoktur."
   ]
  },
  {
   "cell_type": "code",
   "execution_count": 34,
   "id": "801a5966",
   "metadata": {},
   "outputs": [],
   "source": [
    "def f(x):\n",
    "    \n",
    "    res = x * x\n",
    "    \n",
    "    for i in range(10):\n",
    "        res += 20\n",
    "        return res \n",
    "        print(\"hey\")"
   ]
  },
  {
   "cell_type": "code",
   "execution_count": 35,
   "id": "41aabbd1",
   "metadata": {},
   "outputs": [
    {
     "data": {
      "text/plain": [
       "120"
      ]
     },
     "execution_count": 35,
     "metadata": {},
     "output_type": "execute_result"
    }
   ],
   "source": [
    "f(10)"
   ]
  },
  {
   "cell_type": "code",
   "execution_count": 36,
   "id": "348e870a",
   "metadata": {},
   "outputs": [
    {
     "data": {
      "text/plain": [
       "143"
      ]
     },
     "execution_count": 36,
     "metadata": {},
     "output_type": "execute_result"
    }
   ],
   "source": [
    "f(10) + 23"
   ]
  },
  {
   "cell_type": "code",
   "execution_count": 37,
   "id": "895295c1",
   "metadata": {},
   "outputs": [],
   "source": [
    "def f(x):\n",
    "    \n",
    "    res = x * x\n",
    "    \n",
    "    for i in range(10):\n",
    "        res += 20\n",
    "        \n",
    "    return res"
   ]
  },
  {
   "cell_type": "code",
   "execution_count": 38,
   "id": "c8b4c0a5",
   "metadata": {},
   "outputs": [
    {
     "data": {
      "text/plain": [
       "300"
      ]
     },
     "execution_count": 38,
     "metadata": {},
     "output_type": "execute_result"
    }
   ],
   "source": [
    "f(10)"
   ]
  },
  {
   "cell_type": "code",
   "execution_count": 39,
   "id": "13c6d938",
   "metadata": {},
   "outputs": [],
   "source": [
    "def f(x):\n",
    "    \n",
    "    l = []\n",
    "    res = x * x\n",
    "    for i in range(10):\n",
    "        res += 20\n",
    "        l.append(res)\n",
    "    return l"
   ]
  },
  {
   "cell_type": "code",
   "execution_count": 40,
   "id": "96d3e7f9",
   "metadata": {},
   "outputs": [
    {
     "data": {
      "text/plain": [
       "[120, 140, 160, 180, 200, 220, 240, 260, 280, 300]"
      ]
     },
     "execution_count": 40,
     "metadata": {},
     "output_type": "execute_result"
    }
   ],
   "source": [
    "f(10)"
   ]
  },
  {
   "cell_type": "markdown",
   "id": "fb3c857e",
   "metadata": {},
   "source": [
    "### Void Fonksiyonlar (Değer Döndürmeyen Fonksiyonlar)"
   ]
  },
  {
   "cell_type": "code",
   "execution_count": 41,
   "id": "249426f6",
   "metadata": {},
   "outputs": [],
   "source": [
    "def f(x):\n",
    "    x = 2"
   ]
  },
  {
   "cell_type": "code",
   "execution_count": 42,
   "id": "bef4a9d9",
   "metadata": {},
   "outputs": [],
   "source": [
    "f(2)"
   ]
  },
  {
   "cell_type": "code",
   "execution_count": 43,
   "id": "2b376f74",
   "metadata": {},
   "outputs": [
    {
     "ename": "TypeError",
     "evalue": "unsupported operand type(s) for +: 'NoneType' and 'int'",
     "output_type": "error",
     "traceback": [
      "\u001b[1;31m---------------------------------------------------------------------------\u001b[0m",
      "\u001b[1;31mTypeError\u001b[0m                                 Traceback (most recent call last)",
      "Input \u001b[1;32mIn [43]\u001b[0m, in \u001b[0;36m<cell line: 1>\u001b[1;34m()\u001b[0m\n\u001b[1;32m----> 1\u001b[0m \u001b[43mf\u001b[49m\u001b[43m(\u001b[49m\u001b[38;5;241;43m10\u001b[39;49m\u001b[43m)\u001b[49m\u001b[43m \u001b[49m\u001b[38;5;241;43m+\u001b[39;49m\u001b[43m \u001b[49m\u001b[38;5;241;43m4\u001b[39;49m\n",
      "\u001b[1;31mTypeError\u001b[0m: unsupported operand type(s) for +: 'NoneType' and 'int'"
     ]
    }
   ],
   "source": [
    "f(10) + 4"
   ]
  },
  {
   "cell_type": "code",
   "execution_count": 44,
   "id": "ed128b10",
   "metadata": {},
   "outputs": [
    {
     "name": "stdout",
     "output_type": "stream",
     "text": [
      "None\n"
     ]
    }
   ],
   "source": [
    "print(f(3))"
   ]
  },
  {
   "cell_type": "code",
   "execution_count": 45,
   "id": "00617999",
   "metadata": {},
   "outputs": [
    {
     "data": {
      "text/plain": [
       "NoneType"
      ]
     },
     "execution_count": 45,
     "metadata": {},
     "output_type": "execute_result"
    }
   ],
   "source": [
    "type(f(3))"
   ]
  },
  {
   "cell_type": "code",
   "execution_count": 46,
   "id": "461a1738",
   "metadata": {},
   "outputs": [],
   "source": [
    "# Bu kod x in karesini değer olarak bize vermiyor, sadece ekrana bastıracak\n",
    "def square(x):\n",
    "    \n",
    "    print(x,\"in/ün/un karesi:\", x*x)"
   ]
  },
  {
   "cell_type": "code",
   "execution_count": 47,
   "id": "a3c76c38",
   "metadata": {},
   "outputs": [
    {
     "name": "stdout",
     "output_type": "stream",
     "text": [
      "3 in/ün/un karesi: 9\n"
     ]
    }
   ],
   "source": [
    "square(3)"
   ]
  },
  {
   "cell_type": "code",
   "execution_count": 48,
   "id": "5f47a552",
   "metadata": {},
   "outputs": [
    {
     "name": "stdout",
     "output_type": "stream",
     "text": [
      "4 in/ün/un karesi: 16\n"
     ]
    },
    {
     "data": {
      "text/plain": [
       "NoneType"
      ]
     },
     "execution_count": 48,
     "metadata": {},
     "output_type": "execute_result"
    }
   ],
   "source": [
    "type(square(4))"
   ]
  },
  {
   "cell_type": "code",
   "execution_count": 49,
   "id": "bff04281",
   "metadata": {},
   "outputs": [],
   "source": [
    "# hem bir değer bastırıp aynı anda o değeri döndüre de bilirdi\n",
    "\n",
    "def square(x):\n",
    "    \n",
    "    res = x * x\n",
    "    \n",
    "    print(x,\"in/ün/un karesi:\", x*x)\n",
    "    \n",
    "    return res"
   ]
  },
  {
   "cell_type": "code",
   "execution_count": 50,
   "id": "365469d3",
   "metadata": {},
   "outputs": [
    {
     "name": "stdout",
     "output_type": "stream",
     "text": [
      "4 in/ün/un karesi: 16\n"
     ]
    },
    {
     "data": {
      "text/plain": [
       "16"
      ]
     },
     "execution_count": 50,
     "metadata": {},
     "output_type": "execute_result"
    }
   ],
   "source": [
    "square(4)"
   ]
  },
  {
   "cell_type": "code",
   "execution_count": 51,
   "id": "0cac328a",
   "metadata": {},
   "outputs": [
    {
     "name": "stdout",
     "output_type": "stream",
     "text": [
      "4 in/ün/un karesi: 16\n"
     ]
    },
    {
     "data": {
      "text/plain": [
       "18"
      ]
     },
     "execution_count": 51,
     "metadata": {},
     "output_type": "execute_result"
    }
   ],
   "source": [
    "square(4) + 2"
   ]
  },
  {
   "cell_type": "code",
   "execution_count": 75,
   "id": "a040b899",
   "metadata": {},
   "outputs": [],
   "source": [
    "x=7\n",
    "def f(x):\n",
    "    res=5\n",
    "    res*=res\n",
    "    if x%2==0:# verdiğimiz değer buraya etki ediyor\n",
    "        print(\"Sonuca:\",res)\n",
    "        return res\n",
    "    else:\n",
    "        print(\"Sonucb: \",res)\n",
    "        return res+10"
   ]
  },
  {
   "cell_type": "code",
   "execution_count": 76,
   "id": "9e9d7cfc",
   "metadata": {},
   "outputs": [
    {
     "name": "stdout",
     "output_type": "stream",
     "text": [
      "Sonuca: 25\n"
     ]
    },
    {
     "data": {
      "text/plain": [
       "25"
      ]
     },
     "execution_count": 76,
     "metadata": {},
     "output_type": "execute_result"
    }
   ],
   "source": [
    "f(4)"
   ]
  },
  {
   "cell_type": "markdown",
   "id": "405dc2e2",
   "metadata": {},
   "source": [
    "### Fonksiyonlara Açıklama Yazmak"
   ]
  },
  {
   "cell_type": "code",
   "execution_count": 77,
   "id": "e1eb6e8d",
   "metadata": {},
   "outputs": [],
   "source": [
    "def square(x):\n",
    "    \n",
    "    res = x * x\n",
    "    \n",
    "    return res"
   ]
  },
  {
   "cell_type": "code",
   "execution_count": 80,
   "id": "a98640f6",
   "metadata": {},
   "outputs": [],
   "source": [
    "?square"
   ]
  },
  {
   "cell_type": "code",
   "execution_count": 82,
   "id": "07f5ca4d",
   "metadata": {},
   "outputs": [],
   "source": [
    "def square(x):\n",
    "    \"\"\"\n",
    "    x'in karesini hesaplar\n",
    "    \"\"\"\n",
    "    return x * x"
   ]
  },
  {
   "cell_type": "code",
   "execution_count": 83,
   "id": "576527c4",
   "metadata": {},
   "outputs": [],
   "source": [
    "??square"
   ]
  },
  {
   "cell_type": "code",
   "execution_count": 122,
   "id": "83c8da29",
   "metadata": {},
   "outputs": [
    {
     "name": "stdout",
     "output_type": "stream",
     "text": [
      "5\n",
      "12345"
     ]
    }
   ],
   "source": [
    "if __name__ == '__main__':\n",
    "    n = int(input())\n",
    "    for i in range(1,151):\n",
    "        if i<=n:\n",
    "            print(i,end=\"\")"
   ]
  },
  {
   "cell_type": "markdown",
   "id": "18e53156",
   "metadata": {},
   "source": [
    "### Birden Çok Input\n",
    "* Fonksiyonların birden çok parametresi olabilir."
   ]
  },
  {
   "cell_type": "code",
   "execution_count": 123,
   "id": "2fa73d93",
   "metadata": {},
   "outputs": [],
   "source": [
    "def square(x):\n",
    "    return x *x"
   ]
  },
  {
   "cell_type": "code",
   "execution_count": 124,
   "id": "46684e17",
   "metadata": {},
   "outputs": [
    {
     "data": {
      "text/plain": [
       "9"
      ]
     },
     "execution_count": 124,
     "metadata": {},
     "output_type": "execute_result"
    }
   ],
   "source": [
    "square(3)"
   ]
  },
  {
   "cell_type": "code",
   "execution_count": 125,
   "id": "c6717e22",
   "metadata": {},
   "outputs": [],
   "source": [
    "def power(x, y):\n",
    "    \n",
    "    return x ** y"
   ]
  },
  {
   "cell_type": "code",
   "execution_count": 126,
   "id": "044145f1",
   "metadata": {},
   "outputs": [
    {
     "data": {
      "text/plain": [
       "8"
      ]
     },
     "execution_count": 126,
     "metadata": {},
     "output_type": "execute_result"
    }
   ],
   "source": [
    "power(2, 3)"
   ]
  },
  {
   "cell_type": "markdown",
   "id": "e0773c4b",
   "metadata": {},
   "source": [
    "### Birden Çok Değer Döndüren Fonksiyonlar"
   ]
  },
  {
   "cell_type": "code",
   "execution_count": 127,
   "id": "88025cde",
   "metadata": {},
   "outputs": [],
   "source": [
    "def f(x):\n",
    "    \n",
    "    return 2*x, 10*x"
   ]
  },
  {
   "cell_type": "code",
   "execution_count": 128,
   "id": "e6fda264",
   "metadata": {},
   "outputs": [
    {
     "data": {
      "text/plain": [
       "(20, 100)"
      ]
     },
     "execution_count": 128,
     "metadata": {},
     "output_type": "execute_result"
    }
   ],
   "source": [
    "f(10)"
   ]
  },
  {
   "cell_type": "markdown",
   "id": "d4267df8",
   "metadata": {},
   "source": [
    "* Bana sonucu tuple olarak döndürdü.\n",
    "* Variable Unpacking kısmında gördüğümüz gibi bu iki değeri farklı değişkenlere eşitleyebilirim."
   ]
  },
  {
   "cell_type": "code",
   "execution_count": 129,
   "id": "c8580905",
   "metadata": {},
   "outputs": [],
   "source": [
    "a, b = f(10)"
   ]
  },
  {
   "cell_type": "code",
   "execution_count": 130,
   "id": "66424e59",
   "metadata": {},
   "outputs": [
    {
     "data": {
      "text/plain": [
       "20"
      ]
     },
     "execution_count": 130,
     "metadata": {},
     "output_type": "execute_result"
    }
   ],
   "source": [
    "a"
   ]
  },
  {
   "cell_type": "code",
   "execution_count": 131,
   "id": "0c182ab5",
   "metadata": {},
   "outputs": [
    {
     "data": {
      "text/plain": [
       "100"
      ]
     },
     "execution_count": 131,
     "metadata": {},
     "output_type": "execute_result"
    }
   ],
   "source": [
    "b"
   ]
  },
  {
   "cell_type": "code",
   "execution_count": 132,
   "id": "dd93acf9",
   "metadata": {},
   "outputs": [],
   "source": [
    "def f(x,y):\n",
    "    \n",
    "    return 2*x*y, (10*x)**y"
   ]
  },
  {
   "cell_type": "code",
   "execution_count": 133,
   "id": "f4be7c65",
   "metadata": {},
   "outputs": [
    {
     "data": {
      "text/plain": [
       "(40, 10000)"
      ]
     },
     "execution_count": 133,
     "metadata": {},
     "output_type": "execute_result"
    }
   ],
   "source": [
    "f(10,2)"
   ]
  },
  {
   "cell_type": "code",
   "execution_count": 135,
   "id": "d0b3fa3c",
   "metadata": {},
   "outputs": [],
   "source": [
    "def f(x,y):\n",
    "    w=x+2\n",
    "    b=y+3\n",
    "    return w,b"
   ]
  },
  {
   "cell_type": "code",
   "execution_count": 136,
   "id": "b42a64cc",
   "metadata": {},
   "outputs": [
    {
     "data": {
      "text/plain": [
       "(16, 20)"
      ]
     },
     "execution_count": 136,
     "metadata": {},
     "output_type": "execute_result"
    }
   ],
   "source": [
    "f(14,17)"
   ]
  },
  {
   "cell_type": "markdown",
   "id": "f3c3c14a",
   "metadata": {},
   "source": [
    "### Predefined Parameters"
   ]
  },
  {
   "cell_type": "code",
   "execution_count": 140,
   "id": "ce7e0830",
   "metadata": {},
   "outputs": [],
   "source": [
    "def hello(end, start = \"Hello\"):\n",
    "   \n",
    "  print(start + \" \" + end)"
   ]
  },
  {
   "cell_type": "code",
   "execution_count": 141,
   "id": "1cc5596d",
   "metadata": {},
   "outputs": [
    {
     "name": "stdout",
     "output_type": "stream",
     "text": [
      "Hello Denis\n"
     ]
    }
   ],
   "source": [
    "hello(\"Denis\")"
   ]
  },
  {
   "cell_type": "code",
   "execution_count": 142,
   "id": "6bdd9f08",
   "metadata": {},
   "outputs": [
    {
     "name": "stdout",
     "output_type": "stream",
     "text": [
      "Hey Denis\n"
     ]
    }
   ],
   "source": [
    "hello(\"Denis\", start = \"Hey\")"
   ]
  },
  {
   "cell_type": "code",
   "execution_count": 143,
   "id": "4f73cb8e",
   "metadata": {},
   "outputs": [
    {
     "name": "stdout",
     "output_type": "stream",
     "text": [
      "Hey Denis\n"
     ]
    }
   ],
   "source": [
    "hello(\"Denis\",\"Hey\")"
   ]
  },
  {
   "cell_type": "code",
   "execution_count": 144,
   "id": "b813ba11",
   "metadata": {},
   "outputs": [
    {
     "name": "stdout",
     "output_type": "stream",
     "text": [
      "Hello Denis\n"
     ]
    }
   ],
   "source": [
    "hello(\"Denis\")"
   ]
  },
  {
   "cell_type": "code",
   "execution_count": 145,
   "id": "2e37897c",
   "metadata": {},
   "outputs": [],
   "source": [
    "def power(x, y=1):\n",
    "    \n",
    "    return x ** y"
   ]
  },
  {
   "cell_type": "code",
   "execution_count": 146,
   "id": "0df1ae32",
   "metadata": {},
   "outputs": [
    {
     "data": {
      "text/plain": [
       "3"
      ]
     },
     "execution_count": 146,
     "metadata": {},
     "output_type": "execute_result"
    }
   ],
   "source": [
    "power(3)"
   ]
  },
  {
   "cell_type": "code",
   "execution_count": 147,
   "id": "5b029f1e",
   "metadata": {},
   "outputs": [
    {
     "data": {
      "text/plain": [
       "16"
      ]
     },
     "execution_count": 147,
     "metadata": {},
     "output_type": "execute_result"
    }
   ],
   "source": [
    "power(4, 2)"
   ]
  },
  {
   "cell_type": "code",
   "execution_count": 148,
   "id": "05130a0a",
   "metadata": {},
   "outputs": [
    {
     "ename": "SyntaxError",
     "evalue": "non-default argument follows default argument (3278829179.py, line 3)",
     "output_type": "error",
     "traceback": [
      "\u001b[1;36m  Input \u001b[1;32mIn [148]\u001b[1;36m\u001b[0m\n\u001b[1;33m    def hello(start = \"Hello\", end):\u001b[0m\n\u001b[1;37m                               ^\u001b[0m\n\u001b[1;31mSyntaxError\u001b[0m\u001b[1;31m:\u001b[0m non-default argument follows default argument\n"
     ]
    }
   ],
   "source": [
    "# Aksini belirtmezsek predefined değerleri kullanacak fonksiyon\n",
    "# predefined olarak vereceğimiz değerleri en sona yazmalıyız yoksa hata alırız\n",
    "def hello(start = \"Hello\", end):\n",
    "    \n",
    "    print(start + end)"
   ]
  },
  {
   "cell_type": "code",
   "execution_count": 149,
   "id": "4aff85a0",
   "metadata": {},
   "outputs": [],
   "source": [
    "def f(x, y=1, z=2):\n",
    "    \n",
    "    return x + y + z"
   ]
  },
  {
   "cell_type": "code",
   "execution_count": 150,
   "id": "76ef1e2c",
   "metadata": {},
   "outputs": [
    {
     "data": {
      "text/plain": [
       "5"
      ]
     },
     "execution_count": 150,
     "metadata": {},
     "output_type": "execute_result"
    }
   ],
   "source": [
    "f(2)"
   ]
  },
  {
   "cell_type": "code",
   "execution_count": 151,
   "id": "d78cdc3f",
   "metadata": {},
   "outputs": [
    {
     "data": {
      "text/plain": [
       "9"
      ]
     },
     "execution_count": 151,
     "metadata": {},
     "output_type": "execute_result"
    }
   ],
   "source": [
    "f(2,5)"
   ]
  },
  {
   "cell_type": "code",
   "execution_count": 152,
   "id": "e53996be",
   "metadata": {},
   "outputs": [
    {
     "data": {
      "text/plain": [
       "13"
      ]
     },
     "execution_count": 152,
     "metadata": {},
     "output_type": "execute_result"
    }
   ],
   "source": [
    "f(2,5,6)"
   ]
  },
  {
   "cell_type": "code",
   "execution_count": 156,
   "id": "f5c086d3",
   "metadata": {},
   "outputs": [],
   "source": [
    "def f(x, y=True):\n",
    "    if x%2==0:\n",
    "        y=False\n",
    "        return y\n",
    "    return y"
   ]
  },
  {
   "cell_type": "code",
   "execution_count": 157,
   "id": "bd650d43",
   "metadata": {},
   "outputs": [
    {
     "data": {
      "text/plain": [
       "True"
      ]
     },
     "execution_count": 157,
     "metadata": {},
     "output_type": "execute_result"
    }
   ],
   "source": [
    "f(7,True)"
   ]
  },
  {
   "cell_type": "markdown",
   "id": "39184b1d",
   "metadata": {},
   "source": [
    "### Argümanların Değerlerinin Güncellenip Güncellenmediği Durumlar\n",
    "\n",
    "### Integer ve Floatların Değerlerin Değişmez"
   ]
  },
  {
   "cell_type": "code",
   "execution_count": 158,
   "id": "aed172f0",
   "metadata": {},
   "outputs": [],
   "source": [
    "a = 2"
   ]
  },
  {
   "cell_type": "code",
   "execution_count": 159,
   "id": "dc161ebc",
   "metadata": {},
   "outputs": [],
   "source": [
    "def f(x):\n",
    "    x = 4\n",
    "    return x"
   ]
  },
  {
   "cell_type": "code",
   "execution_count": 160,
   "id": "e83a7b34",
   "metadata": {},
   "outputs": [
    {
     "data": {
      "text/plain": [
       "4"
      ]
     },
     "execution_count": 160,
     "metadata": {},
     "output_type": "execute_result"
    }
   ],
   "source": [
    "f(a)"
   ]
  },
  {
   "cell_type": "code",
   "execution_count": 161,
   "id": "f24ddc5d",
   "metadata": {},
   "outputs": [
    {
     "data": {
      "text/plain": [
       "2"
      ]
     },
     "execution_count": 161,
     "metadata": {},
     "output_type": "execute_result"
    }
   ],
   "source": [
    "a"
   ]
  },
  {
   "cell_type": "code",
   "execution_count": 162,
   "id": "65120ed5",
   "metadata": {},
   "outputs": [],
   "source": [
    "b = 3.4"
   ]
  },
  {
   "cell_type": "code",
   "execution_count": 163,
   "id": "55687da5",
   "metadata": {},
   "outputs": [
    {
     "data": {
      "text/plain": [
       "4"
      ]
     },
     "execution_count": 163,
     "metadata": {},
     "output_type": "execute_result"
    }
   ],
   "source": [
    "f(b)"
   ]
  },
  {
   "cell_type": "code",
   "execution_count": 164,
   "id": "a5a08884",
   "metadata": {},
   "outputs": [
    {
     "data": {
      "text/plain": [
       "3.4"
      ]
     },
     "execution_count": 164,
     "metadata": {},
     "output_type": "execute_result"
    }
   ],
   "source": [
    "b"
   ]
  },
  {
   "cell_type": "markdown",
   "id": "3dfe8917",
   "metadata": {},
   "source": [
    "### listler"
   ]
  },
  {
   "cell_type": "code",
   "execution_count": 165,
   "id": "8fe77c26",
   "metadata": {},
   "outputs": [],
   "source": [
    "l = [1,2,3]"
   ]
  },
  {
   "cell_type": "code",
   "execution_count": 166,
   "id": "67704b1b",
   "metadata": {},
   "outputs": [],
   "source": [
    "l2 = l.copy()"
   ]
  },
  {
   "cell_type": "code",
   "execution_count": 167,
   "id": "0ad418ad",
   "metadata": {},
   "outputs": [
    {
     "data": {
      "text/plain": [
       "[1, 2, 3]"
      ]
     },
     "execution_count": 167,
     "metadata": {},
     "output_type": "execute_result"
    }
   ],
   "source": [
    "l2"
   ]
  },
  {
   "cell_type": "code",
   "execution_count": 168,
   "id": "707c30cf",
   "metadata": {},
   "outputs": [
    {
     "data": {
      "text/plain": [
       "[1, 2, 3]"
      ]
     },
     "execution_count": 168,
     "metadata": {},
     "output_type": "execute_result"
    }
   ],
   "source": [
    "l"
   ]
  },
  {
   "cell_type": "code",
   "execution_count": 169,
   "id": "195e4faa",
   "metadata": {},
   "outputs": [],
   "source": [
    "l2[0] = 10"
   ]
  },
  {
   "cell_type": "code",
   "execution_count": 170,
   "id": "a9a4e250",
   "metadata": {},
   "outputs": [
    {
     "data": {
      "text/plain": [
       "[10, 2, 3]"
      ]
     },
     "execution_count": 170,
     "metadata": {},
     "output_type": "execute_result"
    }
   ],
   "source": [
    "l2"
   ]
  },
  {
   "cell_type": "code",
   "execution_count": 171,
   "id": "62aa3e04",
   "metadata": {},
   "outputs": [
    {
     "data": {
      "text/plain": [
       "[1, 2, 3]"
      ]
     },
     "execution_count": 171,
     "metadata": {},
     "output_type": "execute_result"
    }
   ],
   "source": [
    "l"
   ]
  },
  {
   "cell_type": "code",
   "execution_count": 172,
   "id": "89362687",
   "metadata": {},
   "outputs": [],
   "source": [
    "def f(l):\n",
    "    l[0] = \"a\"\n",
    "    return l"
   ]
  },
  {
   "cell_type": "code",
   "execution_count": 173,
   "id": "4ca6dd86",
   "metadata": {},
   "outputs": [
    {
     "data": {
      "text/plain": [
       "['a', 2, 3]"
      ]
     },
     "execution_count": 173,
     "metadata": {},
     "output_type": "execute_result"
    }
   ],
   "source": [
    "f(l)"
   ]
  },
  {
   "cell_type": "code",
   "execution_count": 174,
   "id": "c5c9ad61",
   "metadata": {},
   "outputs": [
    {
     "data": {
      "text/plain": [
       "['a', 2, 3]"
      ]
     },
     "execution_count": 174,
     "metadata": {},
     "output_type": "execute_result"
    }
   ],
   "source": [
    "l"
   ]
  },
  {
   "cell_type": "markdown",
   "id": "bd3f6631",
   "metadata": {},
   "source": [
    "* def f(l): l = [\"a\", \"b\", \"c\"] \n",
    "        #l[0] = [\"a\", \"b\", \"c\"] \n",
    "        return l"
   ]
  },
  {
   "cell_type": "code",
   "execution_count": 175,
   "id": "0694fb06",
   "metadata": {},
   "outputs": [],
   "source": [
    "l = [1,2,3]"
   ]
  },
  {
   "cell_type": "code",
   "execution_count": 176,
   "id": "80b20992",
   "metadata": {},
   "outputs": [],
   "source": [
    "def f(x):\n",
    "    \n",
    "    x[0] = 2\n",
    "    \n",
    "    return x"
   ]
  },
  {
   "cell_type": "code",
   "execution_count": 177,
   "id": "b1f7a216",
   "metadata": {},
   "outputs": [],
   "source": [
    "def f(penguin):\n",
    "    \n",
    "    penguin[0] = 2\n",
    "    \n",
    "    return penguin"
   ]
  },
  {
   "cell_type": "code",
   "execution_count": 178,
   "id": "918970fc",
   "metadata": {},
   "outputs": [
    {
     "data": {
      "text/plain": [
       "[2, 2, 3]"
      ]
     },
     "execution_count": 178,
     "metadata": {},
     "output_type": "execute_result"
    }
   ],
   "source": [
    "f(l)"
   ]
  },
  {
   "cell_type": "code",
   "execution_count": 179,
   "id": "828eb08b",
   "metadata": {},
   "outputs": [
    {
     "data": {
      "text/plain": [
       "[2, 2, 3]"
      ]
     },
     "execution_count": 179,
     "metadata": {},
     "output_type": "execute_result"
    }
   ],
   "source": [
    "l"
   ]
  },
  {
   "cell_type": "code",
   "execution_count": 180,
   "id": "fa1fb1fa",
   "metadata": {},
   "outputs": [],
   "source": [
    "l = [1,2,3]"
   ]
  },
  {
   "cell_type": "code",
   "execution_count": 181,
   "id": "7acebf7b",
   "metadata": {},
   "outputs": [],
   "source": [
    "def f(x):\n",
    "    \n",
    "    l2= x.copy()\n",
    "    l2[0] = 2\n",
    "    \n",
    "    return l2"
   ]
  },
  {
   "cell_type": "code",
   "execution_count": 182,
   "id": "1b842e52",
   "metadata": {},
   "outputs": [
    {
     "data": {
      "text/plain": [
       "[2, 2, 3]"
      ]
     },
     "execution_count": 182,
     "metadata": {},
     "output_type": "execute_result"
    }
   ],
   "source": [
    "f(l)"
   ]
  },
  {
   "cell_type": "code",
   "execution_count": 183,
   "id": "cca70634",
   "metadata": {},
   "outputs": [
    {
     "data": {
      "text/plain": [
       "[1, 2, 3]"
      ]
     },
     "execution_count": 183,
     "metadata": {},
     "output_type": "execute_result"
    }
   ],
   "source": [
    "l"
   ]
  },
  {
   "cell_type": "code",
   "execution_count": 185,
   "id": "9319bb79",
   "metadata": {},
   "outputs": [
    {
     "name": "stdout",
     "output_type": "stream",
     "text": [
      "['limon', 'portakal', 'armut']\n"
     ]
    }
   ],
   "source": [
    "l=[\"elma\",\"portakal\",\"armut\"]\n",
    "\n",
    "m=l\n",
    "\n",
    "def f(y):\n",
    "\n",
    "    y[0]=\"limon\"\n",
    "\n",
    "    return y\n",
    "\n",
    "f(l)\n",
    "\n",
    "print(m)"
   ]
  },
  {
   "cell_type": "markdown",
   "id": "db25182d",
   "metadata": {},
   "source": [
    "### First Class Function\n",
    "* Python'da fonksiyonlar first class function olarak değerlendirilir. Bunun anlamı fonksiyonların diğer veri tipleri gibi manipüle edilebilir ve başka fonksiyonlara argüman olarak verilebilir.\n",
    "* Bir fonksiyonu bir değişkene atayabiliriz."
   ]
  },
  {
   "cell_type": "code",
   "execution_count": 186,
   "id": "ea73553e",
   "metadata": {},
   "outputs": [],
   "source": [
    "def kare(x):\n",
    "    return x**2"
   ]
  },
  {
   "cell_type": "code",
   "execution_count": 187,
   "id": "c5aedc3e",
   "metadata": {},
   "outputs": [],
   "source": [
    "a = kare"
   ]
  },
  {
   "cell_type": "code",
   "execution_count": 188,
   "id": "2763107b",
   "metadata": {},
   "outputs": [
    {
     "data": {
      "text/plain": [
       "25"
      ]
     },
     "execution_count": 188,
     "metadata": {},
     "output_type": "execute_result"
    }
   ],
   "source": [
    "kare(5)"
   ]
  },
  {
   "cell_type": "code",
   "execution_count": 189,
   "id": "c4e9086c",
   "metadata": {},
   "outputs": [
    {
     "data": {
      "text/plain": [
       "25"
      ]
     },
     "execution_count": 189,
     "metadata": {},
     "output_type": "execute_result"
    }
   ],
   "source": [
    "a(5)"
   ]
  },
  {
   "cell_type": "markdown",
   "id": "6576dbec",
   "metadata": {},
   "source": [
    "* Bir fonksiyonu başka bir fonksiyona argüman olarak verebiliriz."
   ]
  },
  {
   "cell_type": "code",
   "execution_count": 190,
   "id": "1543fb0c",
   "metadata": {},
   "outputs": [],
   "source": [
    "def f2(x, f):\n",
    "    return f(x) + 4"
   ]
  },
  {
   "cell_type": "code",
   "execution_count": 191,
   "id": "badc8b83",
   "metadata": {},
   "outputs": [
    {
     "data": {
      "text/plain": [
       "13"
      ]
     },
     "execution_count": 191,
     "metadata": {},
     "output_type": "execute_result"
    }
   ],
   "source": [
    "f2(3,kare)"
   ]
  },
  {
   "cell_type": "code",
   "execution_count": 192,
   "id": "80c2c045",
   "metadata": {},
   "outputs": [],
   "source": [
    "def f3(x):\n",
    "    return x**5"
   ]
  },
  {
   "cell_type": "code",
   "execution_count": 196,
   "id": "424ae29d",
   "metadata": {},
   "outputs": [
    {
     "data": {
      "text/plain": [
       "36"
      ]
     },
     "execution_count": 196,
     "metadata": {},
     "output_type": "execute_result"
    }
   ],
   "source": [
    "f2(2, f3)"
   ]
  },
  {
   "cell_type": "markdown",
   "id": "82ba674b",
   "metadata": {},
   "source": [
    "### Fonksiyonları Obje Olarak Kullanmak\n",
    "* Python'da fonksiyonların first class function olduklarını konuşmuştuk.\n",
    "* Şimdi bu mantığı kullanarak belirli fonksiyonları listenin elemanlarına uygulayacağız."
   ]
  },
  {
   "cell_type": "code",
   "execution_count": 1,
   "id": "9d69ecc0",
   "metadata": {},
   "outputs": [],
   "source": [
    "l = [1,2,3,4]"
   ]
  },
  {
   "cell_type": "code",
   "execution_count": 2,
   "id": "5a450945",
   "metadata": {},
   "outputs": [],
   "source": [
    "def apply(l, f):\n",
    "    \"\"\"\n",
    "    l bir liste, \n",
    "    f listenin tüm elemanlarına uygulanacak fonksiyon\n",
    "    sonunda listenin orijinali elemanlarına fonksiyonun uygulanmış haliyle güncellenir\n",
    "    \"\"\"\n",
    "    \n",
    "    n = len(l)\n",
    "    \n",
    "    for i in range(n):\n",
    "        l[i] = f(l[i])"
   ]
  },
  {
   "cell_type": "code",
   "execution_count": 3,
   "id": "6b0fbff8",
   "metadata": {},
   "outputs": [],
   "source": [
    "def kare(x):\n",
    "    return x**2"
   ]
  },
  {
   "cell_type": "code",
   "execution_count": 4,
   "id": "ef654397",
   "metadata": {},
   "outputs": [],
   "source": [
    "apply(l, kare)"
   ]
  },
  {
   "cell_type": "code",
   "execution_count": 5,
   "id": "aa720aca",
   "metadata": {},
   "outputs": [
    {
     "data": {
      "text/plain": [
       "[1, 4, 9, 16]"
      ]
     },
     "execution_count": 5,
     "metadata": {},
     "output_type": "execute_result"
    }
   ],
   "source": [
    "l"
   ]
  },
  {
   "cell_type": "markdown",
   "id": "07dfa5d9",
   "metadata": {},
   "source": [
    "* Tüm elemanlara fonksiyon uygulandı ve güncelledik."
   ]
  },
  {
   "cell_type": "code",
   "execution_count": 6,
   "id": "c5b5b06e",
   "metadata": {},
   "outputs": [],
   "source": [
    "l = [1,2,3,4]"
   ]
  },
  {
   "cell_type": "code",
   "execution_count": 7,
   "id": "4b4a6c6e",
   "metadata": {},
   "outputs": [],
   "source": [
    "def kup(x):\n",
    "    return x**3"
   ]
  },
  {
   "cell_type": "code",
   "execution_count": 8,
   "id": "ecc874b0",
   "metadata": {},
   "outputs": [],
   "source": [
    "apply(l, kup)"
   ]
  },
  {
   "cell_type": "code",
   "execution_count": 9,
   "id": "7fe0a85b",
   "metadata": {},
   "outputs": [
    {
     "data": {
      "text/plain": [
       "[1, 8, 27, 64]"
      ]
     },
     "execution_count": 9,
     "metadata": {},
     "output_type": "execute_result"
    }
   ],
   "source": [
    "l"
   ]
  },
  {
   "cell_type": "markdown",
   "id": "9c96460c",
   "metadata": {},
   "source": [
    "### Fonksiyonlar Listesini Belirli Bir Değere Uygulamak"
   ]
  },
  {
   "cell_type": "code",
   "execution_count": 10,
   "id": "4d30b771",
   "metadata": {},
   "outputs": [],
   "source": [
    "def apply_funcs(f_list, x):\n",
    "    l = []\n",
    "    for f in f_list:\n",
    "        l.append(f(x))\n",
    "        \n",
    "    return l"
   ]
  },
  {
   "cell_type": "code",
   "execution_count": 11,
   "id": "38d2637c",
   "metadata": {},
   "outputs": [
    {
     "data": {
      "text/plain": [
       "[25, 125]"
      ]
     },
     "execution_count": 11,
     "metadata": {},
     "output_type": "execute_result"
    }
   ],
   "source": [
    "apply_funcs([kare, kup], 5)"
   ]
  },
  {
   "cell_type": "code",
   "execution_count": null,
   "id": "d7f66375",
   "metadata": {},
   "outputs": [],
   "source": []
  }
 ],
 "metadata": {
  "kernelspec": {
   "display_name": "Python 3 (ipykernel)",
   "language": "python",
   "name": "python3"
  },
  "language_info": {
   "codemirror_mode": {
    "name": "ipython",
    "version": 3
   },
   "file_extension": ".py",
   "mimetype": "text/x-python",
   "name": "python",
   "nbconvert_exporter": "python",
   "pygments_lexer": "ipython3",
   "version": "3.10.5"
  }
 },
 "nbformat": 4,
 "nbformat_minor": 5
}
