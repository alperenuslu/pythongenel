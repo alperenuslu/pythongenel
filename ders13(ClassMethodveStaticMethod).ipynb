{
 "cells": [
  {
   "cell_type": "markdown",
   "id": "20480b23",
   "metadata": {},
   "source": [
    "# Class Method\n",
    "* @classmethod decorator methodu ilk arguman olarak instance almak yerine classı alacak şekilde günceller."
   ]
  },
  {
   "cell_type": "code",
   "execution_count": 1,
   "id": "937e4b2d",
   "metadata": {},
   "outputs": [],
   "source": [
    "class Employee:\n",
    "    raise_percent=1.05\n",
    "    num_emp=0\n",
    "    def __init__(self,name,last,age,pay):\n",
    "        self.name=name\n",
    "        self.last=last\n",
    "        self.age=age\n",
    "        self.pay=pay\n",
    "        Employee.num_emp+=1\n",
    "    def appyl_raise(self):\n",
    "        self.pay=self.pay* self.raise_percent\n",
    "    \n",
    "    @classmethod\n",
    "    def set_raise(cls,amount):\n",
    "        cls.raise_percent=amount"
   ]
  },
  {
   "cell_type": "code",
   "execution_count": 2,
   "id": "c29bf003",
   "metadata": {},
   "outputs": [],
   "source": [
    "emp_1=Employee(\"James\",\"Hughes\",32,5000)"
   ]
  },
  {
   "cell_type": "code",
   "execution_count": 3,
   "id": "bbdc280f",
   "metadata": {},
   "outputs": [],
   "source": [
    "emp_2=Employee(\"Charlie\",\"Brown\",22,3000)"
   ]
  },
  {
   "cell_type": "code",
   "execution_count": 4,
   "id": "bce0a802",
   "metadata": {},
   "outputs": [],
   "source": [
    "Employee.set_raise(1.6)"
   ]
  },
  {
   "cell_type": "code",
   "execution_count": 6,
   "id": "806e967c",
   "metadata": {},
   "outputs": [],
   "source": [
    "emp_1.set_raise(2.3)"
   ]
  },
  {
   "cell_type": "code",
   "execution_count": 7,
   "id": "25a073ba",
   "metadata": {},
   "outputs": [
    {
     "name": "stdout",
     "output_type": "stream",
     "text": [
      "2.3\n",
      "2.3\n",
      "2.3\n"
     ]
    }
   ],
   "source": [
    "print(emp_1.raise_percent)\n",
    "print(emp_2.raise_percent)\n",
    "print(Employee.raise_percent)"
   ]
  },
  {
   "cell_type": "markdown",
   "id": "f04f8697",
   "metadata": {},
   "source": [
    "### Alternative Constructor\n",
    "* Diyelim ki bize classı oluşturuken input olarak string veriyorlar ve bizim bundan name,age, gibi bilgileri kendimiz çıkarmamız lazım"
   ]
  },
  {
   "cell_type": "code",
   "execution_count": 8,
   "id": "33180b1a",
   "metadata": {},
   "outputs": [],
   "source": [
    "emp_1_str=\"James-Hughes-32-5000\""
   ]
  },
  {
   "cell_type": "code",
   "execution_count": 9,
   "id": "94002de6",
   "metadata": {},
   "outputs": [],
   "source": [
    "emp_2_str=\"Charlie-Brown-22-5000\""
   ]
  },
  {
   "cell_type": "code",
   "execution_count": 10,
   "id": "57f17903",
   "metadata": {},
   "outputs": [
    {
     "data": {
      "text/plain": [
       "['James', 'Hughes', '32', '5000']"
      ]
     },
     "execution_count": 10,
     "metadata": {},
     "output_type": "execute_result"
    }
   ],
   "source": [
    "emp_1_str.split(\"-\")"
   ]
  },
  {
   "cell_type": "code",
   "execution_count": 11,
   "id": "a90f99ca",
   "metadata": {},
   "outputs": [],
   "source": [
    "name,last,age,pay=emp_1_str.split(\"-\")"
   ]
  },
  {
   "cell_type": "code",
   "execution_count": 12,
   "id": "5e26a2e7",
   "metadata": {},
   "outputs": [],
   "source": [
    "emp_1=Employee(name,last,age,pay)"
   ]
  },
  {
   "cell_type": "markdown",
   "id": "9dd4a3c1",
   "metadata": {},
   "source": [
    "* Ama belki her zaman bu şekilde vermeyeceğiz. String olarak input geldiğinde objenin bu şekilde olması için başka nasıl bir mekanizma kullanabilirim?\n",
    "* Her seferinde kendim parse etmek yerine bunu bir method olarak yazabilirim"
   ]
  },
  {
   "cell_type": "code",
   "execution_count": 53,
   "id": "31d3727e",
   "metadata": {},
   "outputs": [],
   "source": [
    "class Employee:\n",
    "    raise_percent=1.05\n",
    "    num_emp=0\n",
    "    def __init__(self,name,last,age,pay):\n",
    "        self.name=name\n",
    "        self.last=last\n",
    "        self.age=age\n",
    "        self.pay=pay\n",
    "        Employee.num_emp+=1\n",
    "    def appyl_raise(self):\n",
    "        self.pay=self.pay* self.raise_percent\n",
    "    \n",
    "    @classmethod\n",
    "    def set_raise(cls,amount):\n",
    "        cls.raise_percent=amount\n",
    "    \n",
    "    @classmethod\n",
    "    def from_string(cls,emp_str):\n",
    "        name,last,age,pay = emp_str.split(\"-\")\n",
    "        return cls(name,last,int(age),float(pay)) # yeni çalışan yaratacak ve döndürecek"
   ]
  },
  {
   "cell_type": "code",
   "execution_count": 54,
   "id": "8fbc6ccc",
   "metadata": {},
   "outputs": [],
   "source": [
    "emp_1_str = \"James-Hughes-32-5000\""
   ]
  },
  {
   "cell_type": "code",
   "execution_count": 55,
   "id": "80f1f15b",
   "metadata": {},
   "outputs": [],
   "source": [
    "emp_2_str = \"Charlie-Brown-22-3000\""
   ]
  },
  {
   "cell_type": "code",
   "execution_count": 56,
   "id": "ec07458f",
   "metadata": {},
   "outputs": [],
   "source": [
    "emp_1 = Employee.from_string(emp_1_str)"
   ]
  },
  {
   "cell_type": "code",
   "execution_count": 57,
   "id": "59fc2290",
   "metadata": {},
   "outputs": [
    {
     "data": {
      "text/plain": [
       "5000.0"
      ]
     },
     "execution_count": 57,
     "metadata": {},
     "output_type": "execute_result"
    }
   ],
   "source": [
    "emp_1.pay"
   ]
  },
  {
   "cell_type": "code",
   "execution_count": 58,
   "id": "b8f32e20",
   "metadata": {},
   "outputs": [],
   "source": [
    "emp_2=Employee.from_string(emp_2_str)"
   ]
  },
  {
   "cell_type": "code",
   "execution_count": 59,
   "id": "594d05e9",
   "metadata": {},
   "outputs": [
    {
     "data": {
      "text/plain": [
       "22"
      ]
     },
     "execution_count": 59,
     "metadata": {},
     "output_type": "execute_result"
    }
   ],
   "source": [
    "emp_2.age"
   ]
  },
  {
   "cell_type": "markdown",
   "id": "a6d6dbc4",
   "metadata": {},
   "source": [
    "### Static Method\n",
    "* Regular methodlar (ilk gördüklerimiz), classın instanceını(oluşturan objeyi), methodlara otomatik olarak argüman olarak veriyordu(self olarak). Class methodları classı otomatik olarak argüman olarak veriyor. Static methodlar otomatik olarak bir şey vermeyen methodlar olacak.\n",
    "* Instance veya  classa methodun içerisinde erişim olmuyorsa static olarak tanımlamak daha iyi olabilir"
   ]
  },
  {
   "cell_type": "code",
   "execution_count": 62,
   "id": "7aa757c2",
   "metadata": {},
   "outputs": [],
   "source": [
    "class Employee:\n",
    "    raise_percent=1.05\n",
    "    num_emp=0\n",
    "    def __init__(self,name,last,age,pay):\n",
    "        self.name=name\n",
    "        self.last=last\n",
    "        self.age=age\n",
    "        self.pay=pay\n",
    "        Employee.num_emp+=1\n",
    "    def appyl_raise(self):\n",
    "        self.pay=self.pay* self.raise_percent\n",
    "    \n",
    "    @classmethod\n",
    "    def set_raise(cls,amount):\n",
    "        cls.raise_percent=amount\n",
    "    \n",
    "    @classmethod\n",
    "    def from_string(cls,emp_str):\n",
    "        name,last,age,pay = emp_str.split(\"-\")\n",
    "        return cls(name,last,int(age),float(pay)) # yeni çalışan yaratacak ve döndürecek\n",
    "    @staticmethod\n",
    "    def holiday_print(day):\n",
    "        if day == \"weekend\":\n",
    "            print(\"This is an off day\")\n",
    "        else:\n",
    "            print(\"This is not an off day\")"
   ]
  },
  {
   "cell_type": "code",
   "execution_count": 63,
   "id": "44804fb3",
   "metadata": {},
   "outputs": [
    {
     "name": "stdout",
     "output_type": "stream",
     "text": [
      "This is an off day\n"
     ]
    }
   ],
   "source": [
    "Employee.holiday_print(\"weekend\")"
   ]
  },
  {
   "cell_type": "code",
   "execution_count": 64,
   "id": "280018d1",
   "metadata": {},
   "outputs": [],
   "source": [
    "emp_1=Employee(\"James\",\"Hughes\",32,5000)"
   ]
  },
  {
   "cell_type": "code",
   "execution_count": 65,
   "id": "7b42e633",
   "metadata": {},
   "outputs": [
    {
     "name": "stdout",
     "output_type": "stream",
     "text": [
      "This is not an off day\n"
     ]
    }
   ],
   "source": [
    "emp_1.holiday_print(\"working day\")"
   ]
  },
  {
   "cell_type": "code",
   "execution_count": null,
   "id": "1e172d51",
   "metadata": {},
   "outputs": [],
   "source": []
  }
 ],
 "metadata": {
  "kernelspec": {
   "display_name": "Python 3 (ipykernel)",
   "language": "python",
   "name": "python3"
  },
  "language_info": {
   "codemirror_mode": {
    "name": "ipython",
    "version": 3
   },
   "file_extension": ".py",
   "mimetype": "text/x-python",
   "name": "python",
   "nbconvert_exporter": "python",
   "pygments_lexer": "ipython3",
   "version": "3.10.5"
  }
 },
 "nbformat": 4,
 "nbformat_minor": 5
}
