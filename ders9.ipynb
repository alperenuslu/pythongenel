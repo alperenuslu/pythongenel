{
 "cells": [
  {
   "cell_type": "markdown",
   "id": "f08a644d",
   "metadata": {},
   "source": [
    "### Underscore Placeholders"
   ]
  },
  {
   "cell_type": "code",
   "execution_count": 1,
   "id": "6cd93fa6",
   "metadata": {},
   "outputs": [],
   "source": [
    "num_1 = 90000000000"
   ]
  },
  {
   "cell_type": "markdown",
   "id": "4694af39",
   "metadata": {},
   "source": [
    "* Kaç tane 0 var burada ? 1,2,3,4... bir tanesini atladım mı? Nerede kalmıştım, başa dönüp bir daha sayayım... Pff yok mu bunun daha okunabilir bir yolu?\n",
    "* Cevap tabii ki de evet. Sayıları arka planda algılanmasını değiştirmeden, ama bize daha kolay okunabilir yapan bir yöntem var."
   ]
  },
  {
   "cell_type": "code",
   "execution_count": 2,
   "id": "f0b4fa03",
   "metadata": {},
   "outputs": [],
   "source": [
    "num_2 = 90_000_000_000"
   ]
  },
  {
   "cell_type": "markdown",
   "id": "d1603541",
   "metadata": {},
   "source": [
    "* Sayıların arasına alttan çizgi koymak!\n",
    "* Bu bilgisayarın sayıları algılamasını değiştirmiyor, o onları görmezden geliyor, ama bizim için daha okunabilir oluyor."
   ]
  },
  {
   "cell_type": "code",
   "execution_count": 3,
   "id": "18e9aadd",
   "metadata": {},
   "outputs": [
    {
     "data": {
      "text/plain": [
       "90000000000"
      ]
     },
     "execution_count": 3,
     "metadata": {},
     "output_type": "execute_result"
    }
   ],
   "source": [
    "num_1"
   ]
  },
  {
   "cell_type": "code",
   "execution_count": 4,
   "id": "cdb8d26b",
   "metadata": {},
   "outputs": [
    {
     "data": {
      "text/plain": [
       "90000000000"
      ]
     },
     "execution_count": 4,
     "metadata": {},
     "output_type": "execute_result"
    }
   ],
   "source": [
    "num_2"
   ]
  },
  {
   "cell_type": "markdown",
   "id": "e78ed8b8",
   "metadata": {},
   "source": [
    "* Bilgisayar için 90_000_000_000 ile 90000000000 sayısının hiç bir farkı yok!"
   ]
  },
  {
   "cell_type": "code",
   "execution_count": 5,
   "id": "d624dba9",
   "metadata": {},
   "outputs": [
    {
     "data": {
      "text/plain": [
       "int"
      ]
     },
     "execution_count": 5,
     "metadata": {},
     "output_type": "execute_result"
    }
   ],
   "source": [
    "type(90_000_000_000)"
   ]
  },
  {
   "cell_type": "code",
   "execution_count": 6,
   "id": "d86b895f",
   "metadata": {},
   "outputs": [
    {
     "data": {
      "text/plain": [
       "int"
      ]
     },
     "execution_count": 6,
     "metadata": {},
     "output_type": "execute_result"
    }
   ],
   "source": [
    "type(90000000000)"
   ]
  },
  {
   "cell_type": "code",
   "execution_count": 7,
   "id": "439263ae",
   "metadata": {},
   "outputs": [],
   "source": [
    "num_1 = 90000000000"
   ]
  },
  {
   "cell_type": "code",
   "execution_count": 8,
   "id": "643bd2f9",
   "metadata": {},
   "outputs": [],
   "source": [
    "num_2 = 90_000_000_000"
   ]
  },
  {
   "cell_type": "code",
   "execution_count": 9,
   "id": "dd4289ff",
   "metadata": {},
   "outputs": [
    {
     "data": {
      "text/plain": [
       "0"
      ]
     },
     "execution_count": 9,
     "metadata": {},
     "output_type": "execute_result"
    }
   ],
   "source": [
    "num_1 - num_2"
   ]
  },
  {
   "cell_type": "markdown",
   "id": "f2246a2b",
   "metadata": {},
   "source": [
    "* Bu mantığı float veri tipleri için de kullanabiliriz."
   ]
  },
  {
   "cell_type": "code",
   "execution_count": 10,
   "id": "1c42b9c3",
   "metadata": {},
   "outputs": [],
   "source": [
    "num_3 = 0.12_11_12"
   ]
  },
  {
   "cell_type": "code",
   "execution_count": 11,
   "id": "d1cc8d65",
   "metadata": {},
   "outputs": [
    {
     "data": {
      "text/plain": [
       "0.121112"
      ]
     },
     "execution_count": 11,
     "metadata": {},
     "output_type": "execute_result"
    }
   ],
   "source": [
    "num_3"
   ]
  },
  {
   "cell_type": "markdown",
   "id": "b80ac46f",
   "metadata": {},
   "source": [
    "### F-Strings\n",
    "* Değişkenlerimizin değerlerini direkt olarak string'lerin içine koymak isteyebiliriz.\n",
    "* f-string de yaptığımız tek şey aslında değişkenlerin değerlerini veya hesaplamaların sonucunu stringin içine gömmek.\n",
    "* f\"...\" diye göreceğimiz yapının adını String Interpolation diye görebilirsiniz."
   ]
  },
  {
   "cell_type": "code",
   "execution_count": 12,
   "id": "06e803fd",
   "metadata": {},
   "outputs": [],
   "source": [
    "x = 2"
   ]
  },
  {
   "cell_type": "markdown",
   "id": "b713d320",
   "metadata": {},
   "source": [
    "* Diyelim ki ekrana x'in değerini bastırmak istiyorum. Bu durumda istediğim şey \"x in değeri 2\" diye bastırmak. Bunu şöyle yapabilirim:"
   ]
  },
  {
   "cell_type": "code",
   "execution_count": 13,
   "id": "12510f71",
   "metadata": {},
   "outputs": [
    {
     "data": {
      "text/plain": [
       "'x in değeri 2'"
      ]
     },
     "execution_count": 13,
     "metadata": {},
     "output_type": "execute_result"
    }
   ],
   "source": [
    "\"x in değeri\" + \" \" + str(x)"
   ]
  },
  {
   "cell_type": "markdown",
   "id": "2f75db7a",
   "metadata": {},
   "source": [
    "* Ama ayrı ayrı yazmaya ihtiyaç olmadan direkt x'in değerini string'in içine gömebilseydim daha iyi olmaz mıydı ?"
   ]
  },
  {
   "cell_type": "code",
   "execution_count": 14,
   "id": "81144bc6",
   "metadata": {},
   "outputs": [
    {
     "data": {
      "text/plain": [
       "'x in değeri 2'"
      ]
     },
     "execution_count": 14,
     "metadata": {},
     "output_type": "execute_result"
    }
   ],
   "source": [
    "f\"x in değeri {x}\""
   ]
  },
  {
   "cell_type": "markdown",
   "id": "48e18be8",
   "metadata": {},
   "source": [
    "* İçine değer gömeceğimiz string'i tanımlarken başına f yazarak başlıyoruz f\"....\". Gömmek istediğimiz değeri/değişkeni süslü parantez içine yazıyoruz f\".....{}....\". Birden çok değer de gömmek isteyebiliriz, o zaman kaç tane yapacaksak o kadar süslü parantez koymamız gerekirdi f\".....{}....{}..\"\n",
    "* Python'ın yaptığı şey süslü parantezin içini hesaplayıp stringin içine gömmek."
   ]
  },
  {
   "cell_type": "code",
   "execution_count": 15,
   "id": "6de6b057",
   "metadata": {},
   "outputs": [
    {
     "data": {
      "text/plain": [
       "'x in değerinin iki fazlası 4'"
      ]
     },
     "execution_count": 15,
     "metadata": {},
     "output_type": "execute_result"
    }
   ],
   "source": [
    "f\"x in değerinin iki fazlası {x+2}\""
   ]
  },
  {
   "cell_type": "markdown",
   "id": "08b5940a",
   "metadata": {},
   "source": [
    "* {x+2} kısmında python x+2'yi hesapladı ve string'in içine cevabın değerini gömdü."
   ]
  },
  {
   "cell_type": "code",
   "execution_count": 16,
   "id": "a038c57a",
   "metadata": {},
   "outputs": [
    {
     "name": "stdout",
     "output_type": "stream",
     "text": [
      "İsim:alperen\n"
     ]
    }
   ],
   "source": [
    "isim = input(\"İsim:\")"
   ]
  },
  {
   "cell_type": "code",
   "execution_count": 17,
   "id": "ef33d614",
   "metadata": {},
   "outputs": [
    {
     "data": {
      "text/plain": [
       "'verilen isim alperen'"
      ]
     },
     "execution_count": 17,
     "metadata": {},
     "output_type": "execute_result"
    }
   ],
   "source": [
    "f\"verilen isim {isim}\""
   ]
  },
  {
   "cell_type": "code",
   "execution_count": 18,
   "id": "442d463e",
   "metadata": {},
   "outputs": [],
   "source": [
    "l = [1,2,3,4]"
   ]
  },
  {
   "cell_type": "code",
   "execution_count": 19,
   "id": "8ba950eb",
   "metadata": {},
   "outputs": [
    {
     "data": {
      "text/plain": [
       "'verilen liste [1, 2, 3, 4]'"
      ]
     },
     "execution_count": 19,
     "metadata": {},
     "output_type": "execute_result"
    }
   ],
   "source": [
    "f\"verilen liste {l}\""
   ]
  },
  {
   "cell_type": "markdown",
   "id": "d9ddb710",
   "metadata": {},
   "source": [
    "* {} içerisine değeri hesaplanacak herhangi bir şey yazılabilir."
   ]
  },
  {
   "cell_type": "code",
   "execution_count": 20,
   "id": "4e19d7ac",
   "metadata": {},
   "outputs": [
    {
     "data": {
      "text/plain": [
       "'verilen isim Alperen'"
      ]
     },
     "execution_count": 20,
     "metadata": {},
     "output_type": "execute_result"
    }
   ],
   "source": [
    "f\"verilen isim {isim.capitalize()}\""
   ]
  },
  {
   "cell_type": "markdown",
   "id": "5a397b44",
   "metadata": {},
   "source": [
    "* Süslü parantezin içine fonksiyon da yazabiliriz."
   ]
  },
  {
   "cell_type": "code",
   "execution_count": 21,
   "id": "cf012be0",
   "metadata": {},
   "outputs": [],
   "source": [
    "def kare(x):\n",
    "    return x**2"
   ]
  },
  {
   "cell_type": "code",
   "execution_count": 22,
   "id": "4a122468",
   "metadata": {},
   "outputs": [],
   "source": [
    "x = 10"
   ]
  },
  {
   "cell_type": "code",
   "execution_count": 23,
   "id": "53675efa",
   "metadata": {},
   "outputs": [
    {
     "data": {
      "text/plain": [
       "'10 sayısının karesi 100'"
      ]
     },
     "execution_count": 23,
     "metadata": {},
     "output_type": "execute_result"
    }
   ],
   "source": [
    "f\"{x} sayısının karesi {kare(x)}\""
   ]
  },
  {
   "cell_type": "code",
   "execution_count": null,
   "id": "fcb394f0",
   "metadata": {},
   "outputs": [],
   "source": []
  }
 ],
 "metadata": {
  "kernelspec": {
   "display_name": "Python 3 (ipykernel)",
   "language": "python",
   "name": "python3"
  },
  "language_info": {
   "codemirror_mode": {
    "name": "ipython",
    "version": 3
   },
   "file_extension": ".py",
   "mimetype": "text/x-python",
   "name": "python",
   "nbconvert_exporter": "python",
   "pygments_lexer": "ipython3",
   "version": "3.10.5"
  }
 },
 "nbformat": 4,
 "nbformat_minor": 5
}
