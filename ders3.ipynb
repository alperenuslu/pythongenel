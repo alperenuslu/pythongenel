{
 "cells": [
  {
   "cell_type": "markdown",
   "id": "815fa54c",
   "metadata": {},
   "source": [
    "# List"
   ]
  },
  {
   "cell_type": "markdown",
   "id": "68531007",
   "metadata": {},
   "source": [
    "* Elimizdeki verileri gruplamak bir yapı altında tutmak isteyebiliriz.\n",
    "* Mesela bir sınıftaki öğrencilerin notlarını tutmak istiyorum. 5 farklı öğrenci var, şimdiye kadar öğrendiklerimizle şöyle yapabilirdim:"
   ]
  },
  {
   "cell_type": "code",
   "execution_count": 5,
   "id": "945e08d4",
   "metadata": {},
   "outputs": [],
   "source": [
    "ogrenci_1 = 78\n",
    "ogrenci_2 = 80\n",
    "ogrenci_3 = 43\n",
    "ogrenci_4 = 65\n",
    "ogrenci_5 = 90"
   ]
  },
  {
   "cell_type": "markdown",
   "id": "223c6704",
   "metadata": {},
   "source": [
    "* Bunların hepsi bir sınıftaki notları ifade ediyor. Bunları bir veri tipi olarak bir arada tutsak daha mantıklı olmaz mı?\n",
    "* list veri tipi de tam burada devreye giriyor. Birden çok veriyi gruplayıp bir arada tutmak istediğimizde kullanabileceğimiz bir yapıdır.\n",
    "* listler belirtirken köşeli parantezle belirtiyoruz: [element1, element2,...].\n",
    "* listler içsel yapı içerdikleri için non-scalar veri tipidir.\n",
    "* Elemanları arasına virgül koyarak farklı eleman belirtmeye başladığımı ifade ediyorum."
   ]
  },
  {
   "cell_type": "code",
   "execution_count": 8,
   "id": "e3e1ef2e",
   "metadata": {},
   "outputs": [],
   "source": [
    "notlar = [78, 80, 43, 65, 90]"
   ]
  },
  {
   "cell_type": "code",
   "execution_count": 9,
   "id": "34a6511f",
   "metadata": {},
   "outputs": [],
   "source": [
    "# bunun aynısını şu şekilde de tutabilirdik:\n",
    "\n",
    "notlar = [ogrenci_1, ogrenci_2, ogrenci_3, ogrenci_4, ogrenci_5]"
   ]
  },
  {
   "cell_type": "markdown",
   "id": "147b446f",
   "metadata": {},
   "source": [
    "* Bu oluşturduğumuz yapının ilk elemanı ilk öğrencinin notu, ikinci elemanı ikinci öğrencinin notunu belirtiyor (bu mantık böyle devam ediyor). Böylece öğrencilerin notlarını farklı 5 değişkende tutmak yerine bir veri tipi altında düzenli tutabilmiş olduk.\n",
    "* Nasıl ki stringlerde elemanlarına indexleme yaparak [0] gibi değerlerle ulaşabiliyorsak, listlerde de aynı durum söz konusu.\n",
    "* notlar listesinin ilk elemanına ulaşmak için"
   ]
  },
  {
   "cell_type": "code",
   "execution_count": 10,
   "id": "59eea1b9",
   "metadata": {},
   "outputs": [
    {
     "data": {
      "text/plain": [
       "78"
      ]
     },
     "execution_count": 10,
     "metadata": {},
     "output_type": "execute_result"
    }
   ],
   "source": [
    "# ogrenci_1 in notu\n",
    "notlar[0]"
   ]
  },
  {
   "cell_type": "markdown",
   "id": "5b1c370a",
   "metadata": {},
   "source": [
    "* list'lerin içine istediğimiz veri tipini koyabiliriz. listeleri sadece verilerimi içine koyduğumuz bir kutu olarak düşünün, listlerin tek yaptığı şey bunları bir arada tutmak. Elemanları istediğim veri objesi olabilir. int, float, string, hatta listler bile!"
   ]
  },
  {
   "cell_type": "code",
   "execution_count": 11,
   "id": "0adf5dd9",
   "metadata": {},
   "outputs": [
    {
     "data": {
      "text/plain": [
       "['a', 'b']"
      ]
     },
     "execution_count": 11,
     "metadata": {},
     "output_type": "execute_result"
    }
   ],
   "source": [
    "[\"a\",\"b\"]"
   ]
  },
  {
   "cell_type": "code",
   "execution_count": 12,
   "id": "73c0bc95",
   "metadata": {},
   "outputs": [
    {
     "data": {
      "text/plain": [
       "[True, False]"
      ]
     },
     "execution_count": 12,
     "metadata": {},
     "output_type": "execute_result"
    }
   ],
   "source": [
    "[True, False]"
   ]
  },
  {
   "cell_type": "code",
   "execution_count": 13,
   "id": "795e1168",
   "metadata": {},
   "outputs": [
    {
     "data": {
      "text/plain": [
       "[[1, 2], [3, 4, 5]]"
      ]
     },
     "execution_count": 13,
     "metadata": {},
     "output_type": "execute_result"
    }
   ],
   "source": [
    "[[1,2], [3,4,5]]"
   ]
  },
  {
   "cell_type": "markdown",
   "id": "3283542e",
   "metadata": {},
   "source": [
    "### Listler Farklı Veri Tiplerini İçerebilir\n",
    "* Aynı list'in içine farklı tipte veri tipleri koyabiliriz."
   ]
  },
  {
   "cell_type": "code",
   "execution_count": 14,
   "id": "87c5fa9b",
   "metadata": {},
   "outputs": [],
   "source": [
    "l = [1, 2, \"a\", \"b\", True, 4.5, [1,2,3]]"
   ]
  },
  {
   "cell_type": "code",
   "execution_count": 15,
   "id": "596d6ce1",
   "metadata": {},
   "outputs": [
    {
     "data": {
      "text/plain": [
       "[1, 2, 'a', 'b', True, 4.5, [1, 2, 3]]"
      ]
     },
     "execution_count": 15,
     "metadata": {},
     "output_type": "execute_result"
    }
   ],
   "source": [
    "l"
   ]
  },
  {
   "cell_type": "markdown",
   "id": "2afc4e22",
   "metadata": {},
   "source": [
    "### Indexing ve Slicing\n",
    "* String konusunda yaptığımız indexleme mantığı ve slicing mantığı tamamen listler için de geçerli."
   ]
  },
  {
   "cell_type": "code",
   "execution_count": 16,
   "id": "96d73af0",
   "metadata": {},
   "outputs": [
    {
     "data": {
      "text/plain": [
       "[78, 80, 43, 65, 90]"
      ]
     },
     "execution_count": 16,
     "metadata": {},
     "output_type": "execute_result"
    }
   ],
   "source": [
    "notlar"
   ]
  },
  {
   "cell_type": "code",
   "execution_count": 17,
   "id": "430e1732",
   "metadata": {},
   "outputs": [
    {
     "data": {
      "text/plain": [
       "90"
      ]
     },
     "execution_count": 17,
     "metadata": {},
     "output_type": "execute_result"
    }
   ],
   "source": [
    "notlar[-1]"
   ]
  },
  {
   "cell_type": "code",
   "execution_count": 18,
   "id": "b3c234a3",
   "metadata": {},
   "outputs": [
    {
     "ename": "IndexError",
     "evalue": "list index out of range",
     "output_type": "error",
     "traceback": [
      "\u001b[1;31m---------------------------------------------------------------------------\u001b[0m",
      "\u001b[1;31mIndexError\u001b[0m                                Traceback (most recent call last)",
      "Input \u001b[1;32mIn [18]\u001b[0m, in \u001b[0;36m<cell line: 1>\u001b[1;34m()\u001b[0m\n\u001b[1;32m----> 1\u001b[0m \u001b[43mnotlar\u001b[49m\u001b[43m[\u001b[49m\u001b[38;5;241;43m10\u001b[39;49m\u001b[43m]\u001b[49m\n",
      "\u001b[1;31mIndexError\u001b[0m: list index out of range"
     ]
    }
   ],
   "source": [
    "notlar[10]"
   ]
  },
  {
   "cell_type": "code",
   "execution_count": 19,
   "id": "7673cd55",
   "metadata": {},
   "outputs": [
    {
     "data": {
      "text/plain": [
       "[80, 43, 65, 90]"
      ]
     },
     "execution_count": 19,
     "metadata": {},
     "output_type": "execute_result"
    }
   ],
   "source": [
    "notlar[1:]"
   ]
  },
  {
   "cell_type": "code",
   "execution_count": 20,
   "id": "c7cc47de",
   "metadata": {},
   "outputs": [
    {
     "data": {
      "text/plain": [
       "[80, 43]"
      ]
     },
     "execution_count": 20,
     "metadata": {},
     "output_type": "execute_result"
    }
   ],
   "source": [
    "notlar[1:3]"
   ]
  },
  {
   "cell_type": "code",
   "execution_count": 21,
   "id": "adef95e4",
   "metadata": {},
   "outputs": [
    {
     "data": {
      "text/plain": [
       "[78, 80, 43, 65, 90]"
      ]
     },
     "execution_count": 21,
     "metadata": {},
     "output_type": "execute_result"
    }
   ],
   "source": [
    "notlar[:200]"
   ]
  },
  {
   "cell_type": "markdown",
   "id": "c5253bc8",
   "metadata": {},
   "source": [
    "### Listlerin Elemanları Değiştirilebilir\n",
    "* Listler mutable veri tipleridir. Elemanlarını güncelleyebiliriz."
   ]
  },
  {
   "cell_type": "code",
   "execution_count": 22,
   "id": "649e5f57",
   "metadata": {},
   "outputs": [
    {
     "data": {
      "text/plain": [
       "[78, 80, 43, 65, 90]"
      ]
     },
     "execution_count": 22,
     "metadata": {},
     "output_type": "execute_result"
    }
   ],
   "source": [
    "notlar"
   ]
  },
  {
   "cell_type": "markdown",
   "id": "e9bcd498",
   "metadata": {},
   "source": [
    "* Diyelim ki ikinci öğrencinin notunu eksik okuduk. 5 puan yükseltmek istiyoruz:"
   ]
  },
  {
   "cell_type": "code",
   "execution_count": 23,
   "id": "23f8f913",
   "metadata": {},
   "outputs": [],
   "source": [
    "notlar[1] += 5\n",
    "# notlar[1] = notlar[1] + 5"
   ]
  },
  {
   "cell_type": "code",
   "execution_count": 24,
   "id": "b556f1ad",
   "metadata": {},
   "outputs": [
    {
     "data": {
      "text/plain": [
       "[78, 85, 43, 65, 90]"
      ]
     },
     "execution_count": 24,
     "metadata": {},
     "output_type": "execute_result"
    }
   ],
   "source": [
    "notlar"
   ]
  },
  {
   "cell_type": "markdown",
   "id": "f017c706",
   "metadata": {},
   "source": [
    "* Birden çok elemanı da değiştirebiliriz."
   ]
  },
  {
   "cell_type": "code",
   "execution_count": 27,
   "id": "1a97bdac",
   "metadata": {},
   "outputs": [],
   "source": [
    "l = [1, 2, 3, 4]"
   ]
  },
  {
   "cell_type": "code",
   "execution_count": 29,
   "id": "3d75858b",
   "metadata": {
    "scrolled": true
   },
   "outputs": [
    {
     "data": {
      "text/plain": [
       "[1, 2, 3]"
      ]
     },
     "execution_count": 29,
     "metadata": {},
     "output_type": "execute_result"
    }
   ],
   "source": [
    "l[0:3]"
   ]
  },
  {
   "cell_type": "code",
   "execution_count": 30,
   "id": "ed7f67a2",
   "metadata": {},
   "outputs": [],
   "source": [
    "l[0:3] = 30, 40, 60"
   ]
  },
  {
   "cell_type": "code",
   "execution_count": 31,
   "id": "a67dacbe",
   "metadata": {},
   "outputs": [
    {
     "data": {
      "text/plain": [
       "[30, 40, 60, 4]"
      ]
     },
     "execution_count": 31,
     "metadata": {},
     "output_type": "execute_result"
    }
   ],
   "source": [
    "l"
   ]
  },
  {
   "cell_type": "markdown",
   "id": "1ddc4375",
   "metadata": {},
   "source": [
    "* Eşit sayıda vermemiz de gerekmez, l[0:3] olacak yere sadece solda yazdığımız yazılır."
   ]
  },
  {
   "cell_type": "code",
   "execution_count": 32,
   "id": "41ba5e27",
   "metadata": {},
   "outputs": [],
   "source": [
    "l[0:3] = 30, 40"
   ]
  },
  {
   "cell_type": "code",
   "execution_count": 33,
   "id": "4dcf9337",
   "metadata": {},
   "outputs": [
    {
     "data": {
      "text/plain": [
       "[30, 40, 4]"
      ]
     },
     "execution_count": 33,
     "metadata": {},
     "output_type": "execute_result"
    }
   ],
   "source": [
    "l"
   ]
  },
  {
   "cell_type": "code",
   "execution_count": 34,
   "id": "67ebdf78",
   "metadata": {},
   "outputs": [],
   "source": [
    "l = [1, 2, 3, 4]"
   ]
  },
  {
   "cell_type": "code",
   "execution_count": 35,
   "id": "e5ba9c27",
   "metadata": {},
   "outputs": [
    {
     "ename": "TypeError",
     "evalue": "can only assign an iterable",
     "output_type": "error",
     "traceback": [
      "\u001b[1;31m---------------------------------------------------------------------------\u001b[0m",
      "\u001b[1;31mTypeError\u001b[0m                                 Traceback (most recent call last)",
      "Input \u001b[1;32mIn [35]\u001b[0m, in \u001b[0;36m<cell line: 1>\u001b[1;34m()\u001b[0m\n\u001b[1;32m----> 1\u001b[0m l[\u001b[38;5;241m0\u001b[39m:\u001b[38;5;241m3\u001b[39m] \u001b[38;5;241m=\u001b[39m \u001b[38;5;241m30\u001b[39m\n",
      "\u001b[1;31mTypeError\u001b[0m: can only assign an iterable"
     ]
    }
   ],
   "source": [
    "l[0:3] = 30"
   ]
  },
  {
   "cell_type": "markdown",
   "id": "6bc67f29",
   "metadata": {},
   "source": [
    "* Slicing'in sonucuna tek bir değer yazacaksak bile direkt tek olarak veremeyiz, iterable olması gerekir. Bunun ayrıntısını ileride göreceğiz şimdilik sol tarafı list olarak verebileceğimizi bilmeniz yeterli."
   ]
  },
  {
   "cell_type": "code",
   "execution_count": 36,
   "id": "568f7060",
   "metadata": {},
   "outputs": [],
   "source": [
    "l[0:3] = [30]"
   ]
  },
  {
   "cell_type": "code",
   "execution_count": 38,
   "id": "c7e0b06e",
   "metadata": {},
   "outputs": [
    {
     "data": {
      "text/plain": [
       "[30, 4]"
      ]
     },
     "execution_count": 38,
     "metadata": {},
     "output_type": "execute_result"
    }
   ],
   "source": [
    "l"
   ]
  },
  {
   "cell_type": "markdown",
   "id": "3dc2697e",
   "metadata": {},
   "source": [
    "### len()"
   ]
  },
  {
   "cell_type": "markdown",
   "id": "01eb08c6",
   "metadata": {},
   "source": [
    "* Bize list'te kaç eleman olduğunu verir."
   ]
  },
  {
   "cell_type": "code",
   "execution_count": 39,
   "id": "e6e1aa29",
   "metadata": {},
   "outputs": [
    {
     "data": {
      "text/plain": [
       "[30, 4]"
      ]
     },
     "execution_count": 39,
     "metadata": {},
     "output_type": "execute_result"
    }
   ],
   "source": [
    "l"
   ]
  },
  {
   "cell_type": "code",
   "execution_count": 40,
   "id": "93c2c35c",
   "metadata": {},
   "outputs": [
    {
     "data": {
      "text/plain": [
       "2"
      ]
     },
     "execution_count": 40,
     "metadata": {},
     "output_type": "execute_result"
    }
   ],
   "source": [
    "len(l)"
   ]
  },
  {
   "cell_type": "markdown",
   "id": "141f7cb4",
   "metadata": {},
   "source": [
    "### Listin Sonuna Eleman Eklemek"
   ]
  },
  {
   "cell_type": "markdown",
   "id": "acded009",
   "metadata": {},
   "source": [
    "### append()"
   ]
  },
  {
   "cell_type": "markdown",
   "id": "3761d927",
   "metadata": {},
   "source": [
    "* İçine yazılan elemanı listenin sonuna ekler."
   ]
  },
  {
   "cell_type": "code",
   "execution_count": 53,
   "id": "18760d76",
   "metadata": {},
   "outputs": [],
   "source": [
    "l = [1,2,3]"
   ]
  },
  {
   "cell_type": "code",
   "execution_count": 54,
   "id": "10341fe5",
   "metadata": {},
   "outputs": [],
   "source": [
    "l.append(200)"
   ]
  },
  {
   "cell_type": "code",
   "execution_count": 55,
   "id": "3a173b96",
   "metadata": {},
   "outputs": [
    {
     "data": {
      "text/plain": [
       "[1, 2, 3, 200]"
      ]
     },
     "execution_count": 55,
     "metadata": {},
     "output_type": "execute_result"
    }
   ],
   "source": [
    "l"
   ]
  },
  {
   "cell_type": "markdown",
   "id": "2b4b21ed",
   "metadata": {},
   "source": [
    "### extend()"
   ]
  },
  {
   "cell_type": "markdown",
   "id": "9fe6024b",
   "metadata": {},
   "source": [
    "* İçine yazılan birden çok elemanı listenin sonuna ekler."
   ]
  },
  {
   "cell_type": "code",
   "execution_count": 72,
   "id": "3bf129f4",
   "metadata": {},
   "outputs": [],
   "source": [
    "l = [1,2,3]"
   ]
  },
  {
   "cell_type": "code",
   "execution_count": 73,
   "id": "1a0b348e",
   "metadata": {},
   "outputs": [],
   "source": [
    "l.extend([100,200,300])"
   ]
  },
  {
   "cell_type": "code",
   "execution_count": 74,
   "id": "3800396a",
   "metadata": {},
   "outputs": [
    {
     "data": {
      "text/plain": [
       "[1, 2, 3, 100, 200, 300]"
      ]
     },
     "execution_count": 74,
     "metadata": {},
     "output_type": "execute_result"
    }
   ],
   "source": [
    "l"
   ]
  },
  {
   "cell_type": "markdown",
   "id": "805de351",
   "metadata": {},
   "source": [
    "### Spesifik Bir Indexe Eleman Eklemek\n",
    "* Belki list'in sonuna değil, spesifik bir indexine eleman eklemek istiyoruz. Bunu insert() ile yapabiliriz."
   ]
  },
  {
   "cell_type": "code",
   "execution_count": 75,
   "id": "7ad8897c",
   "metadata": {},
   "outputs": [],
   "source": [
    "l = [1, 2, 3, 4, 5]"
   ]
  },
  {
   "cell_type": "code",
   "execution_count": 76,
   "id": "74bc7e4a",
   "metadata": {},
   "outputs": [],
   "source": [
    "l[0] = 100"
   ]
  },
  {
   "cell_type": "code",
   "execution_count": 77,
   "id": "a130acdd",
   "metadata": {},
   "outputs": [
    {
     "data": {
      "text/plain": [
       "[100, 2, 3, 4, 5]"
      ]
     },
     "execution_count": 77,
     "metadata": {},
     "output_type": "execute_result"
    }
   ],
   "source": [
    "l"
   ]
  },
  {
   "cell_type": "code",
   "execution_count": 78,
   "id": "01fd1f27",
   "metadata": {},
   "outputs": [],
   "source": [
    "l = [1, 2, 3, 4, 5]"
   ]
  },
  {
   "cell_type": "code",
   "execution_count": 79,
   "id": "ab884e04",
   "metadata": {},
   "outputs": [],
   "source": [
    "l.insert(0, 100)\n",
    "# is not l[0] = 100"
   ]
  },
  {
   "cell_type": "markdown",
   "id": "41e3d42d",
   "metadata": {},
   "source": [
    "* eğer l[0] = 100 yazmış olsaydık, liste 100,2,3,4,5 e dönerdi, ama ben 1->100 dönüşümü yapmak istemiyorum, ilk indexe 100'ü eklemek istiyorum. l.insert(0,100) tam da istediğimi yapıyor. 0. indexe 100 değerini yazıyor ve 1 değerini sağa kaydırıyor, listeden silmemiş oluyor."
   ]
  },
  {
   "cell_type": "code",
   "execution_count": 80,
   "id": "a60fa6a6",
   "metadata": {},
   "outputs": [
    {
     "data": {
      "text/plain": [
       "[100, 1, 2, 3, 4, 5]"
      ]
     },
     "execution_count": 80,
     "metadata": {},
     "output_type": "execute_result"
    }
   ],
   "source": [
    "l"
   ]
  },
  {
   "cell_type": "code",
   "execution_count": 81,
   "id": "4383775e",
   "metadata": {},
   "outputs": [],
   "source": [
    "l.insert(3,44)"
   ]
  },
  {
   "cell_type": "code",
   "execution_count": 82,
   "id": "3c3ae6d3",
   "metadata": {},
   "outputs": [
    {
     "data": {
      "text/plain": [
       "[100, 1, 2, 44, 3, 4, 5]"
      ]
     },
     "execution_count": 82,
     "metadata": {},
     "output_type": "execute_result"
    }
   ],
   "source": [
    "l"
   ]
  },
  {
   "cell_type": "markdown",
   "id": "a318ddf7",
   "metadata": {},
   "source": [
    "### remove()"
   ]
  },
  {
   "cell_type": "markdown",
   "id": "7208e18a",
   "metadata": {},
   "source": [
    "* Belirli bir elemanı listeden silmemize yarar. Eğer yazılan eleman listede yoksa error verir."
   ]
  },
  {
   "cell_type": "code",
   "execution_count": 83,
   "id": "922e9a12",
   "metadata": {},
   "outputs": [],
   "source": [
    "l = [1,2,3,4]"
   ]
  },
  {
   "cell_type": "code",
   "execution_count": 84,
   "id": "b3a21587",
   "metadata": {},
   "outputs": [
    {
     "ename": "ValueError",
     "evalue": "list.remove(x): x not in list",
     "output_type": "error",
     "traceback": [
      "\u001b[1;31m---------------------------------------------------------------------------\u001b[0m",
      "\u001b[1;31mValueError\u001b[0m                                Traceback (most recent call last)",
      "Input \u001b[1;32mIn [84]\u001b[0m, in \u001b[0;36m<cell line: 1>\u001b[1;34m()\u001b[0m\n\u001b[1;32m----> 1\u001b[0m \u001b[43ml\u001b[49m\u001b[38;5;241;43m.\u001b[39;49m\u001b[43mremove\u001b[49m\u001b[43m(\u001b[49m\u001b[38;5;241;43m40\u001b[39;49m\u001b[43m)\u001b[49m\n",
      "\u001b[1;31mValueError\u001b[0m: list.remove(x): x not in list"
     ]
    }
   ],
   "source": [
    "l.remove(40)"
   ]
  },
  {
   "cell_type": "markdown",
   "id": "ff2c988b",
   "metadata": {},
   "source": [
    "* Bunu try-except ile çözebiliriz ama daha o konuyu görmedik. Yine de aşağıya kodu ekliyorum."
   ]
  },
  {
   "cell_type": "code",
   "execution_count": 86,
   "id": "4b7397c6",
   "metadata": {},
   "outputs": [],
   "source": [
    "try:\n",
    "    l.remove(40)\n",
    "except ValueError:\n",
    "    pass"
   ]
  },
  {
   "cell_type": "markdown",
   "id": "741499b8",
   "metadata": {},
   "source": [
    "* remove() sadece ilk gördüğü değeri siler. l.remove(40) dersem ve listede 1'den çok 40 varsa ilk gördüğünü siler."
   ]
  },
  {
   "cell_type": "code",
   "execution_count": 95,
   "id": "9be7963a",
   "metadata": {},
   "outputs": [],
   "source": [
    "l = [1,2,3,40,30,40]"
   ]
  },
  {
   "cell_type": "code",
   "execution_count": 96,
   "id": "97b51969",
   "metadata": {},
   "outputs": [],
   "source": [
    "l.remove(40)"
   ]
  },
  {
   "cell_type": "code",
   "execution_count": 97,
   "id": "696a121b",
   "metadata": {},
   "outputs": [
    {
     "data": {
      "text/plain": [
       "[1, 2, 3, 30, 40]"
      ]
     },
     "execution_count": 97,
     "metadata": {},
     "output_type": "execute_result"
    }
   ],
   "source": [
    "l"
   ]
  },
  {
   "cell_type": "markdown",
   "id": "a6a35ca4",
   "metadata": {},
   "source": [
    "### pop()"
   ]
  },
  {
   "cell_type": "markdown",
   "id": "aa240801",
   "metadata": {},
   "source": [
    "* listenin belirli indexindeki elemanı silmeye ve o değeri döndürmeye yarar.\n",
    "* remove() sadece siliyordu, pop() aynı zamanda o değeri döndürüyor."
   ]
  },
  {
   "cell_type": "code",
   "execution_count": 98,
   "id": "33df8a1a",
   "metadata": {},
   "outputs": [],
   "source": [
    "l = [1,2,3,4,5,6]"
   ]
  },
  {
   "cell_type": "code",
   "execution_count": 99,
   "id": "f9c0f827",
   "metadata": {},
   "outputs": [
    {
     "data": {
      "text/plain": [
       "2"
      ]
     },
     "execution_count": 99,
     "metadata": {},
     "output_type": "execute_result"
    }
   ],
   "source": [
    "# It deletes and return the value, remove() just removes it\n",
    "l.pop(1)"
   ]
  },
  {
   "cell_type": "code",
   "execution_count": 100,
   "id": "092c15d9",
   "metadata": {},
   "outputs": [
    {
     "data": {
      "text/plain": [
       "[1, 3, 4, 5, 6]"
      ]
     },
     "execution_count": 100,
     "metadata": {},
     "output_type": "execute_result"
    }
   ],
   "source": [
    "l"
   ]
  },
  {
   "cell_type": "code",
   "execution_count": 101,
   "id": "dcf9186f",
   "metadata": {},
   "outputs": [],
   "source": [
    "l = [1,2,3,4,5,6]"
   ]
  },
  {
   "cell_type": "code",
   "execution_count": 102,
   "id": "319b6cc2",
   "metadata": {},
   "outputs": [
    {
     "data": {
      "text/plain": [
       "6"
      ]
     },
     "execution_count": 102,
     "metadata": {},
     "output_type": "execute_result"
    }
   ],
   "source": [
    "l.pop(1) + 4"
   ]
  },
  {
   "cell_type": "code",
   "execution_count": 103,
   "id": "87542303",
   "metadata": {},
   "outputs": [
    {
     "data": {
      "text/plain": [
       "[1, 3, 4, 5, 6]"
      ]
     },
     "execution_count": 103,
     "metadata": {},
     "output_type": "execute_result"
    }
   ],
   "source": [
    "l"
   ]
  },
  {
   "cell_type": "code",
   "execution_count": 104,
   "id": "21e3890b",
   "metadata": {},
   "outputs": [
    {
     "ename": "IndexError",
     "evalue": "pop index out of range",
     "output_type": "error",
     "traceback": [
      "\u001b[1;31m---------------------------------------------------------------------------\u001b[0m",
      "\u001b[1;31mIndexError\u001b[0m                                Traceback (most recent call last)",
      "Input \u001b[1;32mIn [104]\u001b[0m, in \u001b[0;36m<cell line: 2>\u001b[1;34m()\u001b[0m\n\u001b[0;32m      1\u001b[0m \u001b[38;5;66;03m# out of range error\u001b[39;00m\n\u001b[1;32m----> 2\u001b[0m \u001b[43ml\u001b[49m\u001b[38;5;241;43m.\u001b[39;49m\u001b[43mpop\u001b[49m\u001b[43m(\u001b[49m\u001b[38;5;241;43m100\u001b[39;49m\u001b[43m)\u001b[49m\n",
      "\u001b[1;31mIndexError\u001b[0m: pop index out of range"
     ]
    }
   ],
   "source": [
    "# out of range error\n",
    "l.pop(100)"
   ]
  },
  {
   "cell_type": "markdown",
   "id": "56d1c084",
   "metadata": {},
   "source": [
    "### count() "
   ]
  },
  {
   "cell_type": "markdown",
   "id": "775f5246",
   "metadata": {},
   "source": [
    "* count()'un içine yazdığımız değerin listede kaç defa göründüğünü döndürür."
   ]
  },
  {
   "cell_type": "code",
   "execution_count": 106,
   "id": "9126b721",
   "metadata": {},
   "outputs": [],
   "source": [
    "l = [1, 2, 44, 4, 5, 1]"
   ]
  },
  {
   "cell_type": "code",
   "execution_count": 107,
   "id": "f78f716e",
   "metadata": {},
   "outputs": [
    {
     "data": {
      "text/plain": [
       "2"
      ]
     },
     "execution_count": 107,
     "metadata": {},
     "output_type": "execute_result"
    }
   ],
   "source": [
    "l.count(1)"
   ]
  },
  {
   "cell_type": "code",
   "execution_count": 108,
   "id": "64486b1c",
   "metadata": {},
   "outputs": [
    {
     "data": {
      "text/plain": [
       "1"
      ]
     },
     "execution_count": 108,
     "metadata": {},
     "output_type": "execute_result"
    }
   ],
   "source": [
    "l.count(44)"
   ]
  },
  {
   "cell_type": "code",
   "execution_count": 109,
   "id": "7460955d",
   "metadata": {},
   "outputs": [
    {
     "data": {
      "text/plain": [
       "0"
      ]
     },
     "execution_count": 109,
     "metadata": {},
     "output_type": "execute_result"
    }
   ],
   "source": [
    "l.count(1000)"
   ]
  },
  {
   "cell_type": "markdown",
   "id": "3ad5fe9a",
   "metadata": {},
   "source": [
    "### Aliasing"
   ]
  },
  {
   "cell_type": "markdown",
   "id": "643910f2",
   "metadata": {},
   "source": [
    "* Evet. Geldik olayların ilginç bir hal aldığı yere.\n",
    "* Listeler bilgisayarın hafızasında integer, float gibi veri tiplerinin tutulduğundan biraz daha farklı tutuluyor.\n",
    "* a = 2 dediğimiz zaman hafızada a adında bir kutucuk oluşturuluyor demiştik."
   ]
  },
  {
   "cell_type": "code",
   "execution_count": 110,
   "id": "c5e7361f",
   "metadata": {},
   "outputs": [],
   "source": [
    "a = 2"
   ]
  },
  {
   "cell_type": "markdown",
   "id": "348c2bd2",
   "metadata": {},
   "source": [
    "* a direkt o kutunun adı oluyor.\n",
    "* Ama listelerde durum böyle değil. l = [1,2,3] gibi bir liste yarattığımızda, l kutunun adı değil, kutuyu işaret eden etiketin adı oluyor."
   ]
  },
  {
   "cell_type": "code",
   "execution_count": 111,
   "id": "119c4052",
   "metadata": {},
   "outputs": [],
   "source": [
    "l = [1,2,3]"
   ]
  },
  {
   "cell_type": "markdown",
   "id": "0faef3a3",
   "metadata": {},
   "source": [
    "* Bu farkın getirdiği bazı yan etkiler var.\n",
    "* Mesela kutunun adı direkt değişken adı olduğunda ve aşağıdaki işlemi yaptığımızda:"
   ]
  },
  {
   "cell_type": "code",
   "execution_count": 112,
   "id": "9a323a2a",
   "metadata": {},
   "outputs": [],
   "source": [
    "a = 2\n",
    "\n",
    "b = a"
   ]
  },
  {
   "cell_type": "code",
   "execution_count": 113,
   "id": "7f542a63",
   "metadata": {},
   "outputs": [
    {
     "data": {
      "text/plain": [
       "2"
      ]
     },
     "execution_count": 113,
     "metadata": {},
     "output_type": "execute_result"
    }
   ],
   "source": [
    "b"
   ]
  },
  {
   "cell_type": "code",
   "execution_count": 114,
   "id": "5bdda8a6",
   "metadata": {},
   "outputs": [],
   "source": [
    "a = a + 1"
   ]
  },
  {
   "cell_type": "code",
   "execution_count": 115,
   "id": "99147927",
   "metadata": {},
   "outputs": [
    {
     "data": {
      "text/plain": [
       "3"
      ]
     },
     "execution_count": 115,
     "metadata": {},
     "output_type": "execute_result"
    }
   ],
   "source": [
    "a"
   ]
  },
  {
   "cell_type": "code",
   "execution_count": 116,
   "id": "86997265",
   "metadata": {},
   "outputs": [
    {
     "data": {
      "text/plain": [
       "2"
      ]
     },
     "execution_count": 116,
     "metadata": {},
     "output_type": "execute_result"
    }
   ],
   "source": [
    "b"
   ]
  },
  {
   "cell_type": "markdown",
   "id": "71b6949f",
   "metadata": {},
   "source": [
    "* a yı güncellesek de b güncellenmiyor. b sadece a kutusunun değerine eşit olmuş oldu, kutunun kendisine değil.\n",
    "* Aynısını listlerde yaptığımızda:\n"
   ]
  },
  {
   "cell_type": "code",
   "execution_count": 117,
   "id": "38edcc11",
   "metadata": {},
   "outputs": [],
   "source": [
    "l = [1,2,3]"
   ]
  },
  {
   "cell_type": "code",
   "execution_count": 118,
   "id": "729a246c",
   "metadata": {},
   "outputs": [],
   "source": [
    "l2 = l"
   ]
  },
  {
   "cell_type": "code",
   "execution_count": 119,
   "id": "c7ede329",
   "metadata": {},
   "outputs": [
    {
     "data": {
      "text/plain": [
       "[1, 2, 3]"
      ]
     },
     "execution_count": 119,
     "metadata": {},
     "output_type": "execute_result"
    }
   ],
   "source": [
    "l"
   ]
  },
  {
   "cell_type": "code",
   "execution_count": 120,
   "id": "9ded7c83",
   "metadata": {},
   "outputs": [
    {
     "data": {
      "text/plain": [
       "[1, 2, 3]"
      ]
     },
     "execution_count": 120,
     "metadata": {},
     "output_type": "execute_result"
    }
   ],
   "source": [
    "l2"
   ]
  },
  {
   "cell_type": "code",
   "execution_count": 122,
   "id": "0d102c6d",
   "metadata": {},
   "outputs": [],
   "source": [
    "l[0] = 200"
   ]
  },
  {
   "cell_type": "code",
   "execution_count": 125,
   "id": "e46d2281",
   "metadata": {},
   "outputs": [
    {
     "data": {
      "text/plain": [
       "[200, 2, 3]"
      ]
     },
     "execution_count": 125,
     "metadata": {},
     "output_type": "execute_result"
    }
   ],
   "source": [
    "l"
   ]
  },
  {
   "cell_type": "code",
   "execution_count": 126,
   "id": "09e84a12",
   "metadata": {},
   "outputs": [
    {
     "data": {
      "text/plain": [
       "[200, 2, 3]"
      ]
     },
     "execution_count": 126,
     "metadata": {},
     "output_type": "execute_result"
    }
   ],
   "source": [
    "l2"
   ]
  },
  {
   "cell_type": "markdown",
   "id": "134d8b15",
   "metadata": {},
   "source": [
    "* l2 de güncellendi!\n",
    "* Çünkü l2 = l dediğimizde l2, l etiketinin değerine eşit oldu, iki etikette aynı kutuyu, veri objesini gösteriyor, o yüzden listeyi güncellemem ikisine de yansıyor.\n",
    "* Git aynı değerle başka bir kutucuk yarat ve oraya etiket ol diyerek güncellenmemesini sağlayabilirim.\n",
    "* Bunu copy() ile yapacağız."
   ]
  },
  {
   "cell_type": "code",
   "execution_count": 127,
   "id": "30fb7b4b",
   "metadata": {},
   "outputs": [],
   "source": [
    "l2 = l.copy()"
   ]
  },
  {
   "cell_type": "code",
   "execution_count": 128,
   "id": "2020d511",
   "metadata": {},
   "outputs": [
    {
     "data": {
      "text/plain": [
       "[200, 2, 3]"
      ]
     },
     "execution_count": 128,
     "metadata": {},
     "output_type": "execute_result"
    }
   ],
   "source": [
    "l"
   ]
  },
  {
   "cell_type": "code",
   "execution_count": 129,
   "id": "02f55d9f",
   "metadata": {},
   "outputs": [
    {
     "data": {
      "text/plain": [
       "[200, 2, 3]"
      ]
     },
     "execution_count": 129,
     "metadata": {},
     "output_type": "execute_result"
    }
   ],
   "source": [
    "l2"
   ]
  },
  {
   "cell_type": "code",
   "execution_count": 130,
   "id": "68d6d001",
   "metadata": {},
   "outputs": [],
   "source": [
    "l[0] = 300"
   ]
  },
  {
   "cell_type": "code",
   "execution_count": 131,
   "id": "c8860f31",
   "metadata": {},
   "outputs": [
    {
     "data": {
      "text/plain": [
       "[300, 2, 3]"
      ]
     },
     "execution_count": 131,
     "metadata": {},
     "output_type": "execute_result"
    }
   ],
   "source": [
    "l"
   ]
  },
  {
   "cell_type": "code",
   "execution_count": 132,
   "id": "5be5d9f1",
   "metadata": {},
   "outputs": [
    {
     "data": {
      "text/plain": [
       "[200, 2, 3]"
      ]
     },
     "execution_count": 132,
     "metadata": {},
     "output_type": "execute_result"
    }
   ],
   "source": [
    "l2"
   ]
  },
  {
   "cell_type": "markdown",
   "id": "39e6f981",
   "metadata": {},
   "source": [
    "### Listlerde Concatenation\n",
    "* '+' operatörü listlerde concatenation yapar."
   ]
  },
  {
   "cell_type": "code",
   "execution_count": 133,
   "id": "05d14ceb",
   "metadata": {},
   "outputs": [],
   "source": [
    "l = [1,2,3]"
   ]
  },
  {
   "cell_type": "code",
   "execution_count": 134,
   "id": "d0ae0f2f",
   "metadata": {},
   "outputs": [],
   "source": [
    "l2 = [4,5,6]"
   ]
  },
  {
   "cell_type": "code",
   "execution_count": 135,
   "id": "455ca244",
   "metadata": {},
   "outputs": [
    {
     "data": {
      "text/plain": [
       "[1, 2, 3]"
      ]
     },
     "execution_count": 135,
     "metadata": {},
     "output_type": "execute_result"
    }
   ],
   "source": [
    "l"
   ]
  },
  {
   "cell_type": "code",
   "execution_count": 136,
   "id": "ca4f2c09",
   "metadata": {},
   "outputs": [
    {
     "data": {
      "text/plain": [
       "[4, 5, 6]"
      ]
     },
     "execution_count": 136,
     "metadata": {},
     "output_type": "execute_result"
    }
   ],
   "source": [
    "l2"
   ]
  },
  {
   "cell_type": "code",
   "execution_count": 137,
   "id": "cf525e83",
   "metadata": {},
   "outputs": [
    {
     "data": {
      "text/plain": [
       "[1, 2, 3, 4, 5, 6]"
      ]
     },
     "execution_count": 137,
     "metadata": {},
     "output_type": "execute_result"
    }
   ],
   "source": [
    "l+l2"
   ]
  },
  {
   "cell_type": "code",
   "execution_count": 138,
   "id": "c233c704",
   "metadata": {},
   "outputs": [
    {
     "data": {
      "text/plain": [
       "[1, 2, 3]"
      ]
     },
     "execution_count": 138,
     "metadata": {},
     "output_type": "execute_result"
    }
   ],
   "source": [
    "l"
   ]
  },
  {
   "cell_type": "code",
   "execution_count": 139,
   "id": "a66b4ba4",
   "metadata": {},
   "outputs": [
    {
     "data": {
      "text/plain": [
       "[4, 5, 6]"
      ]
     },
     "execution_count": 139,
     "metadata": {},
     "output_type": "execute_result"
    }
   ],
   "source": [
    "l2"
   ]
  },
  {
   "cell_type": "code",
   "execution_count": 140,
   "id": "152b1f23",
   "metadata": {},
   "outputs": [],
   "source": [
    "l3=l+l2"
   ]
  },
  {
   "cell_type": "code",
   "execution_count": 141,
   "id": "a94051ac",
   "metadata": {},
   "outputs": [
    {
     "data": {
      "text/plain": [
       "[1, 2, 3, 4, 5, 6]"
      ]
     },
     "execution_count": 141,
     "metadata": {},
     "output_type": "execute_result"
    }
   ],
   "source": [
    "l3"
   ]
  },
  {
   "cell_type": "markdown",
   "id": "d2ca2b9d",
   "metadata": {},
   "source": [
    "### Belirli Bir Elemanın Indexini Bulmak"
   ]
  },
  {
   "cell_type": "code",
   "execution_count": 142,
   "id": "f8b77603",
   "metadata": {},
   "outputs": [],
   "source": [
    "l = [1, 2, 3, 4, 3, 5, 6]"
   ]
  },
  {
   "cell_type": "code",
   "execution_count": 143,
   "id": "e9d209e1",
   "metadata": {},
   "outputs": [
    {
     "data": {
      "text/plain": [
       "[1, 2, 3, 4, 3, 5, 6]"
      ]
     },
     "execution_count": 143,
     "metadata": {},
     "output_type": "execute_result"
    }
   ],
   "source": [
    "l"
   ]
  },
  {
   "cell_type": "code",
   "execution_count": 144,
   "id": "07c52d86",
   "metadata": {},
   "outputs": [
    {
     "data": {
      "text/plain": [
       "2"
      ]
     },
     "execution_count": 144,
     "metadata": {},
     "output_type": "execute_result"
    }
   ],
   "source": [
    "# İlk hangi indexte görünüyorsa onun değerini döndürür.\n",
    "l.index(3)"
   ]
  },
  {
   "cell_type": "code",
   "execution_count": 145,
   "id": "bed55d60",
   "metadata": {},
   "outputs": [
    {
     "data": {
      "text/plain": [
       "3"
      ]
     },
     "execution_count": 145,
     "metadata": {},
     "output_type": "execute_result"
    }
   ],
   "source": [
    "l.index(4)"
   ]
  },
  {
   "cell_type": "code",
   "execution_count": 146,
   "id": "bf39686a",
   "metadata": {},
   "outputs": [
    {
     "ename": "ValueError",
     "evalue": "100 is not in list",
     "output_type": "error",
     "traceback": [
      "\u001b[1;31m---------------------------------------------------------------------------\u001b[0m",
      "\u001b[1;31mValueError\u001b[0m                                Traceback (most recent call last)",
      "Input \u001b[1;32mIn [146]\u001b[0m, in \u001b[0;36m<cell line: 2>\u001b[1;34m()\u001b[0m\n\u001b[0;32m      1\u001b[0m \u001b[38;5;66;03m# listede olmayan değerler için error verir.\u001b[39;00m\n\u001b[1;32m----> 2\u001b[0m \u001b[43ml\u001b[49m\u001b[38;5;241;43m.\u001b[39;49m\u001b[43mindex\u001b[49m\u001b[43m(\u001b[49m\u001b[38;5;241;43m100\u001b[39;49m\u001b[43m)\u001b[49m\n",
      "\u001b[1;31mValueError\u001b[0m: 100 is not in list"
     ]
    }
   ],
   "source": [
    "# listede olmayan değerler için error verir.\n",
    "l.index(100)"
   ]
  },
  {
   "cell_type": "markdown",
   "id": "3644b143",
   "metadata": {},
   "source": [
    "### List'i Tersine Çevirmek"
   ]
  },
  {
   "cell_type": "code",
   "execution_count": 147,
   "id": "83346769",
   "metadata": {},
   "outputs": [],
   "source": [
    "l = [1,2,3,4]"
   ]
  },
  {
   "cell_type": "code",
   "execution_count": 148,
   "id": "a43434cf",
   "metadata": {},
   "outputs": [],
   "source": [
    "l.reverse() \n",
    "# inplace: yani l'yi günceller."
   ]
  },
  {
   "cell_type": "code",
   "execution_count": 149,
   "id": "c54c2d27",
   "metadata": {},
   "outputs": [
    {
     "data": {
      "text/plain": [
       "[4, 3, 2, 1]"
      ]
     },
     "execution_count": 149,
     "metadata": {},
     "output_type": "execute_result"
    }
   ],
   "source": [
    "l"
   ]
  },
  {
   "cell_type": "code",
   "execution_count": 150,
   "id": "325a997d",
   "metadata": {},
   "outputs": [],
   "source": [
    "l = [1,2,3,4]    "
   ]
  },
  {
   "cell_type": "markdown",
   "id": "9831f88f",
   "metadata": {},
   "source": [
    "* Aynısını slicing mantığı ile de yapabilirdik."
   ]
  },
  {
   "cell_type": "code",
   "execution_count": 151,
   "id": "3215f6cf",
   "metadata": {},
   "outputs": [
    {
     "data": {
      "text/plain": [
       "[4, 3, 2, 1]"
      ]
     },
     "execution_count": 151,
     "metadata": {},
     "output_type": "execute_result"
    }
   ],
   "source": [
    "l[::-1]"
   ]
  },
  {
   "cell_type": "code",
   "execution_count": 152,
   "id": "449e413b",
   "metadata": {},
   "outputs": [
    {
     "data": {
      "text/plain": [
       "[1, 2, 3, 4]"
      ]
     },
     "execution_count": 152,
     "metadata": {},
     "output_type": "execute_result"
    }
   ],
   "source": [
    "l"
   ]
  },
  {
   "cell_type": "code",
   "execution_count": 153,
   "id": "3fdf162a",
   "metadata": {},
   "outputs": [],
   "source": [
    "l3 = l[::-1]"
   ]
  },
  {
   "cell_type": "code",
   "execution_count": 154,
   "id": "c34f6a7b",
   "metadata": {},
   "outputs": [
    {
     "data": {
      "text/plain": [
       "[4, 3, 2, 1]"
      ]
     },
     "execution_count": 154,
     "metadata": {},
     "output_type": "execute_result"
    }
   ],
   "source": [
    "l3"
   ]
  },
  {
   "cell_type": "code",
   "execution_count": 155,
   "id": "1da8ed7f",
   "metadata": {},
   "outputs": [
    {
     "data": {
      "text/plain": [
       "[1, 2, 3, 4]"
      ]
     },
     "execution_count": 155,
     "metadata": {},
     "output_type": "execute_result"
    }
   ],
   "source": [
    "l"
   ]
  },
  {
   "cell_type": "markdown",
   "id": "d4030661",
   "metadata": {},
   "source": [
    "* Orijinalini güncellemiyor, güncellemesi için variable assignment yapmamız lazım."
   ]
  },
  {
   "cell_type": "code",
   "execution_count": 156,
   "id": "e03f1dd8",
   "metadata": {},
   "outputs": [],
   "source": [
    "l = l[::-1]"
   ]
  },
  {
   "cell_type": "code",
   "execution_count": 157,
   "id": "61cce721",
   "metadata": {},
   "outputs": [
    {
     "data": {
      "text/plain": [
       "[4, 3, 2, 1]"
      ]
     },
     "execution_count": 157,
     "metadata": {},
     "output_type": "execute_result"
    }
   ],
   "source": [
    "l"
   ]
  },
  {
   "cell_type": "markdown",
   "id": "d11c7a2c",
   "metadata": {},
   "source": [
    "### List'in Elemanlarını Sıralamak (sorting)"
   ]
  },
  {
   "cell_type": "markdown",
   "id": "e8748490",
   "metadata": {},
   "source": [
    "* sorted() orijinal listeyi güncellemez.\n",
    "* sorted() ve .sort() a bakacağız. İkisi de default olarak küçükten büyüğe sıralar. Sayısal verilerde sayısal değerine göre, stringlerde alfabetik sıraya göre sıralar."
   ]
  },
  {
   "cell_type": "code",
   "execution_count": 158,
   "id": "123bd1ef",
   "metadata": {},
   "outputs": [],
   "source": [
    "l = [\"b\",\"a\",\"c\"]"
   ]
  },
  {
   "cell_type": "code",
   "execution_count": 159,
   "id": "a4033774",
   "metadata": {},
   "outputs": [
    {
     "data": {
      "text/plain": [
       "['a', 'b', 'c']"
      ]
     },
     "execution_count": 159,
     "metadata": {},
     "output_type": "execute_result"
    }
   ],
   "source": [
    "sorted(l)"
   ]
  },
  {
   "cell_type": "code",
   "execution_count": 160,
   "id": "0fb9b752",
   "metadata": {},
   "outputs": [
    {
     "data": {
      "text/plain": [
       "['b', 'a', 'c']"
      ]
     },
     "execution_count": 160,
     "metadata": {},
     "output_type": "execute_result"
    }
   ],
   "source": [
    "l"
   ]
  },
  {
   "cell_type": "code",
   "execution_count": 161,
   "id": "96ca8d68",
   "metadata": {},
   "outputs": [
    {
     "data": {
      "text/plain": [
       "['b', 'a', 'c']"
      ]
     },
     "execution_count": 161,
     "metadata": {},
     "output_type": "execute_result"
    }
   ],
   "source": [
    "['b', 'a', 'c']"
   ]
  },
  {
   "cell_type": "code",
   "execution_count": 162,
   "id": "ea60086f",
   "metadata": {},
   "outputs": [],
   "source": [
    "l3 = sorted(l)"
   ]
  },
  {
   "cell_type": "code",
   "execution_count": 163,
   "id": "245a41ee",
   "metadata": {},
   "outputs": [
    {
     "data": {
      "text/plain": [
       "['a', 'b', 'c']"
      ]
     },
     "execution_count": 163,
     "metadata": {},
     "output_type": "execute_result"
    }
   ],
   "source": [
    "l3"
   ]
  },
  {
   "cell_type": "markdown",
   "id": "f56b4321",
   "metadata": {},
   "source": [
    "* .sort() günceller"
   ]
  },
  {
   "cell_type": "code",
   "execution_count": 175,
   "id": "5ba6c0c2",
   "metadata": {},
   "outputs": [],
   "source": [
    "l = [\"b\",\"a\",\"c\"]"
   ]
  },
  {
   "cell_type": "code",
   "execution_count": 176,
   "id": "e7009707",
   "metadata": {},
   "outputs": [],
   "source": [
    "l.sort() \n",
    "# inplace"
   ]
  },
  {
   "cell_type": "code",
   "execution_count": 177,
   "id": "b9ef51f2",
   "metadata": {},
   "outputs": [
    {
     "data": {
      "text/plain": [
       "['a', 'b', 'c']"
      ]
     },
     "execution_count": 177,
     "metadata": {},
     "output_type": "execute_result"
    }
   ],
   "source": [
    "l"
   ]
  },
  {
   "cell_type": "code",
   "execution_count": 178,
   "id": "403085f2",
   "metadata": {},
   "outputs": [],
   "source": [
    "l = [1,2,10,3,-1]"
   ]
  },
  {
   "cell_type": "code",
   "execution_count": 179,
   "id": "c3165063",
   "metadata": {},
   "outputs": [
    {
     "data": {
      "text/plain": [
       "[-1, 1, 2, 3, 10]"
      ]
     },
     "execution_count": 179,
     "metadata": {},
     "output_type": "execute_result"
    }
   ],
   "source": [
    "sorted(l)"
   ]
  },
  {
   "cell_type": "code",
   "execution_count": 180,
   "id": "b5a2319d",
   "metadata": {},
   "outputs": [
    {
     "data": {
      "text/plain": [
       "[1, 2, 10, 3, -1]"
      ]
     },
     "execution_count": 180,
     "metadata": {},
     "output_type": "execute_result"
    }
   ],
   "source": [
    "l"
   ]
  },
  {
   "cell_type": "code",
   "execution_count": 181,
   "id": "03813dd6",
   "metadata": {},
   "outputs": [],
   "source": [
    "# küçükten büyüğe sıralar\n",
    "l.sort()"
   ]
  },
  {
   "cell_type": "code",
   "execution_count": 182,
   "id": "f848b7f1",
   "metadata": {},
   "outputs": [
    {
     "data": {
      "text/plain": [
       "[-1, 1, 2, 3, 10]"
      ]
     },
     "execution_count": 182,
     "metadata": {},
     "output_type": "execute_result"
    }
   ],
   "source": [
    "l"
   ]
  },
  {
   "cell_type": "code",
   "execution_count": 183,
   "id": "2607f767",
   "metadata": {},
   "outputs": [],
   "source": [
    "l = [\"b\",\"a\",\"c\",\"1\",\"3\",\"4\"]"
   ]
  },
  {
   "cell_type": "code",
   "execution_count": 184,
   "id": "3b907a99",
   "metadata": {},
   "outputs": [],
   "source": [
    "l.sort()"
   ]
  },
  {
   "cell_type": "code",
   "execution_count": 185,
   "id": "25759cd6",
   "metadata": {},
   "outputs": [
    {
     "data": {
      "text/plain": [
       "['1', '3', '4', 'a', 'b', 'c']"
      ]
     },
     "execution_count": 185,
     "metadata": {},
     "output_type": "execute_result"
    }
   ],
   "source": [
    "l"
   ]
  },
  {
   "cell_type": "code",
   "execution_count": 186,
   "id": "1aab23e7",
   "metadata": {},
   "outputs": [],
   "source": [
    "l = [1,3.1,2,0.6]"
   ]
  },
  {
   "cell_type": "code",
   "execution_count": 187,
   "id": "102fdfce",
   "metadata": {},
   "outputs": [],
   "source": [
    "l.sort()"
   ]
  },
  {
   "cell_type": "code",
   "execution_count": 188,
   "id": "e1e93574",
   "metadata": {},
   "outputs": [
    {
     "data": {
      "text/plain": [
       "[0.6, 1, 2, 3.1]"
      ]
     },
     "execution_count": 188,
     "metadata": {},
     "output_type": "execute_result"
    }
   ],
   "source": [
    "l"
   ]
  },
  {
   "cell_type": "code",
   "execution_count": 189,
   "id": "2a3fd25d",
   "metadata": {},
   "outputs": [],
   "source": [
    "l = [\"b\",\"a\",\"c\",1,2]"
   ]
  },
  {
   "cell_type": "code",
   "execution_count": 190,
   "id": "0ec256ee",
   "metadata": {},
   "outputs": [
    {
     "ename": "TypeError",
     "evalue": "'<' not supported between instances of 'int' and 'str'",
     "output_type": "error",
     "traceback": [
      "\u001b[1;31m---------------------------------------------------------------------------\u001b[0m",
      "\u001b[1;31mTypeError\u001b[0m                                 Traceback (most recent call last)",
      "Input \u001b[1;32mIn [190]\u001b[0m, in \u001b[0;36m<cell line: 1>\u001b[1;34m()\u001b[0m\n\u001b[1;32m----> 1\u001b[0m \u001b[43ml\u001b[49m\u001b[38;5;241;43m.\u001b[39;49m\u001b[43msort\u001b[49m\u001b[43m(\u001b[49m\u001b[43m)\u001b[49m\n",
      "\u001b[1;31mTypeError\u001b[0m: '<' not supported between instances of 'int' and 'str'"
     ]
    }
   ],
   "source": [
    "l.sort()"
   ]
  },
  {
   "cell_type": "code",
   "execution_count": 191,
   "id": "f01866a8",
   "metadata": {},
   "outputs": [],
   "source": [
    "l = [\"b\",\"a\",\"c\",\"1\",\"3.5\",\"4\",\"5.6\", \"0.6\"]"
   ]
  },
  {
   "cell_type": "code",
   "execution_count": 192,
   "id": "38b31e04",
   "metadata": {},
   "outputs": [],
   "source": [
    "l.sort()"
   ]
  },
  {
   "cell_type": "code",
   "execution_count": 193,
   "id": "26979656",
   "metadata": {},
   "outputs": [
    {
     "data": {
      "text/plain": [
       "['0.6', '1', '3.5', '4', '5.6', 'a', 'b', 'c']"
      ]
     },
     "execution_count": 193,
     "metadata": {},
     "output_type": "execute_result"
    }
   ],
   "source": [
    "l"
   ]
  },
  {
   "cell_type": "code",
   "execution_count": 194,
   "id": "ea307490",
   "metadata": {},
   "outputs": [
    {
     "data": {
      "text/plain": [
       "[[1, -20, 3], [2, -200, -3]]"
      ]
     },
     "execution_count": 194,
     "metadata": {},
     "output_type": "execute_result"
    }
   ],
   "source": [
    "l = [[1,-20,3], [2,-200,-3]]\n",
    "l.sort()\n",
    "l"
   ]
  },
  {
   "cell_type": "code",
   "execution_count": 195,
   "id": "6560a0a2",
   "metadata": {},
   "outputs": [],
   "source": [
    "l = [[10,-20,-3], [2,-2,3]]"
   ]
  },
  {
   "cell_type": "code",
   "execution_count": 196,
   "id": "4adfb682",
   "metadata": {},
   "outputs": [],
   "source": [
    "l.sort()"
   ]
  },
  {
   "cell_type": "code",
   "execution_count": 197,
   "id": "f665bb6d",
   "metadata": {},
   "outputs": [
    {
     "data": {
      "text/plain": [
       "[[2, -2, 3], [10, -20, -3]]"
      ]
     },
     "execution_count": 197,
     "metadata": {},
     "output_type": "execute_result"
    }
   ],
   "source": [
    "l"
   ]
  },
  {
   "cell_type": "code",
   "execution_count": 199,
   "id": "fa7bb62d",
   "metadata": {},
   "outputs": [],
   "source": [
    "l = [[10,-20,-3], [10,-25,3]]"
   ]
  },
  {
   "cell_type": "code",
   "execution_count": 200,
   "id": "e47bd201",
   "metadata": {},
   "outputs": [],
   "source": [
    "l.sort()"
   ]
  },
  {
   "cell_type": "code",
   "execution_count": 201,
   "id": "e32af31e",
   "metadata": {},
   "outputs": [
    {
     "data": {
      "text/plain": [
       "[[10, -25, 3], [10, -20, -3]]"
      ]
     },
     "execution_count": 201,
     "metadata": {},
     "output_type": "execute_result"
    }
   ],
   "source": [
    "l"
   ]
  },
  {
   "cell_type": "code",
   "execution_count": 202,
   "id": "770c3371",
   "metadata": {},
   "outputs": [],
   "source": [
    "l = [[\"a\", \"b\", \"c\"], [2,-200,-3]]"
   ]
  },
  {
   "cell_type": "code",
   "execution_count": 203,
   "id": "0a7a6b8e",
   "metadata": {},
   "outputs": [
    {
     "ename": "TypeError",
     "evalue": "'<' not supported between instances of 'int' and 'str'",
     "output_type": "error",
     "traceback": [
      "\u001b[1;31m---------------------------------------------------------------------------\u001b[0m",
      "\u001b[1;31mTypeError\u001b[0m                                 Traceback (most recent call last)",
      "Input \u001b[1;32mIn [203]\u001b[0m, in \u001b[0;36m<cell line: 1>\u001b[1;34m()\u001b[0m\n\u001b[1;32m----> 1\u001b[0m \u001b[43ml\u001b[49m\u001b[38;5;241;43m.\u001b[39;49m\u001b[43msort\u001b[49m\u001b[43m(\u001b[49m\u001b[43m)\u001b[49m\n",
      "\u001b[1;31mTypeError\u001b[0m: '<' not supported between instances of 'int' and 'str'"
     ]
    }
   ],
   "source": [
    "l.sort()"
   ]
  },
  {
   "cell_type": "code",
   "execution_count": 204,
   "id": "973864b9",
   "metadata": {},
   "outputs": [
    {
     "data": {
      "text/plain": [
       "[['a', 'b', 'c'], [2, -200, -3]]"
      ]
     },
     "execution_count": 204,
     "metadata": {},
     "output_type": "execute_result"
    }
   ],
   "source": [
    "l"
   ]
  },
  {
   "cell_type": "code",
   "execution_count": 205,
   "id": "77c7f97a",
   "metadata": {},
   "outputs": [],
   "source": [
    "l = [[200, \"b\", \"c\"], [2,-200,-3,10]]"
   ]
  },
  {
   "cell_type": "code",
   "execution_count": 206,
   "id": "b86108f0",
   "metadata": {},
   "outputs": [],
   "source": [
    "l.sort()"
   ]
  },
  {
   "cell_type": "code",
   "execution_count": 207,
   "id": "8b60218c",
   "metadata": {},
   "outputs": [
    {
     "data": {
      "text/plain": [
       "[[2, -200, -3, 10], [200, 'b', 'c']]"
      ]
     },
     "execution_count": 207,
     "metadata": {},
     "output_type": "execute_result"
    }
   ],
   "source": [
    "l"
   ]
  },
  {
   "cell_type": "code",
   "execution_count": 208,
   "id": "b0f6feb3",
   "metadata": {},
   "outputs": [],
   "source": [
    "l = [[200, \"b\", \"c\"], [200,-200,-3,10]]"
   ]
  },
  {
   "cell_type": "code",
   "execution_count": 209,
   "id": "4845025b",
   "metadata": {},
   "outputs": [
    {
     "ename": "TypeError",
     "evalue": "'<' not supported between instances of 'int' and 'str'",
     "output_type": "error",
     "traceback": [
      "\u001b[1;31m---------------------------------------------------------------------------\u001b[0m",
      "\u001b[1;31mTypeError\u001b[0m                                 Traceback (most recent call last)",
      "Input \u001b[1;32mIn [209]\u001b[0m, in \u001b[0;36m<cell line: 1>\u001b[1;34m()\u001b[0m\n\u001b[1;32m----> 1\u001b[0m \u001b[43ml\u001b[49m\u001b[38;5;241;43m.\u001b[39;49m\u001b[43msort\u001b[49m\u001b[43m(\u001b[49m\u001b[43m)\u001b[49m\n",
      "\u001b[1;31mTypeError\u001b[0m: '<' not supported between instances of 'int' and 'str'"
     ]
    }
   ],
   "source": [
    "l.sort()"
   ]
  },
  {
   "cell_type": "code",
   "execution_count": null,
   "id": "06230b24",
   "metadata": {},
   "outputs": [],
   "source": []
  }
 ],
 "metadata": {
  "kernelspec": {
   "display_name": "Python 3 (ipykernel)",
   "language": "python",
   "name": "python3"
  },
  "language_info": {
   "codemirror_mode": {
    "name": "ipython",
    "version": 3
   },
   "file_extension": ".py",
   "mimetype": "text/x-python",
   "name": "python",
   "nbconvert_exporter": "python",
   "pygments_lexer": "ipython3",
   "version": "3.10.5"
  }
 },
 "nbformat": 4,
 "nbformat_minor": 5
}
