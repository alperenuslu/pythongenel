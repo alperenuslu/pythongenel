{
 "cells": [
  {
   "cell_type": "markdown",
   "id": "51e538f6",
   "metadata": {},
   "source": [
    "# If-else-elif"
   ]
  },
  {
   "cell_type": "markdown",
   "id": "d5b723e0",
   "metadata": {},
   "source": [
    "   # if"
   ]
  },
  {
   "cell_type": "markdown",
   "id": "a4817b65",
   "metadata": {},
   "source": [
    "* Eğer testimin değeri True ise if bloğunun içinde yazanı yapacağız.\n",
    "* Yapılacakların if bloğuna ait olduğunu anlatmak için kodu if in içine yazarız. Python'ın o bloğun içinde olduğumuzu anlaması için boşluk bırakmamız gerekir."
   ]
  },
  {
   "cell_type": "code",
   "execution_count": 3,
   "id": "18502050",
   "metadata": {},
   "outputs": [
    {
     "name": "stdout",
     "output_type": "stream",
     "text": [
      "Bir sayı girin: 3\n",
      "Programınız sona ulaştı\n"
     ]
    }
   ],
   "source": [
    "x = int(input(\"Bir sayı girin: \"))\n",
    "\n",
    "if x % 2 == 0: \n",
    "    print(\"Sayınız çift sayı\")\n",
    "\n",
    "print(\"Programınız sona ulaştı\")"
   ]
  },
  {
   "cell_type": "markdown",
   "id": "a8ae9d12",
   "metadata": {},
   "source": [
    "# else"
   ]
  },
  {
   "cell_type": "markdown",
   "id": "e8e58490",
   "metadata": {},
   "source": [
    "* if ile kontrolümüz (veya elseif-elif) False sonucu döndürülürse yapılacak blok:"
   ]
  },
  {
   "cell_type": "code",
   "execution_count": 6,
   "id": "fd682655",
   "metadata": {},
   "outputs": [
    {
     "name": "stdout",
     "output_type": "stream",
     "text": [
      "Bir sayı girin: 4\n",
      "Sayınız çift sayı\n",
      "Programınız sona ulaştı\n"
     ]
    }
   ],
   "source": [
    "x = int(input(\"Bir sayı girin: \"))\n",
    "\n",
    "if x % 2 == 0:\n",
    "    print(\"Sayınız çift sayı\")\n",
    "else:\n",
    "    print(\"Sayınız tek sayı\")\n",
    "\n",
    "print(\"Programınız sona ulaştı\")"
   ]
  },
  {
   "cell_type": "markdown",
   "id": "47ec22c8",
   "metadata": {},
   "source": [
    "# elif"
   ]
  },
  {
   "cell_type": "markdown",
   "id": "4884f2ae",
   "metadata": {},
   "source": [
    "* elif if ile yaptığımız teste ek olarak başka testler yapmak istiyorsak kullanılır."
   ]
  },
  {
   "cell_type": "code",
   "execution_count": 9,
   "id": "2f838683",
   "metadata": {},
   "outputs": [
    {
     "name": "stdout",
     "output_type": "stream",
     "text": [
      "Bir sayı girin: 11\n",
      "Sayı 10'dan büyük\n",
      "Programınız sona ulaştı\n"
     ]
    }
   ],
   "source": [
    "x = int(input(\"Bir sayı girin: \"))\n",
    "\n",
    "if x < 10:\n",
    "    print(\"Sayı 10'dan küçük\")\n",
    "\n",
    "    \n",
    "elif x == 10:\n",
    "    print(\"Sayı 10'a eşit\")\n",
    "    \n",
    "else:\n",
    "    print(\"Sayı 10'dan büyük\")\n",
    "    \n",
    "print(\"Programınız sona ulaştı\")"
   ]
  },
  {
   "cell_type": "code",
   "execution_count": 11,
   "id": "c06cff4b",
   "metadata": {},
   "outputs": [
    {
     "name": "stdout",
     "output_type": "stream",
     "text": [
      "0 ile 100 arasında bir sayı girin: 79\n",
      "Sayı 80'den küçük\n",
      "Programınız sona ulaştı\n"
     ]
    }
   ],
   "source": [
    "x = int(input(\"0 ile 100 arasında bir sayı girin: \"))\n",
    "\n",
    "if x == 100:\n",
    "    print(\"Sayı 100\")\n",
    "\n",
    "elif x >= 90:\n",
    "    print(\"Sayı 90 ile 100 arasında\")\n",
    "\n",
    "elif x >= 80:\n",
    "    print(\"Sayı 80 ile 90 arasında\")\n",
    "    \n",
    "else:\n",
    "    print(\"Sayı 80'den küçük\")\n",
    "    \n",
    "print(\"Programınız sona ulaştı\")"
   ]
  },
  {
   "cell_type": "markdown",
   "id": "af207e3a",
   "metadata": {},
   "source": [
    "# nested if"
   ]
  },
  {
   "cell_type": "markdown",
   "id": "ac5011fb",
   "metadata": {},
   "source": [
    "* if, elif ve else bloğunun içine yazdığımız kod normal koddan farklı değil, o yüzden bunların içine de ayrıca if, elif ve else yazabiliriz."
   ]
  },
  {
   "cell_type": "code",
   "execution_count": 13,
   "id": "191661e8",
   "metadata": {},
   "outputs": [
    {
     "name": "stdout",
     "output_type": "stream",
     "text": [
      "Bir sayı girin: 9\n",
      "Sayı 3'e bölünüyor ama 2'ye bölünmüyor\n",
      "Programınız sona ulaştı\n"
     ]
    }
   ],
   "source": [
    "x = int(input(\"Bir sayı girin: \"))\n",
    "\n",
    "if x % 3 == 0:\n",
    "    if x % 2 == 0:\n",
    "        print(\"Sayı hem 2'ye hem de 3'e bölünüyor\")\n",
    "    else:\n",
    "        print(\"Sayı 3'e bölünüyor ama 2'ye bölünmüyor\")\n",
    "\n",
    "else:\n",
    "    \n",
    "    print(\"3'e bölünmüyor\")\n",
    "    \n",
    "print(\"Programınız sona ulaştı\")"
   ]
  },
  {
   "cell_type": "code",
   "execution_count": 20,
   "id": "2b3bc648",
   "metadata": {},
   "outputs": [
    {
     "name": "stdout",
     "output_type": "stream",
     "text": [
      "Bir sayı girin: 11\n",
      "Programınız sona ulaştı\n"
     ]
    }
   ],
   "source": [
    "x = int(input(\"Bir sayı girin: \"))\n",
    "\n",
    "if (x % 3 == 0) and (x % 2) == 0:\n",
    "    print(\"Sayı hem 2'ye hem de 3'e bölünüyor\")\n",
    "    \n",
    "print(\"Programınız sona ulaştı\")"
   ]
  },
  {
   "cell_type": "code",
   "execution_count": 21,
   "id": "843383cc",
   "metadata": {},
   "outputs": [
    {
     "name": "stdout",
     "output_type": "stream",
     "text": [
      "Programınız sona ulaştı\n"
     ]
    }
   ],
   "source": [
    "if (x % 3 == 0) or (x % 2 == 0):\n",
    "    print(\"Sayı 2 veya 3'den en az birine bölünüyor\")\n",
    "    \n",
    "print(\"Programınız sona ulaştı\")"
   ]
  },
  {
   "cell_type": "markdown",
   "id": "a6dbb3cf",
   "metadata": {},
   "source": [
    "# Ternary Conditionals"
   ]
  },
  {
   "cell_type": "markdown",
   "id": "65276935",
   "metadata": {},
   "source": [
    "* Ternary Conditionals aslında daha önce yapamadığımız bir şeyi yapabilmemize olanak sağlamayacak. if-else mantığını tek satırda kullanıp döndürülecek, sonucu ona göre belirlememizi sağlayacak.\n",
    "* Diyelim ki belirli bir durumu test edip, x değişkeninin değerini bu testin sonucuna göre belirlemek istiyorum. Soruya cevabım \"y\" olursa değeri 2'ye, yoksa 0'a eşitleyeceğim."
   ]
  },
  {
   "cell_type": "code",
   "execution_count": 23,
   "id": "408fc375",
   "metadata": {},
   "outputs": [
    {
     "name": "stdout",
     "output_type": "stream",
     "text": [
      "x in değeri 2 olsun mu? y/nn\n",
      "0\n"
     ]
    }
   ],
   "source": [
    "# cevap olarak \"y\" (yes->evet) veya \"n\"(no->hayır) vereceğiz\n",
    "cevap = input(\"x in değeri 2 olsun mu? y/n\")\n",
    "\n",
    "if cevap == \"y\": # cevap == \"y\" testimiz oluyor\n",
    "    x = 2\n",
    "else:\n",
    "    x = 0\n",
    "\n",
    "print(x)"
   ]
  },
  {
   "cell_type": "code",
   "execution_count": 30,
   "id": "051b2007",
   "metadata": {},
   "outputs": [
    {
     "name": "stdout",
     "output_type": "stream",
     "text": [
      "x in değeri 2 olsun mu? y/ny\n"
     ]
    }
   ],
   "source": [
    "cevap = input(\"x in değeri 2 olsun mu? y/n\")"
   ]
  },
  {
   "cell_type": "code",
   "execution_count": 31,
   "id": "58d1fdc1",
   "metadata": {},
   "outputs": [],
   "source": [
    "x = 2 if cevap==\"y\" else 0"
   ]
  },
  {
   "cell_type": "code",
   "execution_count": 32,
   "id": "7c9f116e",
   "metadata": {},
   "outputs": [
    {
     "name": "stdout",
     "output_type": "stream",
     "text": [
      "2\n"
     ]
    }
   ],
   "source": [
    "print(x)"
   ]
  },
  {
   "cell_type": "code",
   "execution_count": 37,
   "id": "dcf85d28",
   "metadata": {},
   "outputs": [
    {
     "name": "stdout",
     "output_type": "stream",
     "text": [
      "x in değeri 2 olsun mu? y/ny\n"
     ]
    }
   ],
   "source": [
    "cevap = input(\"x in değeri 2 olsun mu? y/n\")"
   ]
  },
  {
   "cell_type": "code",
   "execution_count": 38,
   "id": "52b86993",
   "metadata": {},
   "outputs": [],
   "source": [
    "condition = cevap == \"y\""
   ]
  },
  {
   "cell_type": "code",
   "execution_count": 39,
   "id": "2330c2e9",
   "metadata": {},
   "outputs": [],
   "source": [
    "x = 2 if condition else 0"
   ]
  },
  {
   "cell_type": "code",
   "execution_count": 40,
   "id": "383c93cb",
   "metadata": {},
   "outputs": [
    {
     "data": {
      "text/plain": [
       "2"
      ]
     },
     "execution_count": 40,
     "metadata": {},
     "output_type": "execute_result"
    }
   ],
   "source": [
    "x"
   ]
  },
  {
   "cell_type": "markdown",
   "id": "28c622bd",
   "metadata": {},
   "source": [
    "# While"
   ]
  },
  {
   "cell_type": "markdown",
   "id": "454c67f5",
   "metadata": {},
   "source": [
    "* while döngüsünün içinde yazdığım yapı belirttiğim ifade doğru olduğu sürece çalışacak."
   ]
  },
  {
   "cell_type": "markdown",
   "id": "cfed1270",
   "metadata": {},
   "source": [
    "* while' da da if'te olduğu gibi bir test mantığı var aslında. Testimiz doğru çıktığı sürece while bloğunun içindeki kodları tekrarlıyorum."
   ]
  },
  {
   "cell_type": "markdown",
   "id": "04aca905",
   "metadata": {},
   "source": [
    "* while'ın içindeki kodu python anlasın diye, if te yaptığımız gibi iç kısmına boşluk bırakarak yazacağız."
   ]
  },
  {
   "cell_type": "markdown",
   "id": "54eb392c",
   "metadata": {},
   "source": [
    "* Örnek olarak kullanıcıdan pozitif bir sayı bekleyen, negatif sayı girildikçe bir daha soran bir yapıyı düşünelim. Burada bir döngü mantığına ihtiyacımız var çünkü kullanıcının kaç defa negatif sayı gireceğiini önceden bilmiyoruz."
   ]
  },
  {
   "cell_type": "code",
   "execution_count": 4,
   "id": "e50212c5",
   "metadata": {},
   "outputs": [
    {
     "name": "stdout",
     "output_type": "stream",
     "text": [
      "Bir sayı girin:-4\n",
      "Sayı negatif, lütfen pozitif bir sayı girin.\n",
      "Bir sayı girin:-5\n",
      "Sayı negatif, lütfen pozitif bir sayı girin.\n",
      "Bir sayı girin:-5\n",
      "Sayı negatif, lütfen pozitif bir sayı girin.\n",
      "Bir sayı girin:6\n",
      "sayınız pozitif ve 6\n"
     ]
    }
   ],
   "source": [
    "x = int(input(\"Bir sayı girin:\"))\n",
    "while x < 0:\n",
    "    print(\"Sayı negatif, lütfen pozitif bir sayı girin.\")\n",
    "    x = int(input(\"Bir sayı girin:\"))\n",
    "print(\"sayınız pozitif ve\",x)"
   ]
  },
  {
   "cell_type": "code",
   "execution_count": 7,
   "id": "b1129182",
   "metadata": {},
   "outputs": [
    {
     "name": "stdout",
     "output_type": "stream",
     "text": [
      "0\n",
      "1\n",
      "2\n"
     ]
    }
   ],
   "source": [
    "x = 0 \n",
    "while x<3:\n",
    "    print(x)\n",
    "    x = x+1"
   ]
  },
  {
   "cell_type": "markdown",
   "id": "d921d4d5",
   "metadata": {},
   "source": [
    "* Diyelim ki 0 dan 100 e kadar olan sayıların toplamını bulmak istiyorum ve okadar sayıyı elle yazmak istemiyorum"
   ]
  },
  {
   "cell_type": "code",
   "execution_count": 10,
   "id": "aa4921bc",
   "metadata": {},
   "outputs": [
    {
     "name": "stdout",
     "output_type": "stream",
     "text": [
      "5050\n"
     ]
    }
   ],
   "source": [
    "toplam = 0\n",
    "x = 0\n",
    "while x<=100:\n",
    "    toplam += x\n",
    "    x += 1\n",
    "print(toplam)"
   ]
  },
  {
   "cell_type": "markdown",
   "id": "bcc8ba70",
   "metadata": {},
   "source": [
    "* Döngünün içinde kontrol ettiğim yapıyı güncelleyecek bir ifadenin olması lazım yoksa sonsuz döngüye girerim"
   ]
  },
  {
   "cell_type": "code",
   "execution_count": null,
   "id": "1f262c18",
   "metadata": {},
   "outputs": [],
   "source": [
    "toplam = 0\n",
    "x = 0\n",
    "while x<=100:\n",
    "    toplam += x\n",
    "    print(x)\n",
    "print(toplam)"
   ]
  },
  {
   "cell_type": "markdown",
   "id": "12b0515c",
   "metadata": {},
   "source": [
    "# For"
   ]
  },
  {
   "cell_type": "markdown",
   "id": "bdf12f23",
   "metadata": {},
   "source": [
    "* for döngüsü in'den sonra yazdığımız yapının bütün değerleri üzerinde dolanıp, eleman sayısı kadar içindeki kodu çalıştıracak. x in < obje > yapısı ile tanımlandığında, x döngünün her adımında in den sonra tanımlanan yapının elemanlarının değerlerini alacak.\n",
    "* for <değişken> in < obje >\n",
    "* for döngüsünün en başında <değişken>, < obje >'nin ilk elemanının değerini alıyor. İçindeki kod 1 kere çalışıp bittikten sonra ikinci kere çalıştırıyor ve <değişken>, < obje >'nin ikinci elemanının değerini alıyor. Bu < obje >'nin tüm elemanları bitene kadar devam ediyor."
   ]
  },
  {
   "cell_type": "code",
   "execution_count": 11,
   "id": "d0d76d45",
   "metadata": {},
   "outputs": [
    {
     "name": "stdout",
     "output_type": "stream",
     "text": [
      "h\n",
      "e\n",
      "y\n"
     ]
    }
   ],
   "source": [
    "for c in \"hey\":\n",
    "    print(c)"
   ]
  },
  {
   "cell_type": "code",
   "execution_count": 13,
   "id": "28c02541",
   "metadata": {},
   "outputs": [
    {
     "name": "stdout",
     "output_type": "stream",
     "text": [
      "5050\n"
     ]
    }
   ],
   "source": [
    "toplam = 0\n",
    "\n",
    "for x in range(101):\n",
    "    toplam += x\n",
    "print(toplam)\n"
   ]
  },
  {
   "cell_type": "code",
   "execution_count": 14,
   "id": "3f0f4f45",
   "metadata": {},
   "outputs": [
    {
     "name": "stdout",
     "output_type": "stream",
     "text": [
      "0\n",
      "1\n",
      "2\n",
      "3\n",
      "4\n"
     ]
    }
   ],
   "source": [
    "5050\n",
    "for x in range(5):\n",
    "    print(x)"
   ]
  },
  {
   "cell_type": "code",
   "execution_count": 15,
   "id": "5437ba10",
   "metadata": {},
   "outputs": [
    {
     "name": "stdout",
     "output_type": "stream",
     "text": [
      "3125\n"
     ]
    }
   ],
   "source": [
    "toplam = 1\n",
    "for i in range(5):\n",
    "    toplam *=5\n",
    "    \n",
    "print(toplam)"
   ]
  },
  {
   "cell_type": "code",
   "execution_count": 17,
   "id": "68e5c8d3",
   "metadata": {},
   "outputs": [
    {
     "name": "stdout",
     "output_type": "stream",
     "text": [
      "3125\n"
     ]
    }
   ],
   "source": [
    "# _ değer lazım olmadığında boş yerine kullanılır\n",
    "toplam = 1\n",
    "for _ in range(5):\n",
    "    toplam *=5\n",
    "    \n",
    "print(toplam)"
   ]
  },
  {
   "cell_type": "markdown",
   "id": "496e7c1b",
   "metadata": {},
   "source": [
    "# For vs while"
   ]
  },
  {
   "cell_type": "markdown",
   "id": "2c576879",
   "metadata": {},
   "source": [
    "* while yapısında kaç kere iterasyon yapacağımızı bilmiyoruz, for'da eleman sayısı kadar iterasyon var. (break veya continue ile bölünmezse)\n",
    "* Aslında for döngüsünü while döngüsünü kullanarak yazabiliriz, ama while döngüsünü for kullanarak yazamayız, çünkü for'da test mekanizması yok."
   ]
  },
  {
   "cell_type": "code",
   "execution_count": null,
   "id": "12c9e18b",
   "metadata": {},
   "outputs": [],
   "source": [
    "s = \"hey\""
   ]
  },
  {
   "cell_type": "code",
   "execution_count": 20,
   "id": "2918263b",
   "metadata": {},
   "outputs": [
    {
     "name": "stdout",
     "output_type": "stream",
     "text": [
      "h\n",
      "e\n",
      "y\n"
     ]
    }
   ],
   "source": [
    "for c in s:\n",
    "    print(c)\n"
   ]
  },
  {
   "cell_type": "code",
   "execution_count": 28,
   "id": "55106efd",
   "metadata": {},
   "outputs": [
    {
     "name": "stdout",
     "output_type": "stream",
     "text": [
      "h\n",
      "e\n",
      "y\n"
     ]
    }
   ],
   "source": [
    "n = len(s)\n",
    "index = 0\n",
    "\n",
    "while index < n:\n",
    "        print(s[index])\n",
    "        index += 1"
   ]
  },
  {
   "cell_type": "markdown",
   "id": "14974a37",
   "metadata": {},
   "source": [
    "# Continue-Break"
   ]
  },
  {
   "cell_type": "markdown",
   "id": "3b275e43",
   "metadata": {},
   "source": [
    "* Belki bir şart sağlandığı zaman döngüden aniden çıkmak istersek, bunu break ile sağlıyoruz.\n",
    "* break komutunu gördüğümüz yerde döngüden çıkıyoruz.\n"
   ]
  },
  {
   "cell_type": "code",
   "execution_count": 33,
   "id": "d2d330cf",
   "metadata": {},
   "outputs": [
    {
     "name": "stdout",
     "output_type": "stream",
     "text": [
      "0\n",
      "1\n",
      "2\n"
     ]
    }
   ],
   "source": [
    "for i in range(10):\n",
    "    if i == 3:\n",
    "        break\n",
    "    print(i)"
   ]
  },
  {
   "cell_type": "code",
   "execution_count": 34,
   "id": "66a52e40",
   "metadata": {},
   "outputs": [
    {
     "name": "stdout",
     "output_type": "stream",
     "text": [
      "0\n",
      "1\n",
      "2\n"
     ]
    }
   ],
   "source": [
    "x = 0\n",
    "\n",
    "while x < 10:\n",
    "\n",
    "    \n",
    "    print(x)\n",
    "    x += 1\n",
    "    \n",
    "\n",
    "    if x == 3:\n",
    "        break"
   ]
  },
  {
   "cell_type": "markdown",
   "id": "c1784aa1",
   "metadata": {},
   "source": [
    "* Bazen döngülerde bir şart sağlandığında bir sonraki iterasyondan devam etmek isteyebilirim. Bunu continue ile sağlayacağız.\n",
    "* continue komutu ile karşılaşıldığı zaman, döngünün bir sonraki iterasyonuna geçilir."
   ]
  },
  {
   "cell_type": "code",
   "execution_count": 35,
   "id": "2703930c",
   "metadata": {},
   "outputs": [
    {
     "name": "stdout",
     "output_type": "stream",
     "text": [
      "0\n",
      "1\n",
      "2\n",
      "4\n",
      "5\n",
      "6\n",
      "7\n",
      "8\n",
      "9\n"
     ]
    }
   ],
   "source": [
    "for i in range(10):\n",
    "    \n",
    "    if i == 3:\n",
    "        continue\n",
    "    print(i)"
   ]
  },
  {
   "cell_type": "code",
   "execution_count": 36,
   "id": "f4ec2ec8",
   "metadata": {},
   "outputs": [
    {
     "name": "stdout",
     "output_type": "stream",
     "text": [
      "1\n",
      "2\n",
      "4\n",
      "5\n",
      "6\n",
      "7\n",
      "8\n",
      "9\n",
      "10\n"
     ]
    }
   ],
   "source": [
    "x = 0\n",
    "\n",
    "while x < 10:\n",
    "    \n",
    "    x += 1\n",
    "    \n",
    "    if x == 3:\n",
    "        continue\n",
    "    \n",
    "    print(x)"
   ]
  },
  {
   "cell_type": "code",
   "execution_count": null,
   "id": "456a6e9c",
   "metadata": {},
   "outputs": [
    {
     "name": "stdout",
     "output_type": "stream",
     "text": [
      "i:  0\n",
      "i:  1\n",
      "i:  2\n"
     ]
    }
   ],
   "source": [
    "i=0\n",
    "while(i<10):\n",
    "    if(i==3 or i==5):\n",
    "      continue\n",
    "    print(\"i: \",i)\n",
    "    i=i+1"
   ]
  },
  {
   "cell_type": "code",
   "execution_count": null,
   "id": "e7b9f59c",
   "metadata": {},
   "outputs": [],
   "source": []
  }
 ],
 "metadata": {
  "kernelspec": {
   "display_name": "Python 3 (ipykernel)",
   "language": "python",
   "name": "python3"
  },
  "language_info": {
   "codemirror_mode": {
    "name": "ipython",
    "version": 3
   },
   "file_extension": ".py",
   "mimetype": "text/x-python",
   "name": "python",
   "nbconvert_exporter": "python",
   "pygments_lexer": "ipython3",
   "version": "3.10.5"
  }
 },
 "nbformat": 4,
 "nbformat_minor": 5
}
